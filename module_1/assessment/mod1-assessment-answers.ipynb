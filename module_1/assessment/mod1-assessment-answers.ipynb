{
 "cells": [
  {
   "cell_type": "code",
   "execution_count": null,
   "metadata": {},
   "outputs": [],
   "source": [
    "import pandas as pd\n",
    "import numpy as np\n",
    "import matplotlib.pyplot as plt\n",
    "%matplotlib inline"
   ]
  },
  {
   "cell_type": "markdown",
   "metadata": {},
   "source": [
    "## Loops & Dictionaries (10 minutes)\n",
    "Create a nested dictionary of recipes, with keys at the top level and dictionaries as their associated values.\n",
    "\n",
    "1. Create an empty dictionary named `recipes`.\n",
    "1. Add three dishes as the **keys** of your dictionary (e.g. 'meat pie')\n",
    "1. For each key, the **value** should be another dictionary consisting of `ingredient: amount` pairs. (eg `'sugar': 'two cups'`) Each dish should have three ingredients.\n",
    "1. Write a function to process the recipe dictionary. This function should loop through the recipes and return a single list of all ingredients for all recipes."
   ]
  },
  {
   "cell_type": "code",
   "execution_count": null,
   "metadata": {},
   "outputs": [],
   "source": [
    "# 1\n",
    "recipes = {}\n",
    "\n",
    "#2, 3\n",
    "recipes['dish1'] = {'ingredient1a': 'amount1a',\n",
    "                    'ingredient1b': 'amount1b',\n",
    "                    'ingredient1c': 'amount1c'}\n",
    "recipes['dish2'] = {'ingredient2a': 'amount2a',\n",
    "                    'ingredient2b': 'amount2b',\n",
    "                    'ingredient2c': 'amount2c'}\n",
    "recipes['dish3'] = {'ingredient3a': 'amount3a',\n",
    "                    'ingredient3b': 'amount3b',\n",
    "                    'ingredient3c': 'amount3c'}\n",
    "\n",
    "# 4\n",
    "def process_recipes(recipes):\n",
    "    all_ingredients = []\n",
    "    for ingredients in recipes.values():\n",
    "        for k, v in ingredients.items():\n",
    "            all_ingredients.append(f\"{v} of {k}\")  # or similar\n",
    "    return all_ingredients\n",
    "\n",
    "process_recipes(recipes)"
   ]
  },
  {
   "cell_type": "code",
   "execution_count": null,
   "metadata": {},
   "outputs": [],
   "source": [
    "# 4 Bonus - one liner (neat but not recommended!)\n",
    "def process_recipes_oneline(recipes):\n",
    "    return [f\"{v} of {k}\" for ingredients in recipes.values() for k,v in ingredients.items()]\n",
    "process_recipes_oneline(recipes)"
   ]
  },
  {
   "cell_type": "markdown",
   "metadata": {},
   "source": [
    "## Coding Readibility (5 Minutes)\n",
    "Rewrite the code below in using best practices:\n",
    "```python\n",
    "def blabla():\n",
    "for i in range ( 10 ):for j in range( 10 ):for k in range(10): print( i,j,k ) return everything\n",
    "```"
   ]
  },
  {
   "cell_type": "code",
   "execution_count": null,
   "metadata": {},
   "outputs": [],
   "source": [
    "def digits_one_to_999():\n",
    "    \"\"\"\n",
    "    Docstring\n",
    "    \"\"\"\n",
    "    all_nums = []\n",
    "    for hundreds in range(10):\n",
    "        for tens in range(10):\n",
    "            for ones in range(10):\n",
    "                print(hundreds, tens, ones)\n",
    "                all_nums.append((hundreds, tens, ones))\n",
    "    return all_nums"
   ]
  },
  {
   "cell_type": "code",
   "execution_count": null,
   "metadata": {},
   "outputs": [],
   "source": [
    "x = digits_one_to_999()"
   ]
  },
  {
   "cell_type": "markdown",
   "metadata": {},
   "source": [
    "## Data cleaning (15 Minutes)\n",
    "read data from http://rattle.togaware.com/weatherAUS.csv\n",
    "1. Add a `day`, `month`, and `year` column (three new columns)\n",
    "1. Print out the name of the columns where there are missing values\n",
    "1. Drop all columns except `day`, `month`, `year`, `Rainfall`, and `Sunshine`\n",
    "1. Fill all missing `Rainfall` values as follows:\n",
    "  1. If `Sunshine` is over 7.0, set `Rainfall` = 0\n",
    "  2. Else (including if `Sunshine is NaN`) set `Rainfall` to the mean `Rainfall` value."
   ]
  },
  {
   "cell_type": "code",
   "execution_count": null,
   "metadata": {},
   "outputs": [],
   "source": [
    "df = pd.read_csv('http://rattle.togaware.com/weatherAUS.csv')"
   ]
  },
  {
   "cell_type": "code",
   "execution_count": null,
   "metadata": {},
   "outputs": [],
   "source": [
    "#1\n",
    "df['day'] = pd.to_datetime(df.Date).dt.day\n",
    "df['month'] = pd.to_datetime(df.Date).dt.month\n",
    "df['year'] = pd.to_datetime(df.Date).dt.year"
   ]
  },
  {
   "cell_type": "code",
   "execution_count": null,
   "metadata": {},
   "outputs": [],
   "source": [
    "#2\n",
    "print(*df.columns[df.isna().any()], sep='\\n')"
   ]
  },
  {
   "cell_type": "code",
   "execution_count": null,
   "metadata": {
    "scrolled": true
   },
   "outputs": [],
   "source": [
    "# 3\n",
    "keep_columns = ['day','month','year', 'Rainfall','Sunshine']\n",
    "\n",
    "df2 = df[keep_columns]\n",
    "# or\n",
    "df2 = df.drop([x for x in df.columns if x not in keep_columns], axis=1, inplace=False)"
   ]
  },
  {
   "cell_type": "code",
   "execution_count": null,
   "metadata": {},
   "outputs": [],
   "source": [
    "# 4 for missing Rainfall values\n",
    "#   1. If `Sunshine` is over 7.0, set `Rainfall` = 0\n",
    "#   2. Else (including if `Sunshine is NaN`) set `Rainfall` to the mean `Rainfall` value.\n",
    "\n",
    "\n",
    "# we need to do this up front so we're not constantly recalculating the mean\n",
    "mean = df2['Rainfall'].mean()\n",
    "\n",
    "df2.loc[(pd.isna(df2.Rainfall)) & (df2.Sunshine > 7.0), 'Rainfall'] = 0\n",
    "df2.loc[(pd.isna(df2.Rainfall)) & ((df2.Sunshine <= 7.0) | pd.isna(df2.Sunshine)), 'Rainfall'] = mean\n",
    "\n",
    "# or \n",
    "df2.loc[pd.isna(df2.Rainfall), 'Rainfall'] = (\n",
    "    df2.iloc[df2.loc[pd.isna(df2.Rainfall), 'Rainfall'].index]\n",
    "    .Sunshine.apply(lambda x: 0 if x > 7.0 else mean)\n",
    ")\n",
    "\n",
    "# or\n",
    "df2['Rainfall'].fillna(df2['Sunshine'].apply(lambda x: 0 if x > 7 else mean), inplace=True)\n"
   ]
  },
  {
   "cell_type": "code",
   "execution_count": null,
   "metadata": {},
   "outputs": [],
   "source": [
    "df2.Rainfall.isna().sum()"
   ]
  },
  {
   "cell_type": "markdown",
   "metadata": {},
   "source": [
    "## Visualization (15 Minutes)\n",
    "\n",
    "As best you can, recreate this bar chart created in Google Sheets using Python.  You may use Matplotlib, Seaborn, or any other graphing library you came across.\n",
    "<img src=\"chart.jpg\" alt=\"chart to recreate\" width=\"500\"/>"
   ]
  },
  {
   "cell_type": "code",
   "execution_count": null,
   "metadata": {},
   "outputs": [],
   "source": [
    "category = ['A', 'B', 'C', 'D', 'E']\n",
    "count = [54, 23, 99, 37, 3]\n",
    "\n",
    "fig = plt.figure(figsize=(8, 6))\n",
    "ax = fig.add_subplot(1,1,1)\n",
    "ax.set_axisbelow(True)\n",
    "plt.gca().xaxis.grid(True)\n",
    "plt.barh(y=category, width=count, color='red')\n",
    "plt.title('Count By Cateogry')\n",
    "plt.xlabel('Count')\n",
    "plt.ylabel('Category')\n",
    "plt.xticks([0, 25, 50, 75, 100])\n",
    "\n",
    "plt.show()"
   ]
  },
  {
   "cell_type": "markdown",
   "metadata": {},
   "source": [
    "## Github (5 Minutes)\n",
    "\n",
    "Follow the instructions at https://github.com/enkeboll/fis-dc-ds-060319-gifs, and make sure to check your email to confirm your collaborator status!"
   ]
  },
  {
   "cell_type": "markdown",
   "metadata": {},
   "source": [
    "# Assessment submission (2 Minutes)\n",
    "Please save this file as `firstname.ipynb` and upload it using [this form](https://docs.google.com/forms/d/e/1FAIpQLSdlnMgc5Nb5uFTmw7DiScapevg-VA8DQdiFeIAil5sZqYZbFA/viewform)"
   ]
  }
 ],
 "metadata": {
  "kernelspec": {
   "display_name": "Python 3",
   "language": "python",
   "name": "python3"
  },
  "language_info": {
   "codemirror_mode": {
    "name": "ipython",
    "version": 3
   },
   "file_extension": ".py",
   "mimetype": "text/x-python",
   "name": "python",
   "nbconvert_exporter": "python",
   "pygments_lexer": "ipython3",
   "version": "3.7.3"
  }
 },
 "nbformat": 4,
 "nbformat_minor": 2
}
