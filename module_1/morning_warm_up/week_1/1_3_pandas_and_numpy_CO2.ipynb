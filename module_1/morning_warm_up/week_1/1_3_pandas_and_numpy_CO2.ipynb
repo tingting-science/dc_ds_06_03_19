{
 "cells": [
  {
   "cell_type": "markdown",
   "metadata": {},
   "source": [
    "# Pandas and numpy - pair-up\n",
    "### Discussion session"
   ]
  },
  {
   "cell_type": "markdown",
   "metadata": {},
   "source": [
    "1. How will you read the following data into a pandas data frame ? \n",
    " ` ftp://aftp.cmdl.noaa.gov/products/trends/co2/co2_mm_mlo.txt`"
   ]
  },
  {
   "cell_type": "code",
   "execution_count": 1,
   "metadata": {},
   "outputs": [],
   "source": [
    "import numpy as np\n",
    "import pandas as pd"
   ]
  },
  {
   "cell_type": "code",
   "execution_count": 2,
   "metadata": {},
   "outputs": [],
   "source": [
    "url = 'ftp://aftp.cmdl.noaa.gov/products/trends/co2/co2_mm_mlo.txt' #file link"
   ]
  },
  {
   "cell_type": "code",
   "execution_count": 3,
   "metadata": {},
   "outputs": [],
   "source": [
    "cols = ['Year','Month','Date', 'average','interpolated','trend','days'] #col names"
   ]
  },
  {
   "cell_type": "code",
   "execution_count": 4,
   "metadata": {},
   "outputs": [],
   "source": [
    "df=pd.read_csv(url,comment='#', delim_whitespace=True, names = cols) #load file"
   ]
  },
  {
   "cell_type": "code",
   "execution_count": 5,
   "metadata": {},
   "outputs": [
    {
     "data": {
      "text/html": [
       "<div>\n",
       "<style scoped>\n",
       "    .dataframe tbody tr th:only-of-type {\n",
       "        vertical-align: middle;\n",
       "    }\n",
       "\n",
       "    .dataframe tbody tr th {\n",
       "        vertical-align: top;\n",
       "    }\n",
       "\n",
       "    .dataframe thead th {\n",
       "        text-align: right;\n",
       "    }\n",
       "</style>\n",
       "<table border=\"1\" class=\"dataframe\">\n",
       "  <thead>\n",
       "    <tr style=\"text-align: right;\">\n",
       "      <th></th>\n",
       "      <th>Year</th>\n",
       "      <th>Month</th>\n",
       "      <th>Date</th>\n",
       "      <th>average</th>\n",
       "      <th>interpolated</th>\n",
       "      <th>trend</th>\n",
       "      <th>days</th>\n",
       "    </tr>\n",
       "  </thead>\n",
       "  <tbody>\n",
       "    <tr>\n",
       "      <th>0</th>\n",
       "      <td>1958</td>\n",
       "      <td>3</td>\n",
       "      <td>1958.208</td>\n",
       "      <td>315.71</td>\n",
       "      <td>315.71</td>\n",
       "      <td>314.62</td>\n",
       "      <td>-1</td>\n",
       "    </tr>\n",
       "    <tr>\n",
       "      <th>1</th>\n",
       "      <td>1958</td>\n",
       "      <td>4</td>\n",
       "      <td>1958.292</td>\n",
       "      <td>317.45</td>\n",
       "      <td>317.45</td>\n",
       "      <td>315.29</td>\n",
       "      <td>-1</td>\n",
       "    </tr>\n",
       "    <tr>\n",
       "      <th>2</th>\n",
       "      <td>1958</td>\n",
       "      <td>5</td>\n",
       "      <td>1958.375</td>\n",
       "      <td>317.50</td>\n",
       "      <td>317.50</td>\n",
       "      <td>314.71</td>\n",
       "      <td>-1</td>\n",
       "    </tr>\n",
       "    <tr>\n",
       "      <th>3</th>\n",
       "      <td>1958</td>\n",
       "      <td>6</td>\n",
       "      <td>1958.458</td>\n",
       "      <td>-99.99</td>\n",
       "      <td>317.10</td>\n",
       "      <td>314.85</td>\n",
       "      <td>-1</td>\n",
       "    </tr>\n",
       "    <tr>\n",
       "      <th>4</th>\n",
       "      <td>1958</td>\n",
       "      <td>7</td>\n",
       "      <td>1958.542</td>\n",
       "      <td>315.86</td>\n",
       "      <td>315.86</td>\n",
       "      <td>314.98</td>\n",
       "      <td>-1</td>\n",
       "    </tr>\n",
       "  </tbody>\n",
       "</table>\n",
       "</div>"
      ],
      "text/plain": [
       "   Year  Month      Date  average  interpolated   trend  days\n",
       "0  1958      3  1958.208   315.71        315.71  314.62    -1\n",
       "1  1958      4  1958.292   317.45        317.45  315.29    -1\n",
       "2  1958      5  1958.375   317.50        317.50  314.71    -1\n",
       "3  1958      6  1958.458   -99.99        317.10  314.85    -1\n",
       "4  1958      7  1958.542   315.86        315.86  314.98    -1"
      ]
     },
     "execution_count": 5,
     "metadata": {},
     "output_type": "execute_result"
    }
   ],
   "source": [
    "df.head(5) #check"
   ]
  },
  {
   "cell_type": "markdown",
   "metadata": {},
   "source": [
    "2. How would you pick columns 0,1,3 ?  \n",
    "`[[0, 1, 3]]`"
   ]
  },
  {
   "cell_type": "code",
   "execution_count": 6,
   "metadata": {},
   "outputs": [
    {
     "data": {
      "text/plain": [
       "['Year', 'Month', 'average']"
      ]
     },
     "execution_count": 6,
     "metadata": {},
     "output_type": "execute_result"
    }
   ],
   "source": [
    "cols_sub =[df.columns[n] for n in(0,1,3)] #retrieve col list\n",
    "cols_sub"
   ]
  },
  {
   "cell_type": "code",
   "execution_count": 7,
   "metadata": {},
   "outputs": [
    {
     "data": {
      "text/html": [
       "<div>\n",
       "<style scoped>\n",
       "    .dataframe tbody tr th:only-of-type {\n",
       "        vertical-align: middle;\n",
       "    }\n",
       "\n",
       "    .dataframe tbody tr th {\n",
       "        vertical-align: top;\n",
       "    }\n",
       "\n",
       "    .dataframe thead th {\n",
       "        text-align: right;\n",
       "    }\n",
       "</style>\n",
       "<table border=\"1\" class=\"dataframe\">\n",
       "  <thead>\n",
       "    <tr style=\"text-align: right;\">\n",
       "      <th></th>\n",
       "      <th>Year</th>\n",
       "      <th>Month</th>\n",
       "      <th>average</th>\n",
       "    </tr>\n",
       "  </thead>\n",
       "  <tbody>\n",
       "    <tr>\n",
       "      <th>0</th>\n",
       "      <td>1958</td>\n",
       "      <td>3</td>\n",
       "      <td>315.71</td>\n",
       "    </tr>\n",
       "    <tr>\n",
       "      <th>1</th>\n",
       "      <td>1958</td>\n",
       "      <td>4</td>\n",
       "      <td>317.45</td>\n",
       "    </tr>\n",
       "    <tr>\n",
       "      <th>2</th>\n",
       "      <td>1958</td>\n",
       "      <td>5</td>\n",
       "      <td>317.50</td>\n",
       "    </tr>\n",
       "    <tr>\n",
       "      <th>3</th>\n",
       "      <td>1958</td>\n",
       "      <td>6</td>\n",
       "      <td>-99.99</td>\n",
       "    </tr>\n",
       "    <tr>\n",
       "      <th>4</th>\n",
       "      <td>1958</td>\n",
       "      <td>7</td>\n",
       "      <td>315.86</td>\n",
       "    </tr>\n",
       "  </tbody>\n",
       "</table>\n",
       "</div>"
      ],
      "text/plain": [
       "   Year  Month  average\n",
       "0  1958      3   315.71\n",
       "1  1958      4   317.45\n",
       "2  1958      5   317.50\n",
       "3  1958      6   -99.99\n",
       "4  1958      7   315.86"
      ]
     },
     "execution_count": 7,
     "metadata": {},
     "output_type": "execute_result"
    }
   ],
   "source": [
    "df[cols_sub].head() #check"
   ]
  },
  {
   "cell_type": "markdown",
   "metadata": {},
   "source": [
    "3. Use a for loop to find all rows where \n",
    "Co2 (column 3) enteries with the value -99.99 (these are missing values) and replace them with NaN values (try using np.nan - do you know what it is? )"
   ]
  },
  {
   "cell_type": "code",
   "execution_count": 8,
   "metadata": {},
   "outputs": [
    {
     "data": {
      "text/plain": [
       "3     -99.99\n",
       "7     -99.99\n",
       "71    -99.99\n",
       "72    -99.99\n",
       "73    -99.99\n",
       "213   -99.99\n",
       "313   -99.99\n",
       "Name: average, dtype: float64"
      ]
     },
     "execution_count": 8,
     "metadata": {},
     "output_type": "execute_result"
    }
   ],
   "source": [
    "mask = df['average'] == -99.99 #check \n",
    "df.loc[mask,'average']"
   ]
  },
  {
   "cell_type": "code",
   "execution_count": 9,
   "metadata": {},
   "outputs": [],
   "source": [
    "df['average'].replace(to_replace = -99.99, value = np.nan, inplace=True) #replace value"
   ]
  },
  {
   "cell_type": "code",
   "execution_count": 10,
   "metadata": {},
   "outputs": [
    {
     "data": {
      "text/plain": [
       "3     NaN\n",
       "7     NaN\n",
       "71    NaN\n",
       "72    NaN\n",
       "73    NaN\n",
       "213   NaN\n",
       "313   NaN\n",
       "Name: average, dtype: float64"
      ]
     },
     "execution_count": 10,
     "metadata": {},
     "output_type": "execute_result"
    }
   ],
   "source": [
    "df.loc[mask,'average'] #check"
   ]
  },
  {
   "cell_type": "markdown",
   "metadata": {},
   "source": [
    "4. Change names of columns to year, month, and CO2 (use colnames)"
   ]
  },
  {
   "cell_type": "markdown",
   "metadata": {},
   "source": [
    "strip spaces of col names\n",
    "```python\n",
    "df.columns = df.columns.str.strip()\n",
    "```"
   ]
  },
  {
   "cell_type": "code",
   "execution_count": 11,
   "metadata": {},
   "outputs": [],
   "source": [
    "df.columns = ['Year','Month','Date', 'C02_average','interpolated','trend','days'] #update col names"
   ]
  },
  {
   "cell_type": "code",
   "execution_count": 12,
   "metadata": {},
   "outputs": [
    {
     "data": {
      "text/html": [
       "<div>\n",
       "<style scoped>\n",
       "    .dataframe tbody tr th:only-of-type {\n",
       "        vertical-align: middle;\n",
       "    }\n",
       "\n",
       "    .dataframe tbody tr th {\n",
       "        vertical-align: top;\n",
       "    }\n",
       "\n",
       "    .dataframe thead th {\n",
       "        text-align: right;\n",
       "    }\n",
       "</style>\n",
       "<table border=\"1\" class=\"dataframe\">\n",
       "  <thead>\n",
       "    <tr style=\"text-align: right;\">\n",
       "      <th></th>\n",
       "      <th>Year</th>\n",
       "      <th>Month</th>\n",
       "      <th>Date</th>\n",
       "      <th>C02_average</th>\n",
       "      <th>interpolated</th>\n",
       "      <th>trend</th>\n",
       "      <th>days</th>\n",
       "    </tr>\n",
       "  </thead>\n",
       "  <tbody>\n",
       "    <tr>\n",
       "      <th>0</th>\n",
       "      <td>1958</td>\n",
       "      <td>3</td>\n",
       "      <td>1958.208</td>\n",
       "      <td>315.71</td>\n",
       "      <td>315.71</td>\n",
       "      <td>314.62</td>\n",
       "      <td>-1</td>\n",
       "    </tr>\n",
       "    <tr>\n",
       "      <th>1</th>\n",
       "      <td>1958</td>\n",
       "      <td>4</td>\n",
       "      <td>1958.292</td>\n",
       "      <td>317.45</td>\n",
       "      <td>317.45</td>\n",
       "      <td>315.29</td>\n",
       "      <td>-1</td>\n",
       "    </tr>\n",
       "    <tr>\n",
       "      <th>2</th>\n",
       "      <td>1958</td>\n",
       "      <td>5</td>\n",
       "      <td>1958.375</td>\n",
       "      <td>317.50</td>\n",
       "      <td>317.50</td>\n",
       "      <td>314.71</td>\n",
       "      <td>-1</td>\n",
       "    </tr>\n",
       "    <tr>\n",
       "      <th>3</th>\n",
       "      <td>1958</td>\n",
       "      <td>6</td>\n",
       "      <td>1958.458</td>\n",
       "      <td>NaN</td>\n",
       "      <td>317.10</td>\n",
       "      <td>314.85</td>\n",
       "      <td>-1</td>\n",
       "    </tr>\n",
       "    <tr>\n",
       "      <th>4</th>\n",
       "      <td>1958</td>\n",
       "      <td>7</td>\n",
       "      <td>1958.542</td>\n",
       "      <td>315.86</td>\n",
       "      <td>315.86</td>\n",
       "      <td>314.98</td>\n",
       "      <td>-1</td>\n",
       "    </tr>\n",
       "  </tbody>\n",
       "</table>\n",
       "</div>"
      ],
      "text/plain": [
       "   Year  Month      Date  C02_average  interpolated   trend  days\n",
       "0  1958      3  1958.208       315.71        315.71  314.62    -1\n",
       "1  1958      4  1958.292       317.45        317.45  315.29    -1\n",
       "2  1958      5  1958.375       317.50        317.50  314.71    -1\n",
       "3  1958      6  1958.458          NaN        317.10  314.85    -1\n",
       "4  1958      7  1958.542       315.86        315.86  314.98    -1"
      ]
     },
     "execution_count": 12,
     "metadata": {},
     "output_type": "execute_result"
    }
   ],
   "source": [
    "df.head() #check"
   ]
  },
  {
   "cell_type": "markdown",
   "metadata": {},
   "source": [
    "5. Add a column 'Day' and specifiy the day 15 for all enteries"
   ]
  },
  {
   "cell_type": "code",
   "execution_count": 13,
   "metadata": {},
   "outputs": [],
   "source": [
    "df.insert(len(df.columns),'Day',15) #insert col at the end"
   ]
  },
  {
   "cell_type": "code",
   "execution_count": 14,
   "metadata": {},
   "outputs": [
    {
     "data": {
      "text/html": [
       "<div>\n",
       "<style scoped>\n",
       "    .dataframe tbody tr th:only-of-type {\n",
       "        vertical-align: middle;\n",
       "    }\n",
       "\n",
       "    .dataframe tbody tr th {\n",
       "        vertical-align: top;\n",
       "    }\n",
       "\n",
       "    .dataframe thead th {\n",
       "        text-align: right;\n",
       "    }\n",
       "</style>\n",
       "<table border=\"1\" class=\"dataframe\">\n",
       "  <thead>\n",
       "    <tr style=\"text-align: right;\">\n",
       "      <th></th>\n",
       "      <th>Year</th>\n",
       "      <th>Month</th>\n",
       "      <th>Date</th>\n",
       "      <th>C02_average</th>\n",
       "      <th>interpolated</th>\n",
       "      <th>trend</th>\n",
       "      <th>days</th>\n",
       "      <th>Day</th>\n",
       "    </tr>\n",
       "  </thead>\n",
       "  <tbody>\n",
       "    <tr>\n",
       "      <th>0</th>\n",
       "      <td>1958</td>\n",
       "      <td>3</td>\n",
       "      <td>1958.208</td>\n",
       "      <td>315.71</td>\n",
       "      <td>315.71</td>\n",
       "      <td>314.62</td>\n",
       "      <td>-1</td>\n",
       "      <td>15</td>\n",
       "    </tr>\n",
       "    <tr>\n",
       "      <th>1</th>\n",
       "      <td>1958</td>\n",
       "      <td>4</td>\n",
       "      <td>1958.292</td>\n",
       "      <td>317.45</td>\n",
       "      <td>317.45</td>\n",
       "      <td>315.29</td>\n",
       "      <td>-1</td>\n",
       "      <td>15</td>\n",
       "    </tr>\n",
       "    <tr>\n",
       "      <th>2</th>\n",
       "      <td>1958</td>\n",
       "      <td>5</td>\n",
       "      <td>1958.375</td>\n",
       "      <td>317.50</td>\n",
       "      <td>317.50</td>\n",
       "      <td>314.71</td>\n",
       "      <td>-1</td>\n",
       "      <td>15</td>\n",
       "    </tr>\n",
       "    <tr>\n",
       "      <th>3</th>\n",
       "      <td>1958</td>\n",
       "      <td>6</td>\n",
       "      <td>1958.458</td>\n",
       "      <td>NaN</td>\n",
       "      <td>317.10</td>\n",
       "      <td>314.85</td>\n",
       "      <td>-1</td>\n",
       "      <td>15</td>\n",
       "    </tr>\n",
       "    <tr>\n",
       "      <th>4</th>\n",
       "      <td>1958</td>\n",
       "      <td>7</td>\n",
       "      <td>1958.542</td>\n",
       "      <td>315.86</td>\n",
       "      <td>315.86</td>\n",
       "      <td>314.98</td>\n",
       "      <td>-1</td>\n",
       "      <td>15</td>\n",
       "    </tr>\n",
       "  </tbody>\n",
       "</table>\n",
       "</div>"
      ],
      "text/plain": [
       "   Year  Month      Date  C02_average  interpolated   trend  days  Day\n",
       "0  1958      3  1958.208       315.71        315.71  314.62    -1   15\n",
       "1  1958      4  1958.292       317.45        317.45  315.29    -1   15\n",
       "2  1958      5  1958.375       317.50        317.50  314.71    -1   15\n",
       "3  1958      6  1958.458          NaN        317.10  314.85    -1   15\n",
       "4  1958      7  1958.542       315.86        315.86  314.98    -1   15"
      ]
     },
     "execution_count": 14,
     "metadata": {},
     "output_type": "execute_result"
    }
   ],
   "source": [
    "df.head() #check"
   ]
  },
  {
   "cell_type": "markdown",
   "metadata": {},
   "source": [
    "6. Add a date column according to the 'year', 'month' and 'day' columns (options: use apply with lambda or for loop together with datetime.date (make sure to import it)) \n",
    "\n",
    "**? datetime.date ?**\n",
    "\n",
    "```python\n",
    "pd.to_datetime(df[['year', 'month', 'day', 'hour', 'minute']])\n",
    "or \n",
    "pd.to_datetime(dict(year=df.Y, month=df.M, day=df.D))\n",
    "#dtype: datetime64[ns]\n",
    "#2015-02-04 02:10:00\n",
    "```"
   ]
  },
  {
   "cell_type": "code",
   "execution_count": 15,
   "metadata": {},
   "outputs": [],
   "source": [
    "from datetime import date"
   ]
  },
  {
   "cell_type": "code",
   "execution_count": 16,
   "metadata": {},
   "outputs": [],
   "source": [
    "df.insert(len(df.columns),'date',pd.to_datetime(df[['Year','Month','Day']])) #add date col"
   ]
  },
  {
   "cell_type": "code",
   "execution_count": 17,
   "metadata": {},
   "outputs": [
    {
     "name": "stdout",
     "output_type": "stream",
     "text": [
      "   Year  Month      Date  C02_average  interpolated   trend  days  Day  \\\n",
      "0  1958      3  1958.208       315.71        315.71  314.62    -1   15   \n",
      "1  1958      4  1958.292       317.45        317.45  315.29    -1   15   \n",
      "2  1958      5  1958.375       317.50        317.50  314.71    -1   15   \n",
      "3  1958      6  1958.458          NaN        317.10  314.85    -1   15   \n",
      "4  1958      7  1958.542       315.86        315.86  314.98    -1   15   \n",
      "\n",
      "        date  \n",
      "0 1958-03-15  \n",
      "1 1958-04-15  \n",
      "2 1958-05-15  \n",
      "3 1958-06-15  \n",
      "4 1958-07-15  \n"
     ]
    }
   ],
   "source": [
    "print(df.head())"
   ]
  },
  {
   "cell_type": "markdown",
   "metadata": {},
   "source": [
    "7. Drop the 'Day' column"
   ]
  },
  {
   "cell_type": "code",
   "execution_count": 18,
   "metadata": {},
   "outputs": [],
   "source": [
    "df.drop(columns=['Day'], inplace=True) #drop col"
   ]
  },
  {
   "cell_type": "code",
   "execution_count": 19,
   "metadata": {
    "scrolled": true
   },
   "outputs": [
    {
     "data": {
      "text/html": [
       "<div>\n",
       "<style scoped>\n",
       "    .dataframe tbody tr th:only-of-type {\n",
       "        vertical-align: middle;\n",
       "    }\n",
       "\n",
       "    .dataframe tbody tr th {\n",
       "        vertical-align: top;\n",
       "    }\n",
       "\n",
       "    .dataframe thead th {\n",
       "        text-align: right;\n",
       "    }\n",
       "</style>\n",
       "<table border=\"1\" class=\"dataframe\">\n",
       "  <thead>\n",
       "    <tr style=\"text-align: right;\">\n",
       "      <th></th>\n",
       "      <th>Year</th>\n",
       "      <th>Month</th>\n",
       "      <th>Date</th>\n",
       "      <th>C02_average</th>\n",
       "      <th>interpolated</th>\n",
       "      <th>trend</th>\n",
       "      <th>days</th>\n",
       "      <th>date</th>\n",
       "    </tr>\n",
       "  </thead>\n",
       "  <tbody>\n",
       "    <tr>\n",
       "      <th>0</th>\n",
       "      <td>1958</td>\n",
       "      <td>3</td>\n",
       "      <td>1958.208</td>\n",
       "      <td>315.71</td>\n",
       "      <td>315.71</td>\n",
       "      <td>314.62</td>\n",
       "      <td>-1</td>\n",
       "      <td>1958-03-15</td>\n",
       "    </tr>\n",
       "    <tr>\n",
       "      <th>1</th>\n",
       "      <td>1958</td>\n",
       "      <td>4</td>\n",
       "      <td>1958.292</td>\n",
       "      <td>317.45</td>\n",
       "      <td>317.45</td>\n",
       "      <td>315.29</td>\n",
       "      <td>-1</td>\n",
       "      <td>1958-04-15</td>\n",
       "    </tr>\n",
       "    <tr>\n",
       "      <th>2</th>\n",
       "      <td>1958</td>\n",
       "      <td>5</td>\n",
       "      <td>1958.375</td>\n",
       "      <td>317.50</td>\n",
       "      <td>317.50</td>\n",
       "      <td>314.71</td>\n",
       "      <td>-1</td>\n",
       "      <td>1958-05-15</td>\n",
       "    </tr>\n",
       "    <tr>\n",
       "      <th>3</th>\n",
       "      <td>1958</td>\n",
       "      <td>6</td>\n",
       "      <td>1958.458</td>\n",
       "      <td>NaN</td>\n",
       "      <td>317.10</td>\n",
       "      <td>314.85</td>\n",
       "      <td>-1</td>\n",
       "      <td>1958-06-15</td>\n",
       "    </tr>\n",
       "    <tr>\n",
       "      <th>4</th>\n",
       "      <td>1958</td>\n",
       "      <td>7</td>\n",
       "      <td>1958.542</td>\n",
       "      <td>315.86</td>\n",
       "      <td>315.86</td>\n",
       "      <td>314.98</td>\n",
       "      <td>-1</td>\n",
       "      <td>1958-07-15</td>\n",
       "    </tr>\n",
       "    <tr>\n",
       "      <th>5</th>\n",
       "      <td>1958</td>\n",
       "      <td>8</td>\n",
       "      <td>1958.625</td>\n",
       "      <td>314.93</td>\n",
       "      <td>314.93</td>\n",
       "      <td>315.94</td>\n",
       "      <td>-1</td>\n",
       "      <td>1958-08-15</td>\n",
       "    </tr>\n",
       "    <tr>\n",
       "      <th>6</th>\n",
       "      <td>1958</td>\n",
       "      <td>9</td>\n",
       "      <td>1958.708</td>\n",
       "      <td>313.20</td>\n",
       "      <td>313.20</td>\n",
       "      <td>315.91</td>\n",
       "      <td>-1</td>\n",
       "      <td>1958-09-15</td>\n",
       "    </tr>\n",
       "    <tr>\n",
       "      <th>7</th>\n",
       "      <td>1958</td>\n",
       "      <td>10</td>\n",
       "      <td>1958.792</td>\n",
       "      <td>NaN</td>\n",
       "      <td>312.66</td>\n",
       "      <td>315.61</td>\n",
       "      <td>-1</td>\n",
       "      <td>1958-10-15</td>\n",
       "    </tr>\n",
       "    <tr>\n",
       "      <th>8</th>\n",
       "      <td>1958</td>\n",
       "      <td>11</td>\n",
       "      <td>1958.875</td>\n",
       "      <td>313.33</td>\n",
       "      <td>313.33</td>\n",
       "      <td>315.31</td>\n",
       "      <td>-1</td>\n",
       "      <td>1958-11-15</td>\n",
       "    </tr>\n",
       "    <tr>\n",
       "      <th>9</th>\n",
       "      <td>1958</td>\n",
       "      <td>12</td>\n",
       "      <td>1958.958</td>\n",
       "      <td>314.67</td>\n",
       "      <td>314.67</td>\n",
       "      <td>315.61</td>\n",
       "      <td>-1</td>\n",
       "      <td>1958-12-15</td>\n",
       "    </tr>\n",
       "  </tbody>\n",
       "</table>\n",
       "</div>"
      ],
      "text/plain": [
       "   Year  Month      Date  C02_average  interpolated   trend  days       date\n",
       "0  1958      3  1958.208       315.71        315.71  314.62    -1 1958-03-15\n",
       "1  1958      4  1958.292       317.45        317.45  315.29    -1 1958-04-15\n",
       "2  1958      5  1958.375       317.50        317.50  314.71    -1 1958-05-15\n",
       "3  1958      6  1958.458          NaN        317.10  314.85    -1 1958-06-15\n",
       "4  1958      7  1958.542       315.86        315.86  314.98    -1 1958-07-15\n",
       "5  1958      8  1958.625       314.93        314.93  315.94    -1 1958-08-15\n",
       "6  1958      9  1958.708       313.20        313.20  315.91    -1 1958-09-15\n",
       "7  1958     10  1958.792          NaN        312.66  315.61    -1 1958-10-15\n",
       "8  1958     11  1958.875       313.33        313.33  315.31    -1 1958-11-15\n",
       "9  1958     12  1958.958       314.67        314.67  315.61    -1 1958-12-15"
      ]
     },
     "execution_count": 19,
     "metadata": {},
     "output_type": "execute_result"
    }
   ],
   "source": [
    "df.head(10)"
   ]
  },
  {
   "cell_type": "code",
   "execution_count": 20,
   "metadata": {},
   "outputs": [
    {
     "data": {
      "text/plain": [
       "(735, 8)"
      ]
     },
     "execution_count": 20,
     "metadata": {},
     "output_type": "execute_result"
    }
   ],
   "source": [
    "df.shape"
   ]
  },
  {
   "cell_type": "markdown",
   "metadata": {},
   "source": [
    "8. use pandas groupby to print the yeaerly avg. of co2 per year. "
   ]
  },
  {
   "cell_type": "code",
   "execution_count": 21,
   "metadata": {},
   "outputs": [
    {
     "name": "stdout",
     "output_type": "stream",
     "text": [
      "Year\n",
      "1958    315.331250\n",
      "1959    315.974167\n",
      "1960    316.907500\n",
      "1961    317.637500\n",
      "1962    318.450833\n",
      "1963    318.994167\n",
      "1964    319.204444\n",
      "1965    320.044167\n",
      "1966    321.383333\n",
      "1967    322.157500\n",
      "1968    323.045000\n",
      "1969    324.624167\n",
      "1970    325.680000\n",
      "1971    326.320000\n",
      "1972    327.453333\n",
      "1973    329.676667\n",
      "1974    330.185000\n",
      "1975    331.162727\n",
      "1976    332.038333\n",
      "1977    333.831667\n",
      "1978    335.403333\n",
      "1979    336.841667\n",
      "1980    338.751667\n",
      "1981    340.105000\n",
      "1982    341.447500\n",
      "1983    343.054167\n",
      "1984    344.451818\n",
      "1985    346.116667\n",
      "1986    347.420000\n",
      "1987    349.194167\n",
      "           ...    \n",
      "1990    354.394167\n",
      "1991    355.607500\n",
      "1992    356.445833\n",
      "1993    357.100000\n",
      "1994    358.833333\n",
      "1995    360.820000\n",
      "1996    362.605833\n",
      "1997    363.729167\n",
      "1998    366.700000\n",
      "1999    368.377500\n",
      "2000    369.550000\n",
      "2001    371.143333\n",
      "2002    373.279167\n",
      "2003    375.802500\n",
      "2004    377.522500\n",
      "2005    379.795833\n",
      "2006    381.895833\n",
      "2007    383.791667\n",
      "2008    385.604167\n",
      "2009    387.430000\n",
      "2010    389.898333\n",
      "2011    391.652500\n",
      "2012    393.853333\n",
      "2013    396.520000\n",
      "2014    398.647500\n",
      "2015    400.834167\n",
      "2016    404.239167\n",
      "2017    406.553333\n",
      "2018    408.521667\n",
      "2019    412.506000\n",
      "Name: C02_average, Length: 62, dtype: float64\n"
     ]
    }
   ],
   "source": [
    "print(df['C02_average'].groupby(df['Year']).mean())"
   ]
  },
  {
   "cell_type": "markdown",
   "metadata": {},
   "source": [
    "9. Pick columns that you think could be used to build a model and store them in numpy array (Answer why do we do that?)"
   ]
  },
  {
   "cell_type": "markdown",
   "metadata": {},
   "source": [
    "```python\n",
    "# The \"average\" column contains the monthly mean CO2 mole fraction determined\n",
    "# from daily averages.  The mole fraction of CO2, expressed as parts per million\n",
    "# (ppm) is the number of molecules of CO2 in every one million molecules of dried\n",
    "# air (water vapor removed). \n",
    "\n",
    "# CO2 expressed as a mole fraction in dry air, micromol/mol, abbreviated as ppm\n",
    "#\n",
    "#  (-99.99 missing data;  -1 no data for #daily means in month)\n",
    "\n",
    "# The interpolated monthly mean is then the sum of the average seasonal cycle\n",
    "# value and the trend value for the missing month.\n",
    "    # seasonal: compute for each month the average seasonal cycle in a 7-year window around each monthly value\n",
    "    # trend: by removing the seasonal cycle, linearly interpolated for missing months\n",
    "```"
   ]
  },
  {
   "cell_type": "markdown",
   "metadata": {},
   "source": [
    "**Q? Depends what is the goal of the analysis? Not sure**\n",
    "\n",
    "Pick col ['Year', 'Month', 'C02_average'] for now"
   ]
  },
  {
   "cell_type": "code",
   "execution_count": 22,
   "metadata": {},
   "outputs": [
    {
     "data": {
      "text/plain": [
       "array([[1958.  ,    3.  ,  315.71],\n",
       "       [1958.  ,    4.  ,  317.45],\n",
       "       [1958.  ,    5.  ,  317.5 ],\n",
       "       ...,\n",
       "       [2019.  ,    3.  ,  411.97],\n",
       "       [2019.  ,    4.  ,  413.32],\n",
       "       [2019.  ,    5.  ,  414.66]])"
      ]
     },
     "execution_count": 22,
     "metadata": {},
     "output_type": "execute_result"
    }
   ],
   "source": [
    "col_arr = ['Year', 'Month', 'C02_average']\n",
    "arr = df[col_arr].values\n",
    "arr"
   ]
  },
  {
   "cell_type": "markdown",
   "metadata": {},
   "source": [
    "10. repeat step (3) but this time using the np.where command. \n",
    "```python\n",
    "# Intuitively, np.where is like asking \"tell me where in this array, entries satisfy a given condition\".\n",
    "a = np.arange(5,10)\n",
    "np.where(a < 8)       # tell me where in a, entries are < 8\n",
    "Out[]: (array([0, 1, 2]),)       # answer: entries indexed by 0, 1, 2\n",
    "a[np.where(a < 8)] \n",
    "Out[]: array([5, 6, 7])          # selects from a entries 0, 1, 2    \n",
    "```"
   ]
  },
  {
   "cell_type": "code",
   "execution_count": 23,
   "metadata": {},
   "outputs": [
    {
     "data": {
      "text/plain": [
       "array([[False, False, False],\n",
       "       [False, False, False],\n",
       "       [False, False, False],\n",
       "       ...,\n",
       "       [False, False, False],\n",
       "       [False, False, False],\n",
       "       [False, False, False]])"
      ]
     },
     "execution_count": 23,
     "metadata": {},
     "output_type": "execute_result"
    }
   ],
   "source": [
    "np.isnan(arr) #check"
   ]
  },
  {
   "cell_type": "code",
   "execution_count": 24,
   "metadata": {
    "scrolled": true
   },
   "outputs": [
    {
     "data": {
      "text/plain": [
       "True"
      ]
     },
     "execution_count": 24,
     "metadata": {},
     "output_type": "execute_result"
    }
   ],
   "source": [
    "np.isnan(arr).any() #check"
   ]
  },
  {
   "cell_type": "code",
   "execution_count": 25,
   "metadata": {
    "scrolled": true
   },
   "outputs": [
    {
     "name": "stdout",
     "output_type": "stream",
     "text": [
      "(array([  3,   7,  71,  72,  73, 213, 313]), array([2, 2, 2, 2, 2, 2, 2]))\n"
     ]
    }
   ],
   "source": [
    "print(np.where(np.isnan(arr))) # return list of row index, list of col index, with nan values"
   ]
  },
  {
   "cell_type": "code",
   "execution_count": 26,
   "metadata": {},
   "outputs": [],
   "source": [
    "#does not work:  np.where(arr is np.nan)"
   ]
  },
  {
   "cell_type": "code",
   "execution_count": 27,
   "metadata": {
    "scrolled": true
   },
   "outputs": [
    {
     "data": {
      "text/plain": [
       "array([nan, nan, nan, nan, nan, nan, nan])"
      ]
     },
     "execution_count": 27,
     "metadata": {},
     "output_type": "execute_result"
    }
   ],
   "source": [
    "arr[np.where(np.isnan(arr))]"
   ]
  },
  {
   "cell_type": "markdown",
   "metadata": {},
   "source": [
    "```python\n",
    "# If you have an ndarray named arr, you can replace all elements >255 with a value x as follows:\n",
    "arr[arr > 255] = x\n",
    "# test\n",
    "In [1]: import numpy as np\n",
    "In [2]: A = np.random.rand(500, 500)\n",
    "In [3]: timeit A[A > 0.5] = 5\n",
    "100 loops, best of 3: 7.59 ms per loop\n",
    "```    "
   ]
  },
  {
   "cell_type": "markdown",
   "metadata": {},
   "source": [
    "11. Download the notebook as .py script and run it from your terminal. \n",
    "12. Create a branch in github repository called warm_up_draft  \n",
    "13. push the notebook with the name CO2 to your new branch on github."
   ]
  },
  {
   "cell_type": "markdown",
   "metadata": {},
   "source": [
    "### Create a function to split data into training data and testing data\n",
    "##### When applying machine learning algorithms in a supervised learning scenario we want to have data to learn from and some data we have never seen before to test what we have learnt. \n",
    "\n",
    "### We have two tasks: \n",
    "- \tChoosing a condition to split the data on (e.g. we \tgonna choose the year 2010)\n",
    "-  Split the features from the target we want to \tpredict"
   ]
  },
  {
   "cell_type": "markdown",
   "metadata": {},
   "source": [
    "### 3. Create the function\n",
    " - cond_df is an array of the column you want to condition your split on\n",
    " - the idea is to use np.where on the condition column to get the indices on which the full dataset will be split\n",
    " - once we have the indices we can use them on the full dataset to make the split. Notice: the indices of the conditioned column and the pandas df are one and the same.\n",
    " - X are all the features and Y should be the CO2 column - please split them before executing the function and assign them to X annd Y \n",
    " \n",
    "`def tr_te_split(X, Y, cond_df, cond):`\n",
    "\n",
    "`cond_df could be an array of the year column`\n",
    "\t\t\t\t\t\t\t\n",
    "`use np.where\n",
    "`"
   ]
  },
  {
   "cell_type": "code",
   "execution_count": 28,
   "metadata": {},
   "outputs": [
    {
     "data": {
      "text/plain": [
       "['Year', 'Month', 'Date', 'interpolated', 'trend', 'days', 'date']"
      ]
     },
     "execution_count": 28,
     "metadata": {},
     "output_type": "execute_result"
    }
   ],
   "source": [
    "cols_X = [col for col in df.columns if col is not 'C02_average'] # retrieve feature col names\n",
    "cols_X"
   ]
  },
  {
   "cell_type": "code",
   "execution_count": 32,
   "metadata": {},
   "outputs": [],
   "source": [
    "X = df[cols_X].values # Split X(features) and y('C02_average')\n",
    "y = df['C02_average'].values"
   ]
  },
  {
   "cell_type": "code",
   "execution_count": 49,
   "metadata": {},
   "outputs": [],
   "source": [
    "cond_f = X[:,0] # Year col is the 1st col in np.array\n",
    "cond = 2000"
   ]
  },
  {
   "cell_type": "code",
   "execution_count": 50,
   "metadata": {},
   "outputs": [],
   "source": [
    "def tr_te_split(X, Y, cond_df, cond):\n",
    "    cond_split = cond_f<cond\n",
    "    X_tr = X[np.where(cond_split)]\n",
    "    X_te = X[np.where(~cond_split)]\n",
    "    y_tr = y[np.where(cond_split)]\n",
    "    y_te = y[np.where(~cond_split)]   \n",
    "    return (X_tr, y_tr, X_te, y_te)"
   ]
  },
  {
   "cell_type": "code",
   "execution_count": 51,
   "metadata": {},
   "outputs": [],
   "source": [
    "X_tr, y_tr, X_te, y_te = tr_te_split(X, y, cond_f, cond)"
   ]
  },
  {
   "cell_type": "code",
   "execution_count": 56,
   "metadata": {},
   "outputs": [
    {
     "data": {
      "text/plain": [
       "((502, 7), (502,))"
      ]
     },
     "execution_count": 56,
     "metadata": {},
     "output_type": "execute_result"
    }
   ],
   "source": [
    "X_tr.shape, y_tr.shape"
   ]
  },
  {
   "cell_type": "code",
   "execution_count": 57,
   "metadata": {},
   "outputs": [
    {
     "data": {
      "text/plain": [
       "((233, 7), (233,))"
      ]
     },
     "execution_count": 57,
     "metadata": {},
     "output_type": "execute_result"
    }
   ],
   "source": [
    "X_te.shape, y_te.shape"
   ]
  },
  {
   "cell_type": "code",
   "execution_count": null,
   "metadata": {},
   "outputs": [],
   "source": []
  }
 ],
 "metadata": {
  "kernelspec": {
   "display_name": "Python 3",
   "language": "python",
   "name": "python3"
  },
  "language_info": {
   "codemirror_mode": {
    "name": "ipython",
    "version": 3
   },
   "file_extension": ".py",
   "mimetype": "text/x-python",
   "name": "python",
   "nbconvert_exporter": "python",
   "pygments_lexer": "ipython3",
   "version": "3.7.3"
  }
 },
 "nbformat": 4,
 "nbformat_minor": 2
}
