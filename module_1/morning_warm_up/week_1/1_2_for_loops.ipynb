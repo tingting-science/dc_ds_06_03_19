{
 "cells": [
  {
   "cell_type": "markdown",
   "metadata": {},
   "source": [
    "##  For loops and alternatives\n",
    "\n",
    "Given an array of integers, return the index of of the target number - try doing it with a for loop. Notice that the target number can repeat several times.\n",
    "\n",
    "\n",
    "### Example:\n",
    "\n",
    "Given nums = [2, 9, 11, 15], target = 9,\n",
    "\n",
    "Because nums[1] = 9\n",
    "\n",
    "return [1]."
   ]
  },
  {
   "cell_type": "code",
   "execution_count": 1,
   "metadata": {},
   "outputs": [],
   "source": [
    "import random"
   ]
  },
  {
   "cell_type": "code",
   "execution_count": 2,
   "metadata": {
    "scrolled": true
   },
   "outputs": [
    {
     "data": {
      "text/plain": [
       "9"
      ]
     },
     "execution_count": 2,
     "metadata": {},
     "output_type": "execute_result"
    }
   ],
   "source": [
    "random.randint(1,10)"
   ]
  },
  {
   "cell_type": "code",
   "execution_count": 3,
   "metadata": {},
   "outputs": [
    {
     "data": {
      "text/plain": [
       "[1, 2, 19, 15, 16, 13, 13, 10, 13, 7, 12, 20, 5, 18, 17, 13, 3, 3, 19]"
      ]
     },
     "execution_count": 3,
     "metadata": {},
     "output_type": "execute_result"
    }
   ],
   "source": [
    "nums = [random.randint(1, 20) for x in range(1,20)]\n",
    "nums"
   ]
  },
  {
   "cell_type": "code",
   "execution_count": 4,
   "metadata": {},
   "outputs": [],
   "source": [
    "target = 13"
   ]
  },
  {
   "cell_type": "code",
   "execution_count": 5,
   "metadata": {},
   "outputs": [
    {
     "name": "stdout",
     "output_type": "stream",
     "text": [
      "5\n",
      "6\n",
      "8\n",
      "15\n"
     ]
    }
   ],
   "source": [
    "for i in range(len(nums)):\n",
    "    if nums[i] == target:\n",
    "        print(i)        "
   ]
  },
  {
   "cell_type": "markdown",
   "metadata": {},
   "source": [
    "## [optional I] - solve with for loops\n",
    "You have an array of integers, return indices of the two numbers such that they add  to a target.\n",
    "Assume that each input would have exactly one solution, and you may not use the same element twice.\n",
    "Given nums = [2, 7, 11, 15], target = 9,\n",
    "\n",
    "### Example \n",
    "Because nums[0] + nums[1] = 2 + 7 = 9,\n",
    "return [0, 1]."
   ]
  },
  {
   "cell_type": "code",
   "execution_count": 6,
   "metadata": {},
   "outputs": [],
   "source": [
    "nums = [2, 7, 11, 15]\n",
    "target = 9"
   ]
  },
  {
   "cell_type": "code",
   "execution_count": 7,
   "metadata": {},
   "outputs": [
    {
     "name": "stdout",
     "output_type": "stream",
     "text": [
      "[0,1]\n"
     ]
    }
   ],
   "source": [
    "n = len(nums)\n",
    "for i in range(n):\n",
    "    for j in range(i,n):\n",
    "        if nums[i]+ nums[j] == target:\n",
    "            print (\"[{},{}]\".format(i,j))"
   ]
  },
  {
   "cell_type": "markdown",
   "metadata": {},
   "source": [
    "## [optional II] - solve the same with only one loop and a dictionary"
   ]
  },
  {
   "cell_type": "markdown",
   "metadata": {},
   "source": [
    "Take away\n",
    "1. integers can be dict keys \n",
    "2. dict with (key = number in the list, value = index of the number in the num list) "
   ]
  },
  {
   "cell_type": "markdown",
   "metadata": {},
   "source": [
    "- Try out "
   ]
  },
  {
   "cell_type": "code",
   "execution_count": 8,
   "metadata": {
    "scrolled": true
   },
   "outputs": [
    {
     "data": {
      "text/plain": [
       "{2: 0, 7: 1, 11: 2, 15: 3}"
      ]
     },
     "execution_count": 8,
     "metadata": {},
     "output_type": "execute_result"
    }
   ],
   "source": [
    "keys = nums\n",
    "values = [i for i in range(n)]\n",
    "nums_dict = dict(zip(keys, values))\n",
    "nums_dict"
   ]
  },
  {
   "cell_type": "code",
   "execution_count": 9,
   "metadata": {},
   "outputs": [
    {
     "name": "stdout",
     "output_type": "stream",
     "text": [
      "0 1\n"
     ]
    }
   ],
   "source": [
    "for key1 in nums_dict.keys():\n",
    "    key2 = target-key1\n",
    "    if key2 in nums_dict.keys():\n",
    "        print (nums_dict[key1], nums_dict[key2])\n",
    "        break"
   ]
  },
  {
   "cell_type": "markdown",
   "metadata": {},
   "source": [
    "- wrap above into a function"
   ]
  },
  {
   "cell_type": "code",
   "execution_count": 12,
   "metadata": {},
   "outputs": [],
   "source": [
    "def two_sums(nums, target):\n",
    "    if len(nums)<=1:\n",
    "        return False\n",
    "    keys = nums\n",
    "    values = [i for i in range(len(nums))]\n",
    "    nums_dict = dict(zip(keys, values))\n",
    "    for key1 in nums_dict.keys():\n",
    "        key2 = target-key1\n",
    "        if key2 in nums_dict.keys():\n",
    "            return (nums_dict[key1], nums_dict[key2])   "
   ]
  },
  {
   "cell_type": "code",
   "execution_count": 13,
   "metadata": {},
   "outputs": [
    {
     "data": {
      "text/plain": [
       "(0, 1)"
      ]
     },
     "execution_count": 13,
     "metadata": {},
     "output_type": "execute_result"
    }
   ],
   "source": [
    "two_sums(nums, target)"
   ]
  },
  {
   "cell_type": "markdown",
   "metadata": {},
   "source": [
    "**Deleting dict items while iterating**\n",
    "1. iterate with copy\n",
    "2. delete the original dict"
   ]
  },
  {
   "cell_type": "code",
   "execution_count": null,
   "metadata": {},
   "outputs": [],
   "source": [
    "for key, value in my_dict.copy.items():\n",
    "    if True:\n",
    "        del my_dict[key]\n"
   ]
  },
  {
   "cell_type": "code",
   "execution_count": null,
   "metadata": {},
   "outputs": [],
   "source": []
  }
 ],
 "metadata": {
  "kernelspec": {
   "display_name": "Python 3",
   "language": "python",
   "name": "python3"
  },
  "language_info": {
   "codemirror_mode": {
    "name": "ipython",
    "version": 3
   },
   "file_extension": ".py",
   "mimetype": "text/x-python",
   "name": "python",
   "nbconvert_exporter": "python",
   "pygments_lexer": "ipython3",
   "version": "3.5.4"
  }
 },
 "nbformat": 4,
 "nbformat_minor": 2
}
