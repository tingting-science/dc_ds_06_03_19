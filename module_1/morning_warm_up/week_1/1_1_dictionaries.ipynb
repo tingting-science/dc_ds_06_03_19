{
 "cells": [
  {
   "cell_type": "markdown",
   "metadata": {},
   "source": [
    "### 1.  Create a dictionary where each object contains a list of one float (Age) and one string (Family name) (at least 5 objects)\n",
    "Example:\n",
    "`{Charles: [23.4, \"Darwin\"], Alan: [42.5, \"Turing\"]}`"
   ]
  },
  {
   "cell_type": "code",
   "execution_count": 28,
   "metadata": {},
   "outputs": [
    {
     "data": {
      "text/plain": [
       "{'Andrew': [20.4, 'Li'],\n",
       " 'Bob': [15.5, 'Wang'],\n",
       " 'Cindy': [30.6, 'Zhou'],\n",
       " 'Hellen': [25.3, 'Qian'],\n",
       " 'Roger': [40.8, 'Sun']}"
      ]
     },
     "execution_count": 28,
     "metadata": {},
     "output_type": "execute_result"
    }
   ],
   "source": [
    "people_dict = {'Andrew':[20.4, 'Li'] ,\n",
    "               'Bob':[15.5, 'Wang'], \n",
    "               'Cindy':[30.6, 'Zhou'], \n",
    "               'Roger':[40.8, 'Sun'], \n",
    "               'Hellen':[25.3,'Qian']}\n",
    "people_dict"
   ]
  },
  {
   "cell_type": "markdown",
   "metadata": {},
   "source": [
    "### 2. Delete one object from the dictionary"
   ]
  },
  {
   "cell_type": "code",
   "execution_count": 29,
   "metadata": {},
   "outputs": [
    {
     "data": {
      "text/plain": [
       "[30.6, 'Zhou']"
      ]
     },
     "execution_count": 29,
     "metadata": {},
     "output_type": "execute_result"
    }
   ],
   "source": [
    "people_dict.pop('Cindy')"
   ]
  },
  {
   "cell_type": "code",
   "execution_count": 30,
   "metadata": {},
   "outputs": [
    {
     "data": {
      "text/plain": [
       "{'Andrew': [20.4, 'Li'],\n",
       " 'Bob': [15.5, 'Wang'],\n",
       " 'Hellen': [25.3, 'Qian'],\n",
       " 'Roger': [40.8, 'Sun']}"
      ]
     },
     "execution_count": 30,
     "metadata": {},
     "output_type": "execute_result"
    }
   ],
   "source": [
    "people_dict"
   ]
  },
  {
   "cell_type": "markdown",
   "metadata": {},
   "source": [
    "### 3. Replace the float number of one of your objects - we are changing a list entry inside a dictionary record! look at Darwin's new age\n",
    "\n",
    "Example:\n",
    "`{Charles: [99.73, \"Darwin\"], Alan: [42.5, \"Turing\"]}`"
   ]
  },
  {
   "cell_type": "code",
   "execution_count": 31,
   "metadata": {},
   "outputs": [
    {
     "data": {
      "text/plain": [
       "{'Andrew': [20.4, 'Li'],\n",
       " 'Bob': [19, 'Wang'],\n",
       " 'Hellen': [25.3, 'Qian'],\n",
       " 'Roger': [40.8, 'Sun']}"
      ]
     },
     "execution_count": 31,
     "metadata": {},
     "output_type": "execute_result"
    }
   ],
   "source": [
    "people_dict['Bob'][0]=19\n",
    "people_dict"
   ]
  },
  {
   "cell_type": "markdown",
   "metadata": {},
   "source": [
    "### 4. write a for loop that goes through all records in the dictionary, prints the family name and assigns the float numbers into one merged list (see ages)\n",
    "\n",
    "`ages = [23.4, 22.9, 552.9]`"
   ]
  },
  {
   "cell_type": "code",
   "execution_count": 32,
   "metadata": {},
   "outputs": [
    {
     "name": "stdout",
     "output_type": "stream",
     "text": [
      "['Li', 'Qian', 'Sun', 'Wang']\n",
      "[20.4, 25.3, 40.8, 19]\n"
     ]
    }
   ],
   "source": [
    "names = []\n",
    "ages = []\n",
    "for key, value in people_dict.items():\n",
    "    ages.append(value[0])\n",
    "    names.append(value[1])\n",
    "print(names)\n",
    "print(ages)"
   ]
  },
  {
   "cell_type": "markdown",
   "metadata": {},
   "source": [
    "### 5. Download your notebbok as a .py (regular python script) save it somewhere you know"
   ]
  },
  {
   "cell_type": "markdown",
   "metadata": {},
   "source": [
    "### 6. Go to terminal, navigate to the folder where you have saved the script and execute it through the terminal\n",
    "\n",
    "`use commandds: \n",
    "cd and \n",
    "python your_script.py`"
   ]
  },
  {
   "cell_type": "markdown",
   "metadata": {},
   "source": [
    "### [optional] Calculate with a for loop the median and mean of the ages list\n",
    "\n",
    "**"
   ]
  },
  {
   "cell_type": "code",
   "execution_count": 33,
   "metadata": {},
   "outputs": [
    {
     "data": {
      "text/plain": [
       "[20.4, 25.3, 40.8, 19]"
      ]
     },
     "execution_count": 33,
     "metadata": {},
     "output_type": "execute_result"
    }
   ],
   "source": [
    "ages"
   ]
  },
  {
   "cell_type": "markdown",
   "metadata": {},
   "source": [
    "- Age mean"
   ]
  },
  {
   "cell_type": "code",
   "execution_count": 34,
   "metadata": {},
   "outputs": [
    {
     "name": "stdout",
     "output_type": "stream",
     "text": [
      "26.375\n"
     ]
    }
   ],
   "source": [
    "age_sum = 0\n",
    "for age in ages:\n",
    "    age_sum += age        \n",
    "age_mean = age_sum/len(ages)   \n",
    "print(age_mean)"
   ]
  },
  {
   "cell_type": "code",
   "execution_count": 35,
   "metadata": {
    "scrolled": true
   },
   "outputs": [
    {
     "name": "stdout",
     "output_type": "stream",
     "text": [
      "26.375\n"
     ]
    }
   ],
   "source": [
    "age_mean = sum(ages)/len(ages) \n",
    "print(age_mean)"
   ]
  },
  {
   "cell_type": "code",
   "execution_count": 36,
   "metadata": {},
   "outputs": [],
   "source": [
    "ages.sort()"
   ]
  },
  {
   "cell_type": "code",
   "execution_count": 37,
   "metadata": {},
   "outputs": [
    {
     "data": {
      "text/plain": [
       "[19, 20.4, 25.3, 40.8]"
      ]
     },
     "execution_count": 37,
     "metadata": {},
     "output_type": "execute_result"
    }
   ],
   "source": [
    "ages"
   ]
  },
  {
   "cell_type": "code",
   "execution_count": 38,
   "metadata": {},
   "outputs": [
    {
     "data": {
      "text/plain": [
       "4"
      ]
     },
     "execution_count": 38,
     "metadata": {},
     "output_type": "execute_result"
    }
   ],
   "source": [
    "n = len(ages)\n",
    "n"
   ]
  },
  {
   "cell_type": "code",
   "execution_count": 49,
   "metadata": {},
   "outputs": [
    {
     "data": {
      "text/plain": [
       "2"
      ]
     },
     "execution_count": 49,
     "metadata": {},
     "output_type": "execute_result"
    }
   ],
   "source": [
    "from math import floor\n",
    "floor(5/2)"
   ]
  },
  {
   "cell_type": "code",
   "execution_count": 48,
   "metadata": {},
   "outputs": [
    {
     "name": "stdout",
     "output_type": "stream",
     "text": [
      "22.85\n"
     ]
    }
   ],
   "source": [
    "medium = 0 \n",
    "if n%2 ==0: \n",
    "    i = int(n/2)\n",
    "    medium = (ages[i]+ages[i-1])/2\n",
    "else:\n",
    "    i = floor(n)\n",
    "    medium = ages[i]\n",
    "print(medium) "
   ]
  }
 ],
 "metadata": {
  "kernelspec": {
   "display_name": "Python 3",
   "language": "python",
   "name": "python3"
  },
  "language_info": {
   "codemirror_mode": {
    "name": "ipython",
    "version": 3
   },
   "file_extension": ".py",
   "mimetype": "text/x-python",
   "name": "python",
   "nbconvert_exporter": "python",
   "pygments_lexer": "ipython3",
   "version": "3.5.4"
  }
 },
 "nbformat": 4,
 "nbformat_minor": 2
}
