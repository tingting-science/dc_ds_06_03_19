{
 "cells": [
  {
   "cell_type": "markdown",
   "metadata": {},
   "source": [
    "# Python fundmentals"
   ]
  },
  {
   "cell_type": "markdown",
   "metadata": {},
   "source": [
    "#### Create a dictionary where each object contains a list of one float (Age) and one string (Family name) (at least 5 objects)\n",
    "##### Example: {Charles: [23.4, \"Darwin\"], Alan: [42.5, \"Turing\"]}"
   ]
  },
  {
   "cell_type": "code",
   "execution_count": null,
   "metadata": {},
   "outputs": [],
   "source": [
    "example_dict = {}\n",
    "\n",
    "example_dict['Charles'] = [23.4, \"Darwin\"]\n",
    "\n",
    "example_dict['Alan'] = [42.5, \"Turing\"]\n",
    "\n",
    "# or example_dict = {'Charles' : [23.4, 'Darwin'], 'Alan' : [42.5, 'Turing']}\n",
    "\n",
    "example_dict"
   ]
  },
  {
   "cell_type": "markdown",
   "metadata": {},
   "source": [
    "##### Delete one object from the dictionary"
   ]
  },
  {
   "cell_type": "code",
   "execution_count": null,
   "metadata": {},
   "outputs": [],
   "source": [
    "del example_dict['Charles']\n",
    "\n",
    "# or example_dict['Charles'].pop()\n",
    "\n",
    "example_dict"
   ]
  },
  {
   "cell_type": "markdown",
   "metadata": {},
   "source": [
    "##### Replace the float number of one of your objects - we are changing a list entry inside a dictionary record!"
   ]
  },
  {
   "cell_type": "code",
   "execution_count": null,
   "metadata": {},
   "outputs": [],
   "source": [
    "example_dict['Alan'][0] = 22.9\n",
    "\n",
    "example_dict['Alan']\n",
    "\n",
    "len(example_dict)"
   ]
  },
  {
   "cell_type": "markdown",
   "metadata": {},
   "source": [
    "##### Write a for loop that goes through all records in dictionary, prints the family name and assigns the float numbers into one merged list"
   ]
  },
  {
   "cell_type": "code",
   "execution_count": null,
   "metadata": {},
   "outputs": [],
   "source": [
    "ages = [] \n",
    "for i in example_dict: \n",
    "    print example_dict[i][1] \n",
    "    ages.append(example_dict[i][0])\n",
    "\n",
    "ages.append(552.9)"
   ]
  },
  {
   "cell_type": "markdown",
   "metadata": {},
   "source": [
    "##### Download your notebbok as a .py (regular python script) save it somewhere you know\n",
    "##### Go to terminal, navigate to the folder where you have saved the script and execute it through the terminal"
   ]
  },
  {
   "cell_type": "markdown",
   "metadata": {},
   "source": [
    "##### (Optional) calculate with a for loop the median and mean of the ages list"
   ]
  },
  {
   "cell_type": "code",
   "execution_count": null,
   "metadata": {},
   "outputs": [],
   "source": [
    "summ = 0\n",
    "for i in range(len(ages)): \n",
    "    summ += ages[i]\n",
    "mean = summ / len(ages) \n",
    "\n",
    "ages = sorted(ages)\n",
    "for i in range(len(ages)): \n",
    "    if (((i + 1) / len(ages)) >= 0.5):\n",
    "        if(len(ages) % 2 == 0):\n",
    "            median = (ages[i-1] + ages[i]) / 2\n",
    "            break\n",
    "        else:\n",
    "            median = ages[i]\n",
    "            print median\n",
    "            break"
   ]
  }
 ],
 "metadata": {
  "kernelspec": {
   "display_name": "Python 3",
   "language": "python",
   "name": "python3"
  },
  "language_info": {
   "codemirror_mode": {
    "name": "ipython",
    "version": 3
   },
   "file_extension": ".py",
   "mimetype": "text/x-python",
   "name": "python",
   "nbconvert_exporter": "python",
   "pygments_lexer": "ipython3",
   "version": "3.7.3"
  }
 },
 "nbformat": 4,
 "nbformat_minor": 2
}
