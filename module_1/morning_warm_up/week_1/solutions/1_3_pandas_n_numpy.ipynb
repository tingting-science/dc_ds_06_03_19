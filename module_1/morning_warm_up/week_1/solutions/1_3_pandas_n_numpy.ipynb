{
 "cells": [
  {
   "cell_type": "code",
   "execution_count": 56,
   "metadata": {},
   "outputs": [],
   "source": [
    "import pandas as pd\n",
    "import numpy as np\n",
    "import warnings\n",
    "warnings.filterwarnings('ignore')"
   ]
  },
  {
   "cell_type": "markdown",
   "metadata": {},
   "source": [
    "##### How will you read the following data into a pandas data frame ? ftp://aftp.cmdl.noaa.gov/products/trends/co2/co2_mm_mlo.txt"
   ]
  },
  {
   "cell_type": "code",
   "execution_count": 58,
   "metadata": {},
   "outputs": [],
   "source": [
    "df = pd.read_csv('/Users/onivron/Documents/co2_mm_mlo.csv', header=None)"
   ]
  },
  {
   "cell_type": "markdown",
   "metadata": {},
   "source": [
    "##### How would you pick columns 0,1,3 ?"
   ]
  },
  {
   "cell_type": "code",
   "execution_count": 60,
   "metadata": {},
   "outputs": [],
   "source": [
    " df1 = df[[0, 1, 3]]"
   ]
  },
  {
   "cell_type": "markdown",
   "metadata": {},
   "source": [
    "##### Use a for loop to find all rows where Co2 (column 3) enteries with the value -99.99 (these are missing values) and replace them with NaN values (try using np.nan - do you know what it is? )"
   ]
  },
  {
   "cell_type": "code",
   "execution_count": 62,
   "metadata": {},
   "outputs": [
    {
     "name": "stdout",
     "output_type": "stream",
     "text": [
      "found one in row 3\n",
      "found one in row 7\n",
      "found one in row 71\n",
      "found one in row 72\n",
      "found one in row 73\n",
      "found one in row 213\n",
      "found one in row 313\n"
     ]
    }
   ],
   "source": [
    "for i in range(df1.shape[0]): \n",
    "    if df1.iloc[i, 2] == -99.99:\n",
    "        print ('found one in row ' + str(i))\n",
    "        df1.iloc[i, 2] = np.nan"
   ]
  },
  {
   "cell_type": "markdown",
   "metadata": {},
   "source": [
    "##### Change names of columns to year, month, and CO2 (use colnames)"
   ]
  },
  {
   "cell_type": "code",
   "execution_count": 64,
   "metadata": {},
   "outputs": [],
   "source": [
    "df1.columns = ['Year', 'Month', 'CO2']"
   ]
  },
  {
   "cell_type": "markdown",
   "metadata": {},
   "source": [
    "##### Add a column 'Day' and specifiy the day 15 for all enteries"
   ]
  },
  {
   "cell_type": "code",
   "execution_count": 66,
   "metadata": {},
   "outputs": [],
   "source": [
    "df1['Day'] =15\n"
   ]
  },
  {
   "cell_type": "markdown",
   "metadata": {},
   "source": [
    "##### Add a date column according to the 'year', 'month' and 'day' columns (options: use apply with lambda or for loop together with datetime.date (make sure to import it))"
   ]
  },
  {
   "cell_type": "code",
   "execution_count": 68,
   "metadata": {},
   "outputs": [],
   "source": [
    "\n",
    "df1['date'] = pd.to_datetime((df1[['Year', 'Month', 'Day']]).apply(lambda x: \\\n",
    "                                                                 '-'.join([str(x['Year']), str(x['Month']), \\\n",
    "                                                                            str(x['Day'])]), axis = 1), format='%Y-%m-%d')\n",
    "                             "
   ]
  },
  {
   "cell_type": "markdown",
   "metadata": {},
   "source": [
    "##### Drop the 'Day' column"
   ]
  },
  {
   "cell_type": "code",
   "execution_count": 70,
   "metadata": {},
   "outputs": [],
   "source": [
    "df1 = df1.drop('Day', axis=1)"
   ]
  },
  {
   "cell_type": "markdown",
   "metadata": {},
   "source": [
    "##### use pandas groupby to print the yearly avg. of co2 per year."
   ]
  },
  {
   "cell_type": "code",
   "execution_count": 72,
   "metadata": {
    "collapsed": true
   },
   "outputs": [
    {
     "data": {
      "text/plain": [
       "Year\n",
       "1958    315.331250\n",
       "1959    315.974167\n",
       "1960    316.907500\n",
       "1961    317.637500\n",
       "1962    318.450833\n",
       "1963    318.994167\n",
       "1964    319.204444\n",
       "1965    320.044167\n",
       "1966    321.383333\n",
       "1967    322.157500\n",
       "1968    323.045000\n",
       "1969    324.624167\n",
       "1970    325.680000\n",
       "1971    326.320000\n",
       "1972    327.453333\n",
       "1973    329.676667\n",
       "1974    330.185000\n",
       "1975    331.162727\n",
       "1976    332.040000\n",
       "1977    333.831667\n",
       "1978    335.403333\n",
       "1979    336.841667\n",
       "1980    338.751667\n",
       "1981    340.105833\n",
       "1982    341.447500\n",
       "1983    343.054167\n",
       "1984    344.451818\n",
       "1985    346.116667\n",
       "1986    347.420833\n",
       "1987    349.194167\n",
       "           ...    \n",
       "1990    354.394167\n",
       "1991    355.607500\n",
       "1992    356.445833\n",
       "1993    357.100000\n",
       "1994    358.833333\n",
       "1995    360.820000\n",
       "1996    362.606667\n",
       "1997    363.729167\n",
       "1998    366.700000\n",
       "1999    368.377500\n",
       "2000    369.550000\n",
       "2001    371.142500\n",
       "2002    373.279167\n",
       "2003    375.802500\n",
       "2004    377.522500\n",
       "2005    379.795833\n",
       "2006    381.896667\n",
       "2007    383.791667\n",
       "2008    385.604167\n",
       "2009    387.430000\n",
       "2010    389.899167\n",
       "2011    391.652500\n",
       "2012    393.853333\n",
       "2013    396.520833\n",
       "2014    398.647500\n",
       "2015    400.834167\n",
       "2016    404.239167\n",
       "2017    406.553333\n",
       "2018    408.521667\n",
       "2019    411.290000\n",
       "Name: CO2, Length: 62, dtype: float64"
      ]
     },
     "execution_count": 72,
     "metadata": {},
     "output_type": "execute_result"
    }
   ],
   "source": [
    "df1.groupby('Year').mean()['CO2']"
   ]
  },
  {
   "cell_type": "markdown",
   "metadata": {},
   "source": [
    "##### Pick columns that you think could be used to build a model and store them in numpy array (Answer why do we do that?)\n",
    "##### repeat step (3) but this time using the np.where command."
   ]
  },
  {
   "cell_type": "code",
   "execution_count": null,
   "metadata": {},
   "outputs": [],
   "source": [
    "# we now use df"
   ]
  },
  {
   "cell_type": "code",
   "execution_count": 97,
   "metadata": {},
   "outputs": [],
   "source": [
    "df.iloc[list(np.where(df.iloc[:, 3] == -99.99))[0], 3] = np.nan"
   ]
  },
  {
   "cell_type": "code",
   "execution_count": 98,
   "metadata": {
    "scrolled": true
   },
   "outputs": [
    {
     "data": {
      "text/plain": [
       "0      315.71\n",
       "1      317.45\n",
       "2      317.50\n",
       "3         NaN\n",
       "4      315.86\n",
       "5      314.93\n",
       "6      313.20\n",
       "7         NaN\n",
       "8      313.33\n",
       "9      314.67\n",
       "10     315.62\n",
       "11     316.38\n",
       "12     316.71\n",
       "13     317.72\n",
       "14     318.29\n",
       "15     318.15\n",
       "16     316.54\n",
       "17     314.80\n",
       "18     313.84\n",
       "19     313.26\n",
       "20     314.80\n",
       "21     315.58\n",
       "22     316.43\n",
       "23     316.97\n",
       "24     317.58\n",
       "25     319.02\n",
       "26     320.03\n",
       "27     319.59\n",
       "28     318.18\n",
       "29     315.91\n",
       "        ...  \n",
       "702    401.05\n",
       "703    401.59\n",
       "704    403.55\n",
       "705    404.45\n",
       "706    406.17\n",
       "707    406.46\n",
       "708    407.22\n",
       "709    409.04\n",
       "710    409.69\n",
       "711    408.88\n",
       "712    407.12\n",
       "713    405.13\n",
       "714    403.37\n",
       "715    403.63\n",
       "716    405.12\n",
       "717    406.81\n",
       "718    407.96\n",
       "719    408.32\n",
       "720    409.41\n",
       "721    410.24\n",
       "722    411.24\n",
       "723    410.79\n",
       "724    408.71\n",
       "725    406.99\n",
       "726    405.51\n",
       "727    406.00\n",
       "728    408.02\n",
       "729    409.07\n",
       "730    410.83\n",
       "731    411.75\n",
       "Name: 3, Length: 732, dtype: float64"
      ]
     },
     "execution_count": 98,
     "metadata": {},
     "output_type": "execute_result"
    }
   ],
   "source": [
    "df.iloc[:, 3]"
   ]
  },
  {
   "cell_type": "code",
   "execution_count": null,
   "metadata": {},
   "outputs": [],
   "source": []
  }
 ],
 "metadata": {
  "kernelspec": {
   "display_name": "Python 3",
   "language": "python",
   "name": "python3"
  },
  "language_info": {
   "codemirror_mode": {
    "name": "ipython",
    "version": 3
   },
   "file_extension": ".py",
   "mimetype": "text/x-python",
   "name": "python",
   "nbconvert_exporter": "python",
   "pygments_lexer": "ipython3",
   "version": "3.7.3"
  }
 },
 "nbformat": 4,
 "nbformat_minor": 2
}
