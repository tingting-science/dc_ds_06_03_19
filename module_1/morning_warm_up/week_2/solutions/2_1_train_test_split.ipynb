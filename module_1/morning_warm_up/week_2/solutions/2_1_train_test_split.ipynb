{
 "cells": [
  {
   "cell_type": "code",
   "execution_count": null,
   "metadata": {},
   "outputs": [],
   "source": [
    "import pandas as pd\n",
    "import numpy as np\n",
    "\n",
    "# *** HARD ***\n",
    "# Numpy - create a function to split the data to training and testing \n",
    "# When applying machine learning algorithms in a supervised learning \n",
    "# scenario we want to have data to learn from and some data \n",
    "# we never have seen before to test what we have learned \n",
    "# We have two tasks: \n",
    "# 1. choosing a condition to split the data on (e.g. we gonna choose the year 2010)\n",
    "# 2. split the features from the target we want to predict\n",
    "\n",
    "# 1. Open your CO2 notebook through terminal!\n",
    "\n",
    "# 2. If not done yesterday, pick the year column, month column, day column and C02 column\n",
    "\n",
    "df = pd.read_csv('co2_mm_mlo.csv', delim_whitespace=True, header=None)\n",
    "\n",
    "df1 = df[[0, 1, 3]]\n",
    "\n",
    "df1['Day'] =15\n",
    "\n",
    "df1.columns = ['Year', 'Month', 'CO2', 'Day']\n",
    "\n",
    "cond_df = df1['Year'].values\n",
    "\n",
    "X = df1[['Year', 'Month', 'Day']].values\n",
    "\n",
    "Y = df1[['CO2']].values\n",
    "\n",
    "def tr_te_split(X, Y, cond_df, cond):\n",
    "        test_ind, train_ind = np.where(cond_df >= cond)[0], np.where(cond_df < cond)[0]\n",
    "        X_train, X_test, Y_train, Y_test = X[train_ind,:], X[test_ind,:], \\\n",
    "                                                        Y[train_ind], Y[test_ind]\n",
    "        return X_train, X_test, Y_train, Y_test\n",
    "\n",
    "tr_te_split(X, Y, cond_df, 2010)\n",
    "\n",
    "# 3. check the data sets to see if your split worked (can do manually - with your eyes)\n",
    "# 3.5. git push it to your branch!\n",
    "# (optional) 4. Explore the use of the describe(), info(), dtypes , on the pandas df before turnnnig it to numpy array"
   ]
  }
 ],
 "metadata": {
  "kernelspec": {
   "display_name": "Python 3",
   "language": "python",
   "name": "python3"
  },
  "language_info": {
   "codemirror_mode": {
    "name": "ipython",
    "version": 3
   },
   "file_extension": ".py",
   "mimetype": "text/x-python",
   "name": "python",
   "nbconvert_exporter": "python",
   "pygments_lexer": "ipython3",
   "version": "3.7.3"
  }
 },
 "nbformat": 4,
 "nbformat_minor": 2
}
