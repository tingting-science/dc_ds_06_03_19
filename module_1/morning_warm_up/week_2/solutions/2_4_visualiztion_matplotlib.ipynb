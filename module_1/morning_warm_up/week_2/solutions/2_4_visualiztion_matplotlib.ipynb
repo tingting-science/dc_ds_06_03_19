{
 "cells": [
  {
   "cell_type": "markdown",
   "metadata": {},
   "source": [
    "# Visualization "
   ]
  },
  {
   "cell_type": "code",
   "execution_count": null,
   "metadata": {},
   "outputs": [],
   "source": [
    "import matplotlib.pyplot as plt\n",
    "from IPython.display import Image\n",
    "\n",
    "# 1. open the notebook from yesterday through the command line\n",
    "\n",
    "# 2. For practice of the command line \n",
    "\n",
    "# create a new directory in your documents folder\n",
    "# name it visualizations \n",
    "# in it create a folder named warm-up-mod1\n",
    "# list all folders in your documents folder (ls)"
   ]
  },
  {
   "cell_type": "code",
   "execution_count": null,
   "metadata": {},
   "outputs": [],
   "source": [
    "! cd Documents\n",
    "! mkdir 'visualizations'\n",
    "! cd visualizations\n",
    "! mkdir 'warm-up-mod1'"
   ]
  },
  {
   "cell_type": "code",
   "execution_count": null,
   "metadata": {},
   "outputs": [],
   "source": [
    "Image(\"/Users/omer/Desktop/CO2_warmup.png\")"
   ]
  },
  {
   "cell_type": "code",
   "execution_count": null,
   "metadata": {},
   "outputs": [],
   "source": [
    "df_yr_mean = df1.groupby('Year').mean().reset_index()"
   ]
  },
  {
   "cell_type": "code",
   "execution_count": null,
   "metadata": {},
   "outputs": [],
   "source": [
    "plt.subplot(2, 2, 3)\n",
    "axes = plt.gca()\n",
    "axes.set_ylim([300, 420])\n",
    "plt.scatter(df1['Year'], df1['CO2'], c = df1['Month'])\n",
    "plt.plot(df_yr_mean['Year'], df_yr_mean['CO2'], color = 'red')\n",
    "plt.legend\n",
    "plt.title('CO2 index by month(dots) & yearly avg (red line)')\n",
    "plt.savefig('/Users/omer/Documents/CO2.png')"
   ]
  },
  {
   "cell_type": "code",
   "execution_count": null,
   "metadata": {},
   "outputs": [],
   "source": [
    "# 4. Push your notebook to github branch \n",
    "# 5. save your image into the visualizations folder we have created "
   ]
  },
  {
   "cell_type": "code",
   "execution_count": null,
   "metadata": {},
   "outputs": [],
   "source": [
    "# [optional] play with the scales of axis \n",
    "# to make the difference among months more apparent"
   ]
  }
 ],
 "metadata": {
  "kernelspec": {
   "display_name": "Python 3",
   "language": "python",
   "name": "python3"
  },
  "language_info": {
   "codemirror_mode": {
    "name": "ipython",
    "version": 3
   },
   "file_extension": ".py",
   "mimetype": "text/x-python",
   "name": "python",
   "nbconvert_exporter": "python",
   "pygments_lexer": "ipython3",
   "version": "3.7.3"
  }
 },
 "nbformat": 4,
 "nbformat_minor": 2
}
