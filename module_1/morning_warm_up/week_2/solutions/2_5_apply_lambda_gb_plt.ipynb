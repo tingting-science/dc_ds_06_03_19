{
 "cells": [
  {
   "cell_type": "markdown",
   "metadata": {},
   "source": [
    "# Week 2 start - recap"
   ]
  },
  {
   "cell_type": "code",
   "execution_count": null,
   "metadata": {},
   "outputs": [],
   "source": [
    "# 1. go to https://www.kaggle.com/russellyates88/suicide-rates-overview-1985-to-2016\n",
    "# and download the data \n",
    "# Using command line rename the downloaded file to \n",
    "# suicide_rates.csv then move the file (command line) to \n",
    "# your repository (use 'mv' for both)"
   ]
  },
  {
   "cell_type": "code",
   "execution_count": null,
   "metadata": {},
   "outputs": [],
   "source": [
    "# 2. load the data into pandas df"
   ]
  },
  {
   "cell_type": "code",
   "execution_count": null,
   "metadata": {},
   "outputs": [],
   "source": [
    "su_rates = pd.read_csv('/Users/omer/Downloads/suicide_rates.csv')"
   ]
  },
  {
   "cell_type": "code",
   "execution_count": null,
   "metadata": {},
   "outputs": [],
   "source": [
    "#3. Pick only rows where country starts with U (use apply and lambda)"
   ]
  },
  {
   "cell_type": "code",
   "execution_count": null,
   "metadata": {},
   "outputs": [],
   "source": [
    "su_rates_u = su_rates[su_rates['country'].apply(lambda x: x[0]=='U')]"
   ]
  },
  {
   "cell_type": "code",
   "execution_count": null,
   "metadata": {},
   "outputs": [],
   "source": [
    "# #4. get the names of unique countries left (use pd.unique)\n",
    "# Thoughts: how would that be useful if we have duplicated values in a dataset? "
   ]
  },
  {
   "cell_type": "code",
   "execution_count": null,
   "metadata": {},
   "outputs": [],
   "source": [
    "pd.unique(su_rates_u['country'])"
   ]
  },
  {
   "cell_type": "code",
   "execution_count": null,
   "metadata": {},
   "outputs": [],
   "source": [
    "# # 5. pick only 'United States' (without using apply or lambda - try using indexing)"
   ]
  },
  {
   "cell_type": "code",
   "execution_count": null,
   "metadata": {},
   "outputs": [],
   "source": [
    "su_rates_us = su_rates_u[su_rates_u['country'] == 'United States']"
   ]
  },
  {
   "cell_type": "code",
   "execution_count": null,
   "metadata": {},
   "outputs": [],
   "source": [
    "su_rates_us_15 = su_rates_us[su_rates_us['year'] == 2015]"
   ]
  },
  {
   "cell_type": "code",
   "execution_count": null,
   "metadata": {},
   "outputs": [],
   "source": [
    "# 6. group by age column and sum # suicides"
   ]
  },
  {
   "cell_type": "code",
   "execution_count": null,
   "metadata": {},
   "outputs": [],
   "source": [
    "su_rates_grouped = su_rates_us_15.groupby('age').sum().reset_index()"
   ]
  },
  {
   "cell_type": "code",
   "execution_count": null,
   "metadata": {},
   "outputs": [],
   "source": [
    "# 7. Change the age column to a categorical one (use astype)\n",
    "\n",
    "su_rates_grouped['age'] = su_rates_grouped['age'].astype('category')\n",
    "\n",
    "# 8. re-order the categories so that 5-14 years appears first (use cat.reorder_categories)\n",
    "\n",
    "su_rates_grouped['age'] = su_rates_grouped['age'].cat.reorder_categories(['5-14 years', '15-24 years', '25-34 years', '35-54 years', '55-74 years', '75+ years'])\n",
    "\n",
    "su_rates_grouped = su_rates_grouped.sort_values(by=['age']).reset_index(drop =True)\n",
    "\n",
    "# 7. draw a barplot of # suicides(y) per age-group (x) for 2015\n",
    "\n",
    "plt.bar((su_rates_grouped['age']).argsort(), su_rates_grouped['suicides_no'])\n",
    "plt.xticks(np.arange(6), su_rates_grouped['age'])\n",
    "h = plt.ylabel('abs # suicides')\n",
    "plt.xticks(rotation=90)\n",
    "\n",
    "# 8. save plot to visualization folder we have created \n",
    "\n",
    "# 9. push all to your git branch."
   ]
  }
 ],
 "metadata": {
  "kernelspec": {
   "display_name": "Python 3",
   "language": "python",
   "name": "python3"
  },
  "language_info": {
   "codemirror_mode": {
    "name": "ipython",
    "version": 2
   },
   "file_extension": ".py",
   "mimetype": "text/x-python",
   "name": "python",
   "nbconvert_exporter": "python",
   "pygments_lexer": "ipython2",
   "version": "2.7.16"
  }
 },
 "nbformat": 4,
 "nbformat_minor": 2
}
