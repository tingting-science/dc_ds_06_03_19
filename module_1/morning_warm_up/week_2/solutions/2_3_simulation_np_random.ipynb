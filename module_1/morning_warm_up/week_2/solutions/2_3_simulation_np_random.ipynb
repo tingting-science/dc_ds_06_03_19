{
 "cells": [
  {
   "cell_type": "code",
   "execution_count": 1,
   "metadata": {},
   "outputs": [],
   "source": [
    "# create your first simulation\n",
    "# 1. Create a list with 32 names\n",
    "# 2. Loop through the list in pairs (pick two records at a time)\n",
    "# 3. Use numpy random to throw a coin (virtual coin)\n",
    "# 4. If heads delete first record, else delete the second record\n",
    "# 5. Continue till there is one winner\n",
    "# 6. Print the winner's name\n",
    "# 7. Execute from terminal"
   ]
  },
  {
   "cell_type": "code",
   "execution_count": 2,
   "metadata": {},
   "outputs": [],
   "source": [
    "import numpy as np\n",
    "import names"
   ]
  },
  {
   "cell_type": "code",
   "execution_count": 3,
   "metadata": {},
   "outputs": [],
   "source": [
    "## create a list with 32 names - I used the names package (pip install names)\n",
    "\n",
    "names.get_full_name()\n",
    "my_list = [names.get_full_name() for x in range(32)]"
   ]
  },
  {
   "cell_type": "code",
   "execution_count": 4,
   "metadata": {
    "collapsed": true
   },
   "outputs": [
    {
     "data": {
      "text/plain": [
       "['Patrick Danos',\n",
       " 'Dorothea Messer',\n",
       " 'Scott Armstrong',\n",
       " 'William Minihane',\n",
       " 'Erick Wade',\n",
       " 'Marlene Underwood',\n",
       " 'Jessica Riddle',\n",
       " 'Bruce Hufford',\n",
       " 'Marilyn Baker',\n",
       " 'Debra Short',\n",
       " 'Harold Marin',\n",
       " 'Kenneth Jones',\n",
       " 'Brant Raymond',\n",
       " 'Micki Ginther',\n",
       " 'Keith Webb',\n",
       " 'Alicia Britt',\n",
       " 'Charlotte Trela',\n",
       " 'Jacqueline Wolf',\n",
       " 'Jean Tillman',\n",
       " 'Diana Kocur',\n",
       " 'Barbara Fincher',\n",
       " 'Sandra Johnson',\n",
       " 'Evelyn Powles',\n",
       " 'Charles Rice',\n",
       " 'Anthony Frazier',\n",
       " 'Kay Gibbs',\n",
       " 'Lorrie Bearden',\n",
       " 'William Fontenot',\n",
       " 'James Lowe',\n",
       " 'Raymond Croy',\n",
       " 'Patricia Irizarry',\n",
       " 'Richard Nordman']"
      ]
     },
     "execution_count": 4,
     "metadata": {},
     "output_type": "execute_result"
    }
   ],
   "source": [
    "my_list"
   ]
  },
  {
   "cell_type": "code",
   "execution_count": 5,
   "metadata": {},
   "outputs": [
    {
     "data": {
      "text/plain": [
       "32"
      ]
     },
     "execution_count": 5,
     "metadata": {},
     "output_type": "execute_result"
    }
   ],
   "source": [
    "len(my_list)"
   ]
  },
  {
   "cell_type": "code",
   "execution_count": 6,
   "metadata": {},
   "outputs": [
    {
     "name": "stdout",
     "output_type": "stream",
     "text": [
      "There are 32 contestants left\n",
      "There are 16 contestants left\n",
      "There are 8 contestants left\n",
      "There are 4 contestants left\n",
      "There are 2 contestants left\n",
      "And the winner is... Alicia Britt\n"
     ]
    }
   ],
   "source": [
    "## The while loop helps me continue an operation as long a condition is met \n",
    "## (in this case as long as I have more than 1 person in the competition)\n",
    "\n",
    "while (len(my_list) > 1):\n",
    "    \n",
    "    ## we'll print out a statement after each full round - try throwing print statements in various parts of the loop\n",
    "    ## to see what's happening!\n",
    "    \n",
    "    print('There are', str(len(my_list)) + ' contestants left')\n",
    "    \n",
    "    ## run through the indices of the list in jumps of 2\n",
    "    \n",
    "    ## IMPORTANT NOTE: When you are going through a list and want to remove items while iterating, you should\n",
    "    ## go backwards (hence the reversed). Think about what would happen if you try looping forward and deleting items\n",
    "    \n",
    "    for idx in reversed(range(0, len(my_list), 2)):\n",
    "        \n",
    "        #coin toss\n",
    "        coin_res = np.random.uniform(0, 1)   \n",
    "        ## After throwing the coin we have same chance to get a \n",
    "        ## number smaller than 0.5 as we have to get a number bigger than 0.5\n",
    "        ## so we choose randomly to eliminate the first contestant else the second \n",
    "        if coin_res <= 0.5:\n",
    "            my_list.pop(idx)\n",
    "        else:\n",
    "            my_list.pop(idx+1)\n",
    "        \n",
    "print('And the winner is...', my_list[0])"
   ]
  }
 ],
 "metadata": {
  "kernelspec": {
   "display_name": "Python 3",
   "language": "python",
   "name": "python3"
  },
  "language_info": {
   "codemirror_mode": {
    "name": "ipython",
    "version": 3
   },
   "file_extension": ".py",
   "mimetype": "text/x-python",
   "name": "python",
   "nbconvert_exporter": "python",
   "pygments_lexer": "ipython3",
   "version": "3.7.3"
  }
 },
 "nbformat": 4,
 "nbformat_minor": 2
}
