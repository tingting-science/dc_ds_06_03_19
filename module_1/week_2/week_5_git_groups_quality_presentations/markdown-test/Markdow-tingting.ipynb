{
 "cells": [
  {
   "cell_type": "markdown",
   "metadata": {},
   "source": [
    "## markdown-here.com"
   ]
  },
  {
   "cell_type": "markdown",
   "metadata": {},
   "source": [
    "# Predicting tomorrow's rainfall in Australia\n",
    "\n",
    "## Executive summary\n",
    "\n",
    "The goal of this analysis is to predict whether it will rain tomorrow in a given city in Australia, based on today's weather. We analyzed a Kaggle dataset of (daily weather data <- bold 'daily weather data' and delete everything else in the parentheses!) collected in 49 Australian cities between 2010 and 2018. The final model had an 83.9% accuracy rate in predicting whether or not it would rain tomorrow vs. a baseline model accuracy of 77.8%. Italicize the sentence before this one and delete this sentence!\n",
    "\n",
    "![rainfall-picture](rainfall_map.png)  \n",
    "\n",
    "## Contents\n",
    "\n",
    "- [Introduction](#Introduction) \n",
    "    - [Problem statement](#Problem-statement)\n",
    "    - [Dataset](#Dataset)\n",
    "- Analysis \n",
    "- Data cleaning \n",
    "- Exploratory data analysis \n",
    "- Modeling Metrics \n",
    "- Next steps\n",
    "\n",
    "\n",
    "## Introduction\n",
    "\n",
    "### Problem statement\n",
    "\n",
    "Our goal is to predict whether or not it will rain tomorrow, in a given city in Australia, based on today's weather, using replicable machine learning techniques. We used two separate modeling techniques (Decision Tree and Random Forest) to create these forecasts.\n",
    "\n",
    "### Dataset\n",
    "\n",
    "The analysis is based on this Kaggle dataset https://www.kaggle.com/jsphyg/weather-dataset-rattle-package of daily weather data collected in 49 Australian cities between 2010 and 2018. The dataset consists of 22 numerical and categorical features, and 1 target classification variable."
   ]
  },
  {
   "cell_type": "markdown",
   "metadata": {},
   "source": [
    "\n",
    "$\\alpha$\n",
    "\n",
    "copy image address\n",
    "![text](link)\n",
    "\n",
    "This text is ~~marked through~~\n",
    "This text is **bold**\n",
    "This text is *italic*\n",
    "This text is _italic_\n",
    "\n",
    "\n",
    "html syntax may not show properly on GitHub"
   ]
  },
  {
   "cell_type": "markdown",
   "metadata": {},
   "source": [
    "\n",
    "\n",
    "\n",
    "\n",
    "\n",
    "\n",
    "\n",
    "\n",
    "\n",
    "\n",
    "Analysis\n",
    "\n",
    "Data cleaning\n",
    "\n",
    "We had duplicate data, missing values, and impossible values that we had to rectify before proceeding to modeling.\n",
    "\n",
    "Exploratory data analysis\n",
    "\n",
    "We found some signficant correlations in our data that we had to explore further.\n",
    "\n",
    "Modeling\n",
    "\n",
    "Our analysis used both Decision Tree and Random Forest classifier models.\n",
    "\n",
    "We can create multiline Python code with syntax highlighting:\n",
    "\n",
    "def model(): for kind in models: start = time.time() if kind == 'Tree': model = tree.DecisionTreeClassifier() else : model = ensemble.RandomForestClassifier()\n",
    "\n",
    "Metrics\n",
    "\n",
    "We create a confusion matrix to calculate classification metrics using the sklearn.metrics.confusion_matrix() method.\n",
    "\n",
    "Next Steps\n",
    "\n",
    "https://i.imgur.com/3fkDIms.jpg"
   ]
  }
 ],
 "metadata": {
  "kernelspec": {
   "display_name": "Python 3",
   "language": "python",
   "name": "python3"
  },
  "language_info": {
   "codemirror_mode": {
    "name": "ipython",
    "version": 3
   },
   "file_extension": ".py",
   "mimetype": "text/x-python",
   "name": "python",
   "nbconvert_exporter": "python",
   "pygments_lexer": "ipython3",
   "version": "3.7.3"
  }
 },
 "nbformat": 4,
 "nbformat_minor": 2
}
