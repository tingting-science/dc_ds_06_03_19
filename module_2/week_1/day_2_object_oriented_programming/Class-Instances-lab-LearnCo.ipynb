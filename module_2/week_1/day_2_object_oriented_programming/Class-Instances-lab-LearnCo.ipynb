{
 "cells": [
  {
   "cell_type": "markdown",
   "metadata": {},
   "source": [
    "## Class -> .py"
   ]
  },
  {
   "cell_type": "code",
   "execution_count": 1,
   "metadata": {},
   "outputs": [],
   "source": [
    "from ride import Ride"
   ]
  },
  {
   "cell_type": "code",
   "execution_count": 6,
   "metadata": {},
   "outputs": [],
   "source": [
    "from driver import Driver"
   ]
  },
  {
   "cell_type": "code",
   "execution_count": 7,
   "metadata": {},
   "outputs": [],
   "source": [
    "from passenger import Passenger"
   ]
  },
  {
   "cell_type": "code",
   "execution_count": 10,
   "metadata": {},
   "outputs": [
    {
     "name": "stdout",
     "output_type": "stream",
     "text": [
      "<passenger.Passenger object at 0x10f436710> <passenger.Passenger object at 0x10f436080>\n"
     ]
    }
   ],
   "source": [
    "# create passenger instances\n",
    "meryl = Passenger()\n",
    "daniel = Passenger()\n",
    "print(meryl,daniel)"
   ]
  },
  {
   "cell_type": "code",
   "execution_count": 11,
   "metadata": {},
   "outputs": [
    {
     "name": "stdout",
     "output_type": "stream",
     "text": [
      "<driver.Driver object at 0x10f447828>\n"
     ]
    }
   ],
   "source": [
    "flatiron_taxi = Driver()\n",
    "print(flatiron_taxi)"
   ]
  },
  {
   "cell_type": "code",
   "execution_count": 12,
   "metadata": {},
   "outputs": [
    {
     "name": "stdout",
     "output_type": "stream",
     "text": [
      "<ride.Ride object at 0x10f48c048> <ride.Ride object at 0x10f466710>\n"
     ]
    }
   ],
   "source": [
    "ride_to_school = Ride()\n",
    "ride_home = Ride()\n",
    "print(ride_to_school,ride_home)"
   ]
  },
  {
   "cell_type": "markdown",
   "metadata": {},
   "source": [
    "## Class: methods, attributes"
   ]
  },
  {
   "cell_type": "markdown",
   "metadata": {},
   "source": [
    "``` \n",
    "# generator object (by yield) \n",
    "def func():\n",
    "    yield\n",
    "\n",
    "ist = func() # a generator (a pointer0\n",
    "next(ist) # access to next element \n",
    "list(ist) # iterate through and return a list \n",
    "```\n",
    "\n",
    "```\n",
    "# bad:\n",
    "type() == str\n",
    "# better:\n",
    "isinstance(our_string, str)\n",
    "```"
   ]
  },
  {
   "cell_type": "code",
   "execution_count": 13,
   "metadata": {},
   "outputs": [],
   "source": [
    "class Betterstring(str): #inhereit from the string class\n",
    "    pass"
   ]
  },
  {
   "cell_type": "code",
   "execution_count": 20,
   "metadata": {},
   "outputs": [],
   "source": [
    "# multiple inheretances \n",
    "class Betterstring(str, Driver): #inhereit from 2 classes\n",
    "    pass"
   ]
  },
  {
   "cell_type": "code",
   "execution_count": 21,
   "metadata": {},
   "outputs": [],
   "source": [
    "better_string = Betterstring('abcd')"
   ]
  },
  {
   "cell_type": "code",
   "execution_count": 22,
   "metadata": {},
   "outputs": [
    {
     "data": {
      "text/plain": [
       "'abcd'"
      ]
     },
     "execution_count": 22,
     "metadata": {},
     "output_type": "execute_result"
    }
   ],
   "source": [
    "better_string"
   ]
  },
  {
   "cell_type": "code",
   "execution_count": 17,
   "metadata": {},
   "outputs": [
    {
     "data": {
      "text/plain": [
       "__main__.Betterstring"
      ]
     },
     "execution_count": 17,
     "metadata": {},
     "output_type": "execute_result"
    }
   ],
   "source": [
    "type(better_string)"
   ]
  },
  {
   "cell_type": "code",
   "execution_count": 23,
   "metadata": {},
   "outputs": [
    {
     "data": {
      "text/plain": [
       "True"
      ]
     },
     "execution_count": 23,
     "metadata": {},
     "output_type": "execute_result"
    }
   ],
   "source": [
    "isinstance(better_string, str)"
   ]
  },
  {
   "cell_type": "code",
   "execution_count": 24,
   "metadata": {},
   "outputs": [
    {
     "data": {
      "text/plain": [
       "True"
      ]
     },
     "execution_count": 24,
     "metadata": {},
     "output_type": "execute_result"
    }
   ],
   "source": [
    "isinstance(better_string, Driver)"
   ]
  },
  {
   "cell_type": "code",
   "execution_count": null,
   "metadata": {},
   "outputs": [],
   "source": []
  },
  {
   "cell_type": "code",
   "execution_count": null,
   "metadata": {},
   "outputs": [],
   "source": []
  },
  {
   "cell_type": "code",
   "execution_count": null,
   "metadata": {},
   "outputs": [],
   "source": []
  },
  {
   "cell_type": "code",
   "execution_count": null,
   "metadata": {},
   "outputs": [],
   "source": [
    "class Guitarist(object):\n",
    "    \n",
    "    def __init__(self):\n",
    "        self.name = \"George\"\n",
    "        self.role = \"Guitarist\"\n",
    "        self.instrument_type = \"Stringed Instrument\"\n",
    "        \n",
    "    def tune_instrument(self):\n",
    "        print(\"Tune the strings!\")\n",
    "        \n",
    "    def practice(self):\n",
    "        print(\"Strumming the old 6 string!\")\n",
    "        \n",
    "    def perform(self):\n",
    "        print(\"Hello, New  York!\")\n",
    "        \n",
    "class Bass_Guitarist(Guitarist):\n",
    "    \n",
    "    def __init__(self):\n",
    "        super().__init__() \n",
    "        # super(the specific parent).__init__(), ##if multiple inheretance\n",
    "        self.name = \"Paul\"\n",
    "        self.role = \"Guitarist\"\n",
    "        \n",
    "    def practice(self):\n",
    "        print(\"I play the Seinfeld Theme Song when I get bored\")\n",
    "        \n",
    "    def perform(self):\n",
    "        super().perform()\n",
    "        print(\"Thanks for coming out!\")"
   ]
  },
  {
   "cell_type": "code",
   "execution_count": 31,
   "metadata": {},
   "outputs": [],
   "source": [
    "class Guitarist(object):\n",
    "    \"\"\"\n",
    "    Docstring\n",
    "    \"\"\"\n",
    "    age = 50 # a classs attribute\n",
    "    \n",
    "    def __init__(self, age): #instance method\n",
    "        self.age = age\n",
    "        self.name = \"George\" #instance attribute\n",
    "        self.role = \"Guitarist\"\n",
    "        self.instrument_type = \"Stringed Instrument\"\n",
    "   \n",
    "    @classmethod    #a class method, so can call the method without instantiating the class \n",
    "    def tune_instrument(cls):\n",
    "        print(\"Tune the strings!\")\n",
    "        \n",
    "    def practice(self): #instance method\n",
    "        print(\"Strumming the old 6 string!\")\n",
    "    \n",
    "    @staticmethod  # a static method, can call without instantiating the class \n",
    "    def perform(): #or def perform(new_name)\n",
    "        print(\"Hello, New  York!\") # print(f\"Hello, New  York! {new_name}\")\n",
    "                                    # call with: Guitarist.perform()\n",
    "        \n",
    "class Bass_Guitarist(Guitarist):\n",
    "    \n",
    "    def __init__(self):\n",
    "        super().__init__(None)  # or pass a number because parent init requires to pass in age. \n",
    "        # super(the specific parent).__init__(), ##if multiple inheretance\n",
    "        self.name = \"Paul\"\n",
    "        self.role = \"Guitarist\" #overwrite since it is after super, vice versa\n",
    "        \n",
    "    def practice(self):\n",
    "        print(\"I play the Seinfeld Theme Song when I get bored\")\n",
    "        \n",
    "    def perform(self):\n",
    "        super().perform()\n",
    "        print(\"Thanks for coming out!\")"
   ]
  },
  {
   "cell_type": "code",
   "execution_count": 28,
   "metadata": {},
   "outputs": [],
   "source": [
    "george = Guitarist()"
   ]
  },
  {
   "cell_type": "code",
   "execution_count": 32,
   "metadata": {},
   "outputs": [],
   "source": [
    "roger = Bass_Guitarist()"
   ]
  },
  {
   "cell_type": "code",
   "execution_count": 33,
   "metadata": {},
   "outputs": [
    {
     "name": "stdout",
     "output_type": "stream",
     "text": [
      "Hello, New  York!\n",
      "Thanks for coming out!\n"
     ]
    }
   ],
   "source": [
    "roger.perform()"
   ]
  },
  {
   "cell_type": "code",
   "execution_count": 29,
   "metadata": {},
   "outputs": [
    {
     "name": "stdout",
     "output_type": "stream",
     "text": [
      "Tune the strings!\n"
     ]
    }
   ],
   "source": [
    "Guitarist.tune_instrument()"
   ]
  },
  {
   "cell_type": "code",
   "execution_count": 30,
   "metadata": {},
   "outputs": [
    {
     "ename": "TypeError",
     "evalue": "perform() missing 1 required positional argument: 'self'",
     "output_type": "error",
     "traceback": [
      "\u001b[0;31m---------------------------------------------------------------------------\u001b[0m",
      "\u001b[0;31mTypeError\u001b[0m                                 Traceback (most recent call last)",
      "\u001b[0;32m<ipython-input-30-9e1111113d07>\u001b[0m in \u001b[0;36m<module>\u001b[0;34m\u001b[0m\n\u001b[0;32m----> 1\u001b[0;31m \u001b[0mGuitarist\u001b[0m\u001b[0;34m.\u001b[0m\u001b[0mperform\u001b[0m\u001b[0;34m(\u001b[0m\u001b[0;34m)\u001b[0m\u001b[0;34m\u001b[0m\u001b[0;34m\u001b[0m\u001b[0m\n\u001b[0m",
      "\u001b[0;31mTypeError\u001b[0m: perform() missing 1 required positional argument: 'self'"
     ]
    }
   ],
   "source": [
    "Guitarist.perform()"
   ]
  },
  {
   "cell_type": "markdown",
   "metadata": {},
   "source": [
    "json query"
   ]
  },
  {
   "cell_type": "code",
   "execution_count": null,
   "metadata": {},
   "outputs": [],
   "source": [
    "#download img\n",
    "resp = requests.get(\".jpg\")\n",
    "img = resp.content"
   ]
  }
 ],
 "metadata": {
  "kernelspec": {
   "display_name": "Python 3",
   "language": "python",
   "name": "python3"
  },
  "language_info": {
   "codemirror_mode": {
    "name": "ipython",
    "version": 3
   },
   "file_extension": ".py",
   "mimetype": "text/x-python",
   "name": "python",
   "nbconvert_exporter": "python",
   "pygments_lexer": "ipython3",
   "version": "3.7.3"
  }
 },
 "nbformat": 4,
 "nbformat_minor": 2
}
