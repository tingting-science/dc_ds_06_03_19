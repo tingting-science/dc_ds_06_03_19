{
 "cells": [
  {
   "cell_type": "markdown",
   "metadata": {},
   "source": [
    "# SQL Joins\n",
    "\n",
    "### Import packages \n",
    "sqlite3\n",
    "pandas\n",
    "   \n",
    "### Connect to databases cats.db, dogs.db and owners.db using sqlite3 (use for example conn = sqlite3.connect('cats.db') and then c = conn.cursor())\n",
    "\n",
    "Let's try and work through some exercises to recap and retain the foundational knowledge of the language that our beloved databases use.\n",
    "\n",
    "In the suburbs of Capitol Hill, there is a new pet daycare starting up that distributes pets among 4 houses.\n",
    "Down below we have tables representing cats and dogs in the particular houses, and corresponding owners. \n",
    "\n",
    "Cats Table:\n",
    "\n",
    "Name  \t\t\t | Breed \t\t\t| House_Number| Owner_ID|       \n",
    "------------- | ------------- | ------------|---------\n",
    "Bell  \t\t\t| Siamese\t\t\t|\t\t1\t    | 4\n",
    "Jackson  \t\t| Balinese \t\t|       2     |3\n",
    "Precious  \t| Himalayan  \t\t|         3    | 4\n",
    "Rocky\t\t\t| Egyptian Mau \t| 4 \t\t    | 2\n",
    "Samson\t\t\t| Javanese\t\t|\t4\t\t| 1\n",
    "\n",
    "Dogs Table:\n",
    "\n",
    "Name  \t\t\t | Breed \t| House_Number\t|Owner_ID|\n",
    "-------------| ------------- | ------------|-----   \n",
    "Rex  \t\t\t| Chihuahua  \t\t|\t\t1\t    |3\n",
    "Clifford  \t| German Shepherd|     2        |2\n",
    "Lucky  \t\t| Daschund  \t\t|     3        |1\n",
    "Bobo\t\t\t| Shih-Tzu\t\t|    2\t\t   | 4\n",
    "Buddy\t\t\t| Golden Retriever | 4\t\t   | 2\n",
    "Leo\t\t\t\t| English Bulldog | 1 | 2\n",
    "\n",
    "Owners Table:\n",
    "\n",
    "Name  \t\t| Phone\t| Address\t|ID| \n",
    "-------------| ------------- | ------------|-----\n",
    "Josh Daniell  | 313-287-9573  |1440 G St. |1\n",
    "Alison Peebles Madigan| 214-709-8190| None |2\n",
    "Avi Flombaum\t| 469-878-0125  |  1776 New York Ave| 3\n",
    "Justin Bieber | 410-381-0987 | None | 4\n",
    "\n",
    "\n",
    "Write the appropriate SQL queries to satisfy the following prompts:\n",
    "\n",
    "A. Write a SQL query that can grab the names of all pets owned by the founder of Flatiron School, Avi Flombaum\n",
    "\n",
    "B. Which House_Number contains the most number of pets in it and how many?\n",
    "\n",
    "C. The daycare realized that House 4 needs the owners of its pets to update their addresses. Grab the names and phone numbers of owners with pets in house 4 that do not currently have an address."
   ]
  },
  {
   "cell_type": "code",
   "execution_count": 2,
   "metadata": {},
   "outputs": [],
   "source": [
    "### Import packages \n",
    "import sqlite3\n",
    "import pandas as pd"
   ]
  },
  {
   "cell_type": "code",
   "execution_count": 3,
   "metadata": {},
   "outputs": [],
   "source": [
    "### Connect to databases cats.db, dogs.db and owners.db using sqlite3\n",
    "conn = sqlite3.connect('owner.db')\n",
    "c = conn.cursor()"
   ]
  },
  {
   "cell_type": "code",
   "execution_count": null,
   "metadata": {},
   "outputs": [],
   "source": []
  },
  {
   "cell_type": "code",
   "execution_count": null,
   "metadata": {},
   "outputs": [],
   "source": []
  }
 ],
 "metadata": {
  "kernelspec": {
   "display_name": "Python 3",
   "language": "python",
   "name": "python3"
  },
  "language_info": {
   "codemirror_mode": {
    "name": "ipython",
    "version": 3
   },
   "file_extension": ".py",
   "mimetype": "text/x-python",
   "name": "python",
   "nbconvert_exporter": "python",
   "pygments_lexer": "ipython3",
   "version": "3.7.3"
  }
 },
 "nbformat": 4,
 "nbformat_minor": 2
}
