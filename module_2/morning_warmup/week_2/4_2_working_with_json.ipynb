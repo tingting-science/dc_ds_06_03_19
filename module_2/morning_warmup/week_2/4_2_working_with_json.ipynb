{
 "cells": [
  {
   "cell_type": "markdown",
   "metadata": {},
   "source": [
    "### We have a json file with information about Pokemon that we want to collect into a dataframe. We will use the UniqueID as the pokemon name. Begin with the following code:\n",
    "\n",
    "`import pandas as pd`\n",
    "\n",
    "`import requests`\n",
    "\n",
    "`req = requests.get('https://pastebin.com/raw/r1HwmQt0')`\n",
    "\n",
    "`pokemon_dict = req.json()`\n",
    "\n",
    "`pokemon_dict`"
   ]
  },
  {
   "cell_type": "code",
   "execution_count": 24,
   "metadata": {},
   "outputs": [],
   "source": [
    "# import packages\n",
    "import pandas as pd\n",
    "import requests"
   ]
  },
  {
   "cell_type": "code",
   "execution_count": 25,
   "metadata": {},
   "outputs": [],
   "source": [
    "req = requests.get('https://pastebin.com/raw/r1HwmQt0')"
   ]
  },
  {
   "cell_type": "code",
   "execution_count": 26,
   "metadata": {},
   "outputs": [
    {
     "data": {
      "text/plain": [
       "{'Date': 'Tue, 25 Jun 2019 13:41:23 GMT', 'Content-Type': 'text/plain; charset=utf-8', 'Transfer-Encoding': 'chunked', 'Connection': 'keep-alive', 'Set-Cookie': '__cfduid=da10cb0043f928e44b7f1a4cd5843c8a61561470083; expires=Wed, 24-Jun-20 13:41:23 GMT; path=/; domain=.pastebin.com; HttpOnly', 'Cache-Control': 'public, max-age=1801', 'Content-Encoding': 'gzip', 'Vary': 'Accept-Encoding', 'X-XSS-Protection': '1; mode=block', 'CF-Cache-Status': 'EXPIRED', 'Expires': 'Tue, 25 Jun 2019 14:11:24 GMT', 'Expect-CT': 'max-age=604800, report-uri=\"https://report-uri.cloudflare.com/cdn-cgi/beacon/expect-ct\"', 'Server': 'cloudflare', 'CF-RAY': '4ec75bd64a2bcef4-IAD'}"
      ]
     },
     "execution_count": 26,
     "metadata": {},
     "output_type": "execute_result"
    }
   ],
   "source": [
    "req.headers"
   ]
  },
  {
   "cell_type": "code",
   "execution_count": 27,
   "metadata": {},
   "outputs": [
    {
     "data": {
      "text/plain": [
       "200"
      ]
     },
     "execution_count": 27,
     "metadata": {},
     "output_type": "execute_result"
    }
   ],
   "source": [
    "req.status_code"
   ]
  },
  {
   "cell_type": "code",
   "execution_count": 28,
   "metadata": {},
   "outputs": [],
   "source": [
    "pokemon_dict = req.json()"
   ]
  },
  {
   "cell_type": "code",
   "execution_count": 29,
   "metadata": {},
   "outputs": [
    {
     "data": {
      "text/plain": [
       "dict_keys(['Pokemon'])"
      ]
     },
     "execution_count": 29,
     "metadata": {},
     "output_type": "execute_result"
    }
   ],
   "source": [
    "pokemon_dict.keys()"
   ]
  },
  {
   "cell_type": "markdown",
   "metadata": {},
   "source": [
    "#### 1) Make a list containing every Pokemon name (UniqueID). Be careful of Pokemon \"MOVE\"s that are also in the top level. Your list should not include UniqueIDs that begin like this:\"V0013\\_MOVE\". Only ones that are formatted like this: \"V0013\\_POKEMON\". Your list length should be 151."
   ]
  },
  {
   "cell_type": "code",
   "execution_count": 30,
   "metadata": {
    "scrolled": false
   },
   "outputs": [
    {
     "data": {
      "text/plain": [
       "{'TemplateId': 'V0001_POKEMON_BULBASAUR',\n",
       " 'Pokemon': {'UniqueID': 'V0001_POKEMON_BULBASAUR',\n",
       "  'ModelScale': 1.09,\n",
       "  'Type1': 'POKEMON_TYPE_GRASS',\n",
       "  'Type2': 'POKEMON_TYPE_POISON',\n",
       "  'Camera': {'DiskRadiusM': 0.5723,\n",
       "   'CylRadiusM': 0.3815,\n",
       "   'CylHeightM': 0.763,\n",
       "   'ShoulderModeScale': 0.5},\n",
       "  'Encounter': {'BaseCaptureRate': 0.16,\n",
       "   'BaseFleeRate': 0.1,\n",
       "   'CollisionRadiusM': 0.3815,\n",
       "   'CollisionHeightM': 0.654,\n",
       "   'CollisionHeadRadiusM': 0.2725,\n",
       "   'MovementType': 'POKEMON_ENC_MOVEMENT_JUMP',\n",
       "   'MovementTimerS': 10,\n",
       "   'JumpTimeS': 1.15,\n",
       "   'AttackTimerS': 29},\n",
       "  'Stats': {'BaseStamina': 90, 'BaseAttack': 126, 'BaseDefense': 126},\n",
       "  'QuickMoves': '\\\\326\\\\001\\\\335\\\\001',\n",
       "  'CinematicMoves': 'Z;v',\n",
       "  'AnimTime': 'bla',\n",
       "  'Evolution': '\\\\002',\n",
       "  'EvolutionPips': 1,\n",
       "  'PokedexHeightM': 0.7,\n",
       "  'PokedexWeightKg': 6.9,\n",
       "  'HeightStdDev': 0.0875,\n",
       "  'WeightStdDev': 0.8625,\n",
       "  'FamilyID': 'V0001_FAMILY_BULBASAUR',\n",
       "  'CandyToEvolve': 25}}"
      ]
     },
     "execution_count": 30,
     "metadata": {},
     "output_type": "execute_result"
    }
   ],
   "source": [
    "pokemon_dict['Pokemon'][0]"
   ]
  },
  {
   "cell_type": "code",
   "execution_count": 31,
   "metadata": {},
   "outputs": [
    {
     "data": {
      "text/plain": [
       "'V0001_POKEMON_BULBASAUR'"
      ]
     },
     "execution_count": 31,
     "metadata": {},
     "output_type": "execute_result"
    }
   ],
   "source": [
    "pokemon_dict['Pokemon'][0]['Pokemon']['UniqueID']"
   ]
  },
  {
   "cell_type": "code",
   "execution_count": 41,
   "metadata": {},
   "outputs": [
    {
     "name": "stdout",
     "output_type": "stream",
     "text": [
      "V0001_POKEMON_BULBASAUR\n",
      "V0002_POKEMON_IVYSAUR\n",
      "V0003_POKEMON_VENUSAUR\n",
      "V0004_POKEMON_CHARMANDER\n",
      "V0005_POKEMON_CHARMELEON\n",
      "V0006_POKEMON_CHARIZARD\n",
      "V0007_POKEMON_SQUIRTLE\n",
      "V0008_POKEMON_WARTORTLE\n",
      "V0009_POKEMON_BLASTOISE\n",
      "V0010_POKEMON_CATERPIE\n",
      "V0011_POKEMON_METAPOD\n",
      "V0012_POKEMON_BUTTERFREE\n",
      "{'TemplateId': 'V0013_MOVE_WRAP', 'Move': {'UniqueID': 'V0013_MOVE_WRAP', 'AnimationId': 5, 'Type': 'POKEMON_TYPE_NORMAL', 'Power': 15, 'AccuracyChance': 1, 'CriticalChance': 0.05, 'StaminaLossScalar': 0.06, 'TrainerLevelMin': 1, 'TrainerLevelMax': 100, 'VfxName': 'wrap', 'DurationMs': 4000, 'DamageWindowStartMs': 2800, 'DamageWindowEndMs': 3400, 'EnergyDelta': -20}}\n",
      "V0013_POKEMON_WEEDLE\n",
      "{'TemplateId': 'V0014_MOVE_HYPER_BEAM', 'Move': {'UniqueID': 'V0014_MOVE_HYPER_BEAM', 'AnimationId': 5, 'Type': 'POKEMON_TYPE_NORMAL', 'Power': 70, 'AccuracyChance': 1, 'CriticalChance': 0.05, 'StaminaLossScalar': 0.15, 'TrainerLevelMin': 1, 'TrainerLevelMax': 100, 'VfxName': 'hyper_beam', 'DurationMs': 5000, 'DamageWindowStartMs': 4000, 'DamageWindowEndMs': 4800, 'EnergyDelta': -100}}\n",
      "V0014_POKEMON_KAKUNA\n",
      "V0015_POKEMON_BEEDRILL\n",
      "{'TemplateId': 'V0016_MOVE_DARK_PULSE', 'Move': {'UniqueID': 'V0016_MOVE_DARK_PULSE', 'AnimationId': 5, 'Type': 'POKEMON_TYPE_DARK', 'Power': 45, 'AccuracyChance': 1, 'CriticalChance': 0.05, 'StaminaLossScalar': 0.08, 'TrainerLevelMin': 1, 'TrainerLevelMax': 100, 'VfxName': 'dark_pulse', 'DurationMs': 3500, 'DamageWindowStartMs': 2300, 'DamageWindowEndMs': 3400, 'EnergyDelta': -33}}\n",
      "V0016_POKEMON_PIDGEY\n",
      "V0017_POKEMON_PIDGEOTTO\n",
      "{'TemplateId': 'V0018_MOVE_SLUDGE', 'Move': {'UniqueID': 'V0018_MOVE_SLUDGE', 'AnimationId': 5, 'Type': 'POKEMON_TYPE_POISON', 'Power': 25, 'AccuracyChance': 1, 'CriticalChance': 0.05, 'StaminaLossScalar': 0.065, 'TrainerLevelMin': 1, 'TrainerLevelMax': 100, 'VfxName': 'sludge', 'DurationMs': 2600, 'DamageWindowStartMs': 1850, 'DamageWindowEndMs': 2350, 'EnergyDelta': -25}}\n",
      "V0018_POKEMON_PIDGEOT\n",
      "V0019_POKEMON_RATTATA\n",
      "{'TemplateId': 'V0020_MOVE_VICE_GRIP', 'Move': {'UniqueID': 'V0020_MOVE_VICE_GRIP', 'AnimationId': 5, 'Type': 'POKEMON_TYPE_NORMAL', 'Power': 15, 'AccuracyChance': 1, 'CriticalChance': 0.05, 'StaminaLossScalar': 0.055, 'TrainerLevelMin': 1, 'TrainerLevelMax': 100, 'VfxName': 'vice_grip', 'DurationMs': 2100, 'DamageWindowStartMs': 1850, 'DamageWindowEndMs': 2100, 'EnergyDelta': -20}}\n",
      "V0020_POKEMON_RATICATE\n",
      "{'TemplateId': 'V0021_MOVE_FLAME_WHEEL', 'Move': {'UniqueID': 'V0021_MOVE_FLAME_WHEEL', 'AnimationId': 5, 'Type': 'POKEMON_TYPE_FIRE', 'Power': 35, 'AccuracyChance': 1, 'CriticalChance': 0.05, 'StaminaLossScalar': 0.06, 'TrainerLevelMin': 1, 'TrainerLevelMax': 100, 'VfxName': 'flame_wheel', 'DurationMs': 4600, 'DamageWindowStartMs': 2700, 'DamageWindowEndMs': 3200, 'EnergyDelta': -25}}\n",
      "V0021_POKEMON_SPEAROW\n",
      "{'TemplateId': 'V0022_MOVE_MEGAHORN', 'Move': {'UniqueID': 'V0022_MOVE_MEGAHORN', 'AnimationId': 5, 'Type': 'POKEMON_TYPE_BUG', 'Power': 55, 'AccuracyChance': 1, 'CriticalChance': 0.05, 'StaminaLossScalar': 0.12, 'TrainerLevelMin': 1, 'TrainerLevelMax': 100, 'VfxName': 'megahorn', 'DurationMs': 3200, 'DamageWindowStartMs': 2400, 'DamageWindowEndMs': 2700, 'EnergyDelta': -100}}\n",
      "V0022_POKEMON_FEAROW\n",
      "V0023_POKEMON_EKANS\n",
      "{'TemplateId': 'V0024_MOVE_FLAMETHROWER', 'Move': {'UniqueID': 'V0024_MOVE_FLAMETHROWER', 'AnimationId': 5, 'Type': 'POKEMON_TYPE_FIRE', 'Power': 50, 'AccuracyChance': 1, 'CriticalChance': 0.05, 'StaminaLossScalar': 0.09, 'TrainerLevelMin': 1, 'TrainerLevelMax': 100, 'VfxName': 'flamethrower', 'DurationMs': 2900, 'DamageWindowStartMs': 1700, 'DamageWindowEndMs': 2600, 'EnergyDelta': -50}}\n",
      "V0024_POKEMON_ARBOK\n",
      "V0025_POKEMON_PIKACHU\n",
      "{'TemplateId': 'V0026_MOVE_DIG', 'Move': {'UniqueID': 'V0026_MOVE_DIG', 'AnimationId': 5, 'Type': 'POKEMON_TYPE_GROUND', 'Power': 45, 'AccuracyChance': 1, 'CriticalChance': 0.05, 'StaminaLossScalar': 0.08, 'TrainerLevelMin': 1, 'TrainerLevelMax': 100, 'VfxName': 'dig', 'DurationMs': 5800, 'DamageWindowStartMs': 4600, 'DamageWindowEndMs': 5000, 'EnergyDelta': -33}}\n",
      "V0026_POKEMON_RAICHU\n",
      "V0027_POKEMON_SANDSHREW\n",
      "{'TemplateId': 'V0028_MOVE_CROSS_CHOP', 'Move': {'UniqueID': 'V0028_MOVE_CROSS_CHOP', 'AnimationId': 5, 'Type': 'POKEMON_TYPE_FIGHTING', 'Power': 55, 'AccuracyChance': 1, 'CriticalChance': 0.25, 'StaminaLossScalar': 0.1, 'TrainerLevelMin': 1, 'TrainerLevelMax': 100, 'VfxName': 'cross_chop', 'DurationMs': 2000, 'DamageWindowStartMs': 1500, 'DamageWindowEndMs': 1800, 'EnergyDelta': -100}}\n",
      "V0028_POKEMON_SANDSLASH\n",
      "V0029_POKEMON_NIDORAN\n",
      "{'TemplateId': 'V0030_MOVE_PSYBEAM', 'Move': {'UniqueID': 'V0030_MOVE_PSYBEAM', 'AnimationId': 5, 'Type': 'POKEMON_TYPE_PSYCHIC', 'Power': 35, 'AccuracyChance': 1, 'CriticalChance': 0.05, 'StaminaLossScalar': 0.065, 'TrainerLevelMin': 1, 'TrainerLevelMax': 100, 'VfxName': 'psybeam', 'DurationMs': 3800, 'DamageWindowStartMs': 2300, 'DamageWindowEndMs': 3600, 'EnergyDelta': -25}}\n",
      "V0030_POKEMON_NIDORINA\n",
      "{'TemplateId': 'V0031_MOVE_EARTHQUAKE', 'Move': {'UniqueID': 'V0031_MOVE_EARTHQUAKE', 'AnimationId': 5, 'Type': 'POKEMON_TYPE_GROUND', 'Power': 60, 'AccuracyChance': 1, 'CriticalChance': 0.05, 'StaminaLossScalar': 0.1, 'TrainerLevelMin': 1, 'TrainerLevelMax': 100, 'VfxName': 'earthquake', 'DurationMs': 4200, 'DamageWindowStartMs': 2000, 'DamageWindowEndMs': 3950, 'EnergyDelta': -100}}\n",
      "V0031_POKEMON_NIDOQUEEN\n",
      "{'TemplateId': 'V0032_MOVE_STONE_EDGE', 'Move': {'UniqueID': 'V0032_MOVE_STONE_EDGE', 'AnimationId': 5, 'Type': 'POKEMON_TYPE_ROCK', 'Power': 55, 'AccuracyChance': 1, 'CriticalChance': 0.5, 'StaminaLossScalar': 0.1, 'TrainerLevelMin': 1, 'TrainerLevelMax': 100, 'VfxName': 'stone_edge', 'DurationMs': 3100, 'DamageWindowStartMs': 1400, 'DamageWindowEndMs': 1800, 'EnergyDelta': -100}}\n",
      "V0032_POKEMON_NIDORAN\n",
      "{'TemplateId': 'V0033_MOVE_ICE_PUNCH', 'Move': {'UniqueID': 'V0033_MOVE_ICE_PUNCH', 'AnimationId': 5, 'Type': 'POKEMON_TYPE_ICE', 'Power': 45, 'AccuracyChance': 1, 'CriticalChance': 0.05, 'StaminaLossScalar': 0.075, 'TrainerLevelMin': 1, 'TrainerLevelMax': 100, 'VfxName': 'ice_punch', 'DurationMs': 3500, 'DamageWindowStartMs': 2100, 'DamageWindowEndMs': 3200, 'EnergyDelta': -33}}\n",
      "V0033_POKEMON_NIDORINO\n",
      "{'TemplateId': 'V0034_MOVE_HEART_STAMP', 'Move': {'UniqueID': 'V0034_MOVE_HEART_STAMP', 'AnimationId': 5, 'Type': 'POKEMON_TYPE_PSYCHIC', 'Power': 20, 'AccuracyChance': 1, 'CriticalChance': 0.05, 'StaminaLossScalar': 0.06, 'TrainerLevelMin': 1, 'TrainerLevelMax': 100, 'VfxName': 'heart_stamp', 'DurationMs': 2550, 'DamageWindowStartMs': 1950, 'DamageWindowEndMs': 2250, 'EnergyDelta': -25}}\n",
      "V0034_POKEMON_NIDOKING\n",
      "{'TemplateId': 'V0035_MOVE_DISCHARGE', 'Move': {'UniqueID': 'V0035_MOVE_DISCHARGE', 'AnimationId': 5, 'Type': 'POKEMON_TYPE_ELECTRIC', 'Power': 40, 'AccuracyChance': 1, 'CriticalChance': 0.05, 'StaminaLossScalar': 0.08, 'TrainerLevelMin': 1, 'TrainerLevelMax': 100, 'VfxName': 'discharge', 'DurationMs': 2500, 'DamageWindowStartMs': 1600, 'DamageWindowEndMs': 2300, 'EnergyDelta': -33}}\n",
      "V0035_POKEMON_CLEFAIRY\n",
      "{'TemplateId': 'V0036_MOVE_FLASH_CANNON', 'Move': {'UniqueID': 'V0036_MOVE_FLASH_CANNON', 'AnimationId': 5, 'Type': 'POKEMON_TYPE_STEEL', 'Power': 55, 'AccuracyChance': 1, 'CriticalChance': 0.05, 'StaminaLossScalar': 0.08, 'TrainerLevelMin': 1, 'TrainerLevelMax': 100, 'VfxName': 'flash_cannon', 'DurationMs': 3900, 'DamageWindowStartMs': 2400, 'DamageWindowEndMs': 3500, 'EnergyDelta': -33}}\n",
      "V0036_POKEMON_CLEFABLE\n",
      "V0037_POKEMON_VULPIX\n",
      "{'TemplateId': 'V0038_MOVE_DRILL_PECK', 'Move': {'UniqueID': 'V0038_MOVE_DRILL_PECK', 'AnimationId': 5, 'Type': 'POKEMON_TYPE_FLYING', 'Power': 30, 'AccuracyChance': 1, 'CriticalChance': 0.05, 'StaminaLossScalar': 0.08, 'TrainerLevelMin': 1, 'TrainerLevelMax': 100, 'VfxName': 'drill_peck', 'DurationMs': 2700, 'DamageWindowStartMs': 1600, 'DamageWindowEndMs': 2500, 'EnergyDelta': -33}}\n",
      "V0038_POKEMON_NINETALES\n",
      "{'TemplateId': 'V0039_MOVE_ICE_BEAM', 'Move': {'UniqueID': 'V0039_MOVE_ICE_BEAM', 'AnimationId': 5, 'Type': 'POKEMON_TYPE_ICE', 'Power': 50, 'AccuracyChance': 1, 'CriticalChance': 0.05, 'StaminaLossScalar': 0.09, 'TrainerLevelMin': 1, 'TrainerLevelMax': 100, 'VfxName': 'ice_beam', 'DurationMs': 3650, 'DamageWindowStartMs': 2150, 'DamageWindowEndMs': 3500, 'EnergyDelta': -50}}\n",
      "V0039_POKEMON_JIGGLYPUFF\n",
      "{'TemplateId': 'V0040_MOVE_BLIZZARD', 'Move': {'UniqueID': 'V0040_MOVE_BLIZZARD', 'AnimationId': 5, 'Type': 'POKEMON_TYPE_ICE', 'Power': 60, 'AccuracyChance': 1, 'CriticalChance': 0.05, 'StaminaLossScalar': 0.11, 'TrainerLevelMin': 1, 'TrainerLevelMax': 100, 'VfxName': 'blizzard', 'DurationMs': 3900, 'DamageWindowStartMs': 3600, 'DamageWindowEndMs': 3600, 'EnergyDelta': -100}}\n",
      "V0040_POKEMON_WIGGLYTUFF\n",
      "V0041_POKEMON_ZUBAT\n",
      "{'TemplateId': 'V0042_MOVE_HEAT_WAVE', 'Move': {'UniqueID': 'V0042_MOVE_HEAT_WAVE', 'AnimationId': 5, 'Type': 'POKEMON_TYPE_FIRE', 'Power': 60, 'AccuracyChance': 1, 'CriticalChance': 0.05, 'StaminaLossScalar': 0.095, 'TrainerLevelMin': 1, 'TrainerLevelMax': 100, 'VfxName': 'heat_wave', 'DurationMs': 3800, 'DamageWindowStartMs': 3000, 'DamageWindowEndMs': 3400, 'EnergyDelta': -100}}\n",
      "V0042_POKEMON_GOLBAT\n",
      "V0043_POKEMON_ODDISH\n",
      "V0044_POKEMON_GLOOM\n",
      "{'TemplateId': 'V0045_MOVE_AERIAL_ACE', 'Move': {'UniqueID': 'V0045_MOVE_AERIAL_ACE', 'AnimationId': 5, 'Type': 'POKEMON_TYPE_FLYING', 'Power': 25, 'AccuracyChance': 1, 'CriticalChance': 0.05, 'StaminaLossScalar': 0.06, 'TrainerLevelMin': 1, 'TrainerLevelMax': 100, 'VfxName': 'aerial_ace', 'DurationMs': 2900, 'DamageWindowStartMs': 2000, 'DamageWindowEndMs': 2600, 'EnergyDelta': -25}}\n",
      "V0045_POKEMON_VILEPLUME\n",
      "{'TemplateId': 'V0046_MOVE_DRILL_RUN', 'Move': {'UniqueID': 'V0046_MOVE_DRILL_RUN', 'AnimationId': 5, 'Type': 'POKEMON_TYPE_GROUND', 'Power': 40, 'AccuracyChance': 1, 'CriticalChance': 0.25, 'StaminaLossScalar': 0.08, 'TrainerLevelMin': 1, 'TrainerLevelMax': 100, 'VfxName': 'drill_run', 'DurationMs': 3400, 'DamageWindowStartMs': 2100, 'DamageWindowEndMs': 2800, 'EnergyDelta': -33}}\n",
      "V0046_POKEMON_PARAS\n",
      "{'TemplateId': 'V0047_MOVE_PETAL_BLIZZARD', 'Move': {'UniqueID': 'V0047_MOVE_PETAL_BLIZZARD', 'AnimationId': 5, 'Type': 'POKEMON_TYPE_GRASS', 'Power': 50, 'AccuracyChance': 1, 'CriticalChance': 0.05, 'StaminaLossScalar': 0.09, 'TrainerLevelMin': 1, 'TrainerLevelMax': 100, 'VfxName': 'petal_blizzard', 'DurationMs': 3200, 'DamageWindowStartMs': 2100, 'DamageWindowEndMs': 3100, 'EnergyDelta': -50}}\n",
      "V0047_POKEMON_PARASECT\n",
      "{'TemplateId': 'V0048_MOVE_MEGA_DRAIN', 'Move': {'UniqueID': 'V0048_MOVE_MEGA_DRAIN', 'AnimationId': 5, 'Type': 'POKEMON_TYPE_GRASS', 'Power': 15, 'AccuracyChance': 1, 'CriticalChance': 0.05, 'HealScalar': 0.5, 'StaminaLossScalar': 0.04, 'TrainerLevelMin': 1, 'TrainerLevelMax': 100, 'VfxName': 'mega_drain', 'DurationMs': 3200, 'DamageWindowStartMs': 1400, 'DamageWindowEndMs': 2600, 'EnergyDelta': -20}}\n",
      "V0048_POKEMON_VENONAT\n",
      "{'TemplateId': 'V0049_MOVE_BUG_BUZZ', 'Move': {'UniqueID': 'V0049_MOVE_BUG_BUZZ', 'AnimationId': 5, 'Type': 'POKEMON_TYPE_BUG', 'Power': 50, 'AccuracyChance': 1, 'CriticalChance': 0.05, 'StaminaLossScalar': 0.09, 'TrainerLevelMin': 1, 'TrainerLevelMax': 100, 'VfxName': 'bug_buzz', 'DurationMs': 4250, 'DamageWindowStartMs': 2600, 'DamageWindowEndMs': 4100, 'EnergyDelta': -50}}\n",
      "V0049_POKEMON_VENOMOTH\n",
      "{'TemplateId': 'V0050_MOVE_POISON_FANG', 'Move': {'UniqueID': 'V0050_MOVE_POISON_FANG', 'AnimationId': 5, 'Type': 'POKEMON_TYPE_POISON', 'Power': 15, 'AccuracyChance': 1, 'CriticalChance': 0.05, 'StaminaLossScalar': 0.05, 'TrainerLevelMin': 1, 'TrainerLevelMax': 100, 'VfxName': 'poison_fang', 'DurationMs': 2400, 'DamageWindowStartMs': 1650, 'DamageWindowEndMs': 1850, 'EnergyDelta': -20}}\n",
      "V0050_POKEMON_DIGLETT\n",
      "{'TemplateId': 'V0051_MOVE_NIGHT_SLASH', 'Move': {'UniqueID': 'V0051_MOVE_NIGHT_SLASH', 'AnimationId': 5, 'Type': 'POKEMON_TYPE_DARK', 'Power': 25, 'AccuracyChance': 1, 'CriticalChance': 0.25, 'StaminaLossScalar': 0.07, 'TrainerLevelMin': 1, 'TrainerLevelMax': 100, 'VfxName': 'night_slash', 'DurationMs': 2700, 'DamageWindowStartMs': 2400, 'DamageWindowEndMs': 2600, 'EnergyDelta': -25}}\n",
      "V0051_POKEMON_DUGTRIO\n",
      "V0052_POKEMON_MEOWTH\n",
      "{'TemplateId': 'V0053_MOVE_BUBBLE_BEAM', 'Move': {'UniqueID': 'V0053_MOVE_BUBBLE_BEAM', 'AnimationId': 5, 'Type': 'POKEMON_TYPE_WATER', 'Power': 25, 'AccuracyChance': 1, 'CriticalChance': 0.05, 'StaminaLossScalar': 0.065, 'TrainerLevelMin': 1, 'TrainerLevelMax': 100, 'VfxName': 'bubble_beam', 'DurationMs': 2900, 'DamageWindowStartMs': 2600, 'DamageWindowEndMs': 2800, 'EnergyDelta': -25}}\n",
      "V0053_POKEMON_PERSIAN\n",
      "{'TemplateId': 'V0054_MOVE_SUBMISSION', 'Move': {'UniqueID': 'V0054_MOVE_SUBMISSION', 'AnimationId': 5, 'Type': 'POKEMON_TYPE_FIGHTING', 'Power': 30, 'AccuracyChance': 1, 'CriticalChance': 0.05, 'StaminaLossScalar': 0.08, 'TrainerLevelMin': 1, 'TrainerLevelMax': 100, 'VfxName': 'submission', 'DurationMs': 2100, 'DamageWindowStartMs': 1850, 'DamageWindowEndMs': 2000, 'EnergyDelta': -33}}\n",
      "V0054_POKEMON_PSYDUCK\n",
      "V0055_POKEMON_GOLDUCK\n",
      "{'TemplateId': 'V0056_MOVE_LOW_SWEEP', 'Move': {'UniqueID': 'V0056_MOVE_LOW_SWEEP', 'AnimationId': 5, 'Type': 'POKEMON_TYPE_FIGHTING', 'Power': 25, 'AccuracyChance': 1, 'CriticalChance': 0.05, 'StaminaLossScalar': 0.065, 'TrainerLevelMin': 1, 'TrainerLevelMax': 100, 'VfxName': 'low_sweep', 'DurationMs': 2250, 'DamageWindowStartMs': 2000, 'DamageWindowEndMs': 2150, 'EnergyDelta': -25}}\n",
      "V0056_POKEMON_MANKEY\n",
      "{'TemplateId': 'V0057_MOVE_AQUA_JET', 'Move': {'UniqueID': 'V0057_MOVE_AQUA_JET', 'AnimationId': 5, 'Type': 'POKEMON_TYPE_WATER', 'Power': 15, 'AccuracyChance': 1, 'CriticalChance': 0.05, 'StaminaLossScalar': 0.04, 'TrainerLevelMin': 1, 'TrainerLevelMax': 100, 'VfxName': 'aqua_jet', 'DurationMs': 2350, 'DamageWindowStartMs': 1700, 'DamageWindowEndMs': 2100, 'EnergyDelta': -20}}\n",
      "V0057_POKEMON_PRIMEAPE\n",
      "{'TemplateId': 'V0058_MOVE_AQUA_TAIL', 'Move': {'UniqueID': 'V0058_MOVE_AQUA_TAIL', 'AnimationId': 5, 'Type': 'POKEMON_TYPE_WATER', 'Power': 50, 'AccuracyChance': 1, 'CriticalChance': 0.05, 'StaminaLossScalar': 0.09, 'TrainerLevelMin': 1, 'TrainerLevelMax': 100, 'VfxName': 'aqua_tail', 'DurationMs': 2350, 'DamageWindowStartMs': 2050, 'DamageWindowEndMs': 2250, 'EnergyDelta': -50}}\n",
      "V0058_POKEMON_GROWLITHE\n",
      "{'TemplateId': 'V0059_MOVE_SEED_BOMB', 'Move': {'UniqueID': 'V0059_MOVE_SEED_BOMB', 'AnimationId': 5, 'Type': 'POKEMON_TYPE_GRASS', 'Power': 30, 'AccuracyChance': 1, 'CriticalChance': 0.05, 'StaminaLossScalar': 0.08, 'TrainerLevelMin': 1, 'TrainerLevelMax': 100, 'VfxName': 'seed_bomb', 'DurationMs': 2400, 'DamageWindowStartMs': 1300, 'DamageWindowEndMs': 1800, 'EnergyDelta': -33}}\n",
      "V0059_POKEMON_ARCANINE\n",
      "{'TemplateId': 'V0060_MOVE_PSYSHOCK', 'Move': {'UniqueID': 'V0060_MOVE_PSYSHOCK', 'AnimationId': 5, 'Type': 'POKEMON_TYPE_PSYCHIC', 'Power': 40, 'AccuracyChance': 1, 'CriticalChance': 0.05, 'StaminaLossScalar': 0.08, 'TrainerLevelMin': 1, 'TrainerLevelMax': 100, 'VfxName': 'psyshock', 'DurationMs': 2700, 'DamageWindowStartMs': 2200, 'DamageWindowEndMs': 2700, 'EnergyDelta': -33}}\n",
      "V0060_POKEMON_POLIWAG\n",
      "V0061_POKEMON_POLIWHIRL\n",
      "{'TemplateId': 'V0062_MOVE_ANCIENT_POWER', 'Move': {'UniqueID': 'V0062_MOVE_ANCIENT_POWER', 'AnimationId': 5, 'Type': 'POKEMON_TYPE_ROCK', 'Power': 30, 'AccuracyChance': 1, 'CriticalChance': 0.05, 'StaminaLossScalar': 0.06, 'TrainerLevelMin': 1, 'TrainerLevelMax': 100, 'VfxName': 'ancient_power', 'DurationMs': 3600, 'DamageWindowStartMs': 2900, 'DamageWindowEndMs': 3250, 'EnergyDelta': -25}}\n",
      "V0062_POKEMON_POLIWRATH\n",
      "{'TemplateId': 'V0063_MOVE_ROCK_TOMB', 'Move': {'UniqueID': 'V0063_MOVE_ROCK_TOMB', 'AnimationId': 5, 'Type': 'POKEMON_TYPE_ROCK', 'Power': 25, 'AccuracyChance': 1, 'CriticalChance': 0.25, 'StaminaLossScalar': 0.06, 'TrainerLevelMin': 1, 'TrainerLevelMax': 100, 'VfxName': 'rock_tomb', 'DurationMs': 3400, 'DamageWindowStartMs': 2300, 'DamageWindowEndMs': 3200, 'EnergyDelta': -25}}\n",
      "V0063_POKEMON_ABRA\n",
      "{'TemplateId': 'V0064_MOVE_ROCK_SLIDE', 'Move': {'UniqueID': 'V0064_MOVE_ROCK_SLIDE', 'AnimationId': 5, 'Type': 'POKEMON_TYPE_ROCK', 'Power': 40, 'AccuracyChance': 1, 'CriticalChance': 0.05, 'StaminaLossScalar': 0.075, 'TrainerLevelMin': 1, 'TrainerLevelMax': 100, 'VfxName': 'rock_slide', 'DurationMs': 3200, 'DamageWindowStartMs': 1500, 'DamageWindowEndMs': 2900, 'EnergyDelta': -33}}\n",
      "V0064_POKEMON_KADABRA\n",
      "{'TemplateId': 'V0065_MOVE_POWER_GEM', 'Move': {'UniqueID': 'V0065_MOVE_POWER_GEM', 'AnimationId': 5, 'Type': 'POKEMON_TYPE_ROCK', 'Power': 40, 'AccuracyChance': 1, 'CriticalChance': 0.05, 'StaminaLossScalar': 0.08, 'TrainerLevelMin': 1, 'TrainerLevelMax': 100, 'VfxName': 'power_gem', 'DurationMs': 2900, 'DamageWindowStartMs': 2000, 'DamageWindowEndMs': 2800, 'EnergyDelta': -33}}\n",
      "V0065_POKEMON_ALAKAZAM\n",
      "{'TemplateId': 'V0066_MOVE_SHADOW_SNEAK', 'Move': {'UniqueID': 'V0066_MOVE_SHADOW_SNEAK', 'AnimationId': 5, 'Type': 'POKEMON_TYPE_GHOST', 'Power': 15, 'AccuracyChance': 1, 'CriticalChance': 0.05, 'StaminaLossScalar': 0.04, 'TrainerLevelMin': 1, 'TrainerLevelMax': 100, 'VfxName': 'shadow_sneak', 'DurationMs': 3100, 'DamageWindowStartMs': 2300, 'DamageWindowEndMs': 2900, 'EnergyDelta': -20}}\n",
      "V0066_POKEMON_MACHOP\n",
      "{'TemplateId': 'V0067_MOVE_SHADOW_PUNCH', 'Move': {'UniqueID': 'V0067_MOVE_SHADOW_PUNCH', 'AnimationId': 5, 'Type': 'POKEMON_TYPE_GHOST', 'Power': 20, 'AccuracyChance': 1, 'CriticalChance': 0.05, 'StaminaLossScalar': 0.06, 'TrainerLevelMin': 1, 'TrainerLevelMax': 100, 'VfxName': 'shadow_punch', 'DurationMs': 2100, 'DamageWindowStartMs': 1400, 'DamageWindowEndMs': 1700, 'EnergyDelta': -25}}\n",
      "V0067_POKEMON_MACHOKE\n",
      "V0068_POKEMON_MACHAMP\n",
      "{'TemplateId': 'V0069_MOVE_OMINOUS_WIND', 'Move': {'UniqueID': 'V0069_MOVE_OMINOUS_WIND', 'AnimationId': 5, 'Type': 'POKEMON_TYPE_GHOST', 'Power': 25, 'AccuracyChance': 1, 'CriticalChance': 0.05, 'StaminaLossScalar': 0.06, 'TrainerLevelMin': 1, 'TrainerLevelMax': 100, 'VfxName': 'ominous_wind', 'DurationMs': 3100, 'DamageWindowStartMs': 1850, 'DamageWindowEndMs': 2100, 'EnergyDelta': -25}}\n",
      "V0069_POKEMON_BELLSPROUT\n",
      "{'TemplateId': 'V0070_MOVE_SHADOW_BALL', 'Move': {'UniqueID': 'V0070_MOVE_SHADOW_BALL', 'AnimationId': 5, 'Type': 'POKEMON_TYPE_GHOST', 'Power': 40, 'AccuracyChance': 1, 'CriticalChance': 0.05, 'StaminaLossScalar': 0.08, 'TrainerLevelMin': 1, 'TrainerLevelMax': 100, 'VfxName': 'shadow_ball', 'DurationMs': 3080, 'DamageWindowStartMs': 2300, 'DamageWindowEndMs': 2600, 'EnergyDelta': -33}}\n",
      "V0070_POKEMON_WEEPINBELL\n",
      "V0071_POKEMON_VICTREEBEL\n",
      "{'TemplateId': 'V0072_MOVE_MAGNET_BOMB', 'Move': {'UniqueID': 'V0072_MOVE_MAGNET_BOMB', 'AnimationId': 5, 'Type': 'POKEMON_TYPE_STEEL', 'Power': 25, 'AccuracyChance': 1, 'CriticalChance': 0.05, 'StaminaLossScalar': 0.06, 'TrainerLevelMin': 1, 'TrainerLevelMax': 100, 'VfxName': 'magnet_bomb', 'DurationMs': 2800, 'DamageWindowStartMs': 1750, 'DamageWindowEndMs': 2300, 'EnergyDelta': -25}}\n",
      "V0072_POKEMON_TENTACOOL\n",
      "V0073_POKEMON_TENTACRUEL\n",
      "{'TemplateId': 'V0074_MOVE_IRON_HEAD', 'Move': {'UniqueID': 'V0074_MOVE_IRON_HEAD', 'AnimationId': 5, 'Type': 'POKEMON_TYPE_STEEL', 'Power': 40, 'AccuracyChance': 1, 'CriticalChance': 0.05, 'StaminaLossScalar': 0.08, 'TrainerLevelMin': 1, 'TrainerLevelMax': 100, 'VfxName': 'iron_head', 'DurationMs': 2000, 'DamageWindowStartMs': 1550, 'DamageWindowEndMs': 1800, 'EnergyDelta': -33}}\n",
      "V0074_POKEMON_GEODUDE\n",
      "{'TemplateId': 'V0075_MOVE_PARABOLIC_CHARGE', 'Move': {'UniqueID': 'V0075_MOVE_PARABOLIC_CHARGE', 'AnimationId': 5, 'Type': 'POKEMON_TYPE_ELECTRIC', 'Power': 15, 'AccuracyChance': 1, 'CriticalChance': 0.05, 'HealScalar': 0.5, 'StaminaLossScalar': 0.05, 'TrainerLevelMin': 1, 'TrainerLevelMax': 100, 'VfxName': 'parabolic_charge', 'DurationMs': 2100, 'DamageWindowStartMs': 1300, 'DamageWindowEndMs': 1700, 'EnergyDelta': -20}}\n",
      "V0075_POKEMON_GRAVELER\n",
      "V0076_POKEMON_GOLEM\n",
      "{'TemplateId': 'V0077_MOVE_THUNDER_PUNCH', 'Move': {'UniqueID': 'V0077_MOVE_THUNDER_PUNCH', 'AnimationId': 5, 'Type': 'POKEMON_TYPE_ELECTRIC', 'Power': 40, 'AccuracyChance': 1, 'CriticalChance': 0.05, 'StaminaLossScalar': 0.075, 'TrainerLevelMin': 1, 'TrainerLevelMax': 100, 'VfxName': 'thunder_punch', 'DurationMs': 2400, 'DamageWindowStartMs': 1950, 'DamageWindowEndMs': 2200, 'EnergyDelta': -33}}\n",
      "V0077_POKEMON_PONYTA\n",
      "{'TemplateId': 'V0078_MOVE_THUNDER', 'Move': {'UniqueID': 'V0078_MOVE_THUNDER', 'AnimationId': 5, 'Type': 'POKEMON_TYPE_ELECTRIC', 'Power': 65, 'AccuracyChance': 1, 'CriticalChance': 0.05, 'StaminaLossScalar': 0.11, 'TrainerLevelMin': 1, 'TrainerLevelMax': 100, 'VfxName': 'thunder', 'DurationMs': 4300, 'DamageWindowStartMs': 2550, 'DamageWindowEndMs': 4100, 'EnergyDelta': -100}}\n",
      "V0078_POKEMON_RAPIDASH\n",
      "{'TemplateId': 'V0079_MOVE_THUNDERBOLT', 'Move': {'UniqueID': 'V0079_MOVE_THUNDERBOLT', 'AnimationId': 5, 'Type': 'POKEMON_TYPE_ELECTRIC', 'Power': 50, 'AccuracyChance': 1, 'CriticalChance': 0.05, 'StaminaLossScalar': 0.09, 'TrainerLevelMin': 1, 'TrainerLevelMax': 100, 'VfxName': 'thunderbolt', 'DurationMs': 2700, 'DamageWindowStartMs': 1900, 'DamageWindowEndMs': 2700, 'EnergyDelta': -50}}\n",
      "V0079_POKEMON_SLOWPOKE\n",
      "{'TemplateId': 'V0080_MOVE_TWISTER', 'Move': {'UniqueID': 'V0080_MOVE_TWISTER', 'AnimationId': 5, 'Type': 'POKEMON_TYPE_DRAGON', 'Power': 15, 'AccuracyChance': 1, 'CriticalChance': 0.05, 'StaminaLossScalar': 0.04, 'TrainerLevelMin': 1, 'TrainerLevelMax': 100, 'VfxName': 'twister', 'DurationMs': 2700, 'DamageWindowStartMs': 850, 'DamageWindowEndMs': 2600, 'EnergyDelta': -20}}\n",
      "V0080_POKEMON_SLOWBRO\n",
      "V0081_POKEMON_MAGNEMITE\n",
      "{'TemplateId': 'V0082_MOVE_DRAGON_PULSE', 'Move': {'UniqueID': 'V0082_MOVE_DRAGON_PULSE', 'AnimationId': 5, 'Type': 'POKEMON_TYPE_DRAGON', 'Power': 50, 'AccuracyChance': 1, 'CriticalChance': 0.05, 'StaminaLossScalar': 0.085, 'TrainerLevelMin': 1, 'TrainerLevelMax': 100, 'VfxName': 'dragon_pulse', 'DurationMs': 3600, 'DamageWindowStartMs': 2100, 'DamageWindowEndMs': 3300, 'EnergyDelta': -50}}\n",
      "V0082_POKEMON_MAGNETON\n",
      "{'TemplateId': 'V0083_MOVE_DRAGON_CLAW', 'Move': {'UniqueID': 'V0083_MOVE_DRAGON_CLAW', 'AnimationId': 5, 'Type': 'POKEMON_TYPE_DRAGON', 'Power': 40, 'AccuracyChance': 1, 'CriticalChance': 0.25, 'StaminaLossScalar': 0.08, 'TrainerLevelMin': 1, 'TrainerLevelMax': 100, 'VfxName': 'dragon_claw', 'DurationMs': 1500, 'DamageWindowStartMs': 1200, 'DamageWindowEndMs': 1400, 'EnergyDelta': -50}}\n",
      "V0083_POKEMON_FARFETCHD\n",
      "{'TemplateId': 'V0084_MOVE_DISARMING_VOICE', 'Move': {'UniqueID': 'V0084_MOVE_DISARMING_VOICE', 'AnimationId': 5, 'Type': 'POKEMON_TYPE_FAIRY', 'Power': 20, 'AccuracyChance': 1, 'CriticalChance': 0.05, 'StaminaLossScalar': 0.04, 'TrainerLevelMin': 1, 'TrainerLevelMax': 100, 'VfxName': 'disarming_voice', 'DurationMs': 3900, 'DamageWindowStartMs': 1800, 'DamageWindowEndMs': 3600, 'EnergyDelta': -20}}\n",
      "V0084_POKEMON_DODUO\n",
      "{'TemplateId': 'V0085_MOVE_DRAINING_KISS', 'Move': {'UniqueID': 'V0085_MOVE_DRAINING_KISS', 'AnimationId': 5, 'Type': 'POKEMON_TYPE_FAIRY', 'Power': 15, 'AccuracyChance': 1, 'CriticalChance': 0.05, 'HealScalar': 1, 'StaminaLossScalar': 0.05, 'TrainerLevelMin': 1, 'TrainerLevelMax': 100, 'VfxName': 'draining_kiss', 'DurationMs': 2800, 'DamageWindowStartMs': 1000, 'DamageWindowEndMs': 1100, 'EnergyDelta': -20}}\n",
      "V0085_POKEMON_DODRIO\n",
      "{'TemplateId': 'V0086_MOVE_DAZZLING_GLEAM', 'Move': {'UniqueID': 'V0086_MOVE_DAZZLING_GLEAM', 'AnimationId': 5, 'Type': 'POKEMON_TYPE_FAIRY', 'Power': 45, 'AccuracyChance': 1, 'CriticalChance': 0.05, 'StaminaLossScalar': 0.08, 'TrainerLevelMin': 1, 'TrainerLevelMax': 100, 'VfxName': 'dazzling_gleam', 'DurationMs': 4200, 'DamageWindowStartMs': 3300, 'DamageWindowEndMs': 4100, 'EnergyDelta': -33}}\n",
      "V0086_POKEMON_SEEL\n",
      "{'TemplateId': 'V0087_MOVE_MOONBLAST', 'Move': {'UniqueID': 'V0087_MOVE_MOONBLAST', 'AnimationId': 5, 'Type': 'POKEMON_TYPE_FAIRY', 'Power': 60, 'AccuracyChance': 1, 'CriticalChance': 0.05, 'StaminaLossScalar': 0.095, 'TrainerLevelMin': 1, 'TrainerLevelMax': 100, 'VfxName': 'moonblast', 'DurationMs': 4100, 'DamageWindowStartMs': 3500, 'DamageWindowEndMs': 4100, 'EnergyDelta': -100}}\n",
      "V0087_POKEMON_DEWGONG\n",
      "{'TemplateId': 'V0088_MOVE_PLAY_ROUGH', 'Move': {'UniqueID': 'V0088_MOVE_PLAY_ROUGH', 'AnimationId': 5, 'Type': 'POKEMON_TYPE_FAIRY', 'Power': 50, 'AccuracyChance': 1, 'CriticalChance': 0.05, 'StaminaLossScalar': 0.1, 'TrainerLevelMin': 1, 'TrainerLevelMax': 100, 'VfxName': 'play_rough', 'DurationMs': 2900, 'DamageWindowStartMs': 1400, 'DamageWindowEndMs': 2700, 'EnergyDelta': -50}}\n",
      "V0088_POKEMON_GRIMER\n",
      "{'TemplateId': 'V0089_MOVE_CROSS_POISON', 'Move': {'UniqueID': 'V0089_MOVE_CROSS_POISON', 'AnimationId': 5, 'Type': 'POKEMON_TYPE_POISON', 'Power': 20, 'AccuracyChance': 1, 'CriticalChance': 0.25, 'StaminaLossScalar': 0.07, 'TrainerLevelMin': 1, 'TrainerLevelMax': 100, 'VfxName': 'cross_poison', 'DurationMs': 1500, 'DamageWindowStartMs': 1200, 'DamageWindowEndMs': 1500, 'EnergyDelta': -25}}\n",
      "V0089_POKEMON_MUK\n",
      "{'TemplateId': 'V0090_MOVE_SLUDGE_BOMB', 'Move': {'UniqueID': 'V0090_MOVE_SLUDGE_BOMB', 'AnimationId': 5, 'Type': 'POKEMON_TYPE_POISON', 'Power': 50, 'AccuracyChance': 1, 'CriticalChance': 0.05, 'StaminaLossScalar': 0.09, 'TrainerLevelMin': 1, 'TrainerLevelMax': 100, 'VfxName': 'sludge_bomb', 'DurationMs': 2600, 'DamageWindowStartMs': 1950, 'DamageWindowEndMs': 2450, 'EnergyDelta': -50}}\n",
      "V0090_POKEMON_SHELLDER\n",
      "{'TemplateId': 'V0091_MOVE_SLUDGE_WAVE', 'Move': {'UniqueID': 'V0091_MOVE_SLUDGE_WAVE', 'AnimationId': 5, 'Type': 'POKEMON_TYPE_POISON', 'Power': 60, 'AccuracyChance': 1, 'CriticalChance': 0.05, 'StaminaLossScalar': 0.095, 'TrainerLevelMin': 1, 'TrainerLevelMax': 100, 'VfxName': 'sludge_wave', 'DurationMs': 3400, 'DamageWindowStartMs': 2400, 'DamageWindowEndMs': 3300, 'EnergyDelta': -100}}\n",
      "V0091_POKEMON_CLOYSTER\n",
      "{'TemplateId': 'V0092_MOVE_GUNK_SHOT', 'Move': {'UniqueID': 'V0092_MOVE_GUNK_SHOT', 'AnimationId': 5, 'Type': 'POKEMON_TYPE_POISON', 'Power': 60, 'AccuracyChance': 1, 'CriticalChance': 0.05, 'StaminaLossScalar': 0.12, 'TrainerLevelMin': 1, 'TrainerLevelMax': 100, 'VfxName': 'gunk_shot', 'DurationMs': 3000, 'DamageWindowStartMs': 2000, 'DamageWindowEndMs': 2400, 'EnergyDelta': -100}}\n",
      "V0092_POKEMON_GASTLY\n",
      "V0093_POKEMON_HAUNTER\n",
      "{'TemplateId': 'V0094_MOVE_BONE_CLUB', 'Move': {'UniqueID': 'V0094_MOVE_BONE_CLUB', 'AnimationId': 5, 'Type': 'POKEMON_TYPE_GROUND', 'Power': 20, 'AccuracyChance': 1, 'CriticalChance': 0.05, 'StaminaLossScalar': 0.065, 'TrainerLevelMin': 1, 'TrainerLevelMax': 100, 'VfxName': 'bone_club', 'DurationMs': 1600, 'DamageWindowStartMs': 1250, 'DamageWindowEndMs': 1500, 'EnergyDelta': -25}}\n",
      "V0094_POKEMON_GENGAR\n",
      "{'TemplateId': 'V0095_MOVE_BULLDOZE', 'Move': {'UniqueID': 'V0095_MOVE_BULLDOZE', 'AnimationId': 5, 'Type': 'POKEMON_TYPE_GROUND', 'Power': 30, 'AccuracyChance': 1, 'CriticalChance': 0.05, 'StaminaLossScalar': 0.06, 'TrainerLevelMin': 1, 'TrainerLevelMax': 100, 'VfxName': 'bulldoze', 'DurationMs': 3400, 'DamageWindowStartMs': 1900, 'DamageWindowEndMs': 3000, 'EnergyDelta': -25}}\n",
      "V0095_POKEMON_ONIX\n",
      "{'TemplateId': 'V0096_MOVE_MUD_BOMB', 'Move': {'UniqueID': 'V0096_MOVE_MUD_BOMB', 'AnimationId': 5, 'Type': 'POKEMON_TYPE_GROUND', 'Power': 25, 'AccuracyChance': 1, 'CriticalChance': 0.05, 'StaminaLossScalar': 0.065, 'TrainerLevelMin': 1, 'TrainerLevelMax': 100, 'VfxName': 'mud_bomb', 'DurationMs': 2600, 'DamageWindowStartMs': 2050, 'DamageWindowEndMs': 2500, 'EnergyDelta': -25}}\n",
      "V0096_POKEMON_DROWZEE\n",
      "V0097_POKEMON_HYPNO\n",
      "V0098_POKEMON_KRABBY\n",
      "{'TemplateId': 'V0099_MOVE_SIGNAL_BEAM', 'Move': {'UniqueID': 'V0099_MOVE_SIGNAL_BEAM', 'AnimationId': 5, 'Type': 'POKEMON_TYPE_BUG', 'Power': 35, 'AccuracyChance': 1, 'CriticalChance': 0.05, 'StaminaLossScalar': 0.075, 'TrainerLevelMin': 1, 'TrainerLevelMax': 100, 'VfxName': 'signal_beam', 'DurationMs': 3100, 'DamageWindowStartMs': 2000, 'DamageWindowEndMs': 3000, 'EnergyDelta': -33}}\n",
      "V0099_POKEMON_KINGLER\n",
      "{'TemplateId': 'V0100_MOVE_X_SCISSOR', 'Move': {'UniqueID': 'V0100_MOVE_X_SCISSOR', 'AnimationId': 5, 'Type': 'POKEMON_TYPE_BUG', 'Power': 30, 'AccuracyChance': 1, 'CriticalChance': 0.05, 'StaminaLossScalar': 0.08, 'TrainerLevelMin': 1, 'TrainerLevelMax': 100, 'VfxName': 'x_scissor', 'DurationMs': 2100, 'DamageWindowStartMs': 1350, 'DamageWindowEndMs': 1600, 'EnergyDelta': -33}}\n",
      "V0100_POKEMON_VOLTORB\n",
      "{'TemplateId': 'V0101_MOVE_FLAME_CHARGE', 'Move': {'UniqueID': 'V0101_MOVE_FLAME_CHARGE', 'AnimationId': 5, 'Type': 'POKEMON_TYPE_FIRE', 'Power': 20, 'AccuracyChance': 1, 'CriticalChance': 0.05, 'StaminaLossScalar': 0.05, 'TrainerLevelMin': 1, 'TrainerLevelMax': 100, 'VfxName': 'flame_charge', 'DurationMs': 3100, 'DamageWindowStartMs': 2700, 'DamageWindowEndMs': 2900, 'EnergyDelta': -20}}\n",
      "V0101_POKEMON_ELECTRODE\n",
      "{'TemplateId': 'V0102_MOVE_FLAME_BURST', 'Move': {'UniqueID': 'V0102_MOVE_FLAME_BURST', 'AnimationId': 5, 'Type': 'POKEMON_TYPE_FIRE', 'Power': 25, 'AccuracyChance': 1, 'CriticalChance': 0.05, 'StaminaLossScalar': 0.07, 'TrainerLevelMin': 1, 'TrainerLevelMax': 100, 'VfxName': 'flame_burst', 'DurationMs': 2100, 'DamageWindowStartMs': 1200, 'DamageWindowEndMs': 1600, 'EnergyDelta': -25}}\n",
      "V0102_POKEMON_EXEGGCUTE\n",
      "{'TemplateId': 'V0103_MOVE_FIRE_BLAST', 'Move': {'UniqueID': 'V0103_MOVE_FIRE_BLAST', 'AnimationId': 5, 'Type': 'POKEMON_TYPE_FIRE', 'Power': 60, 'AccuracyChance': 1, 'CriticalChance': 0.05, 'StaminaLossScalar': 0.11, 'TrainerLevelMin': 1, 'TrainerLevelMax': 100, 'VfxName': 'fire_blast', 'DurationMs': 4100, 'DamageWindowStartMs': 3600, 'DamageWindowEndMs': 4000, 'EnergyDelta': -100}}\n",
      "V0103_POKEMON_EXEGGUTOR\n",
      "{'TemplateId': 'V0104_MOVE_BRINE', 'Move': {'UniqueID': 'V0104_MOVE_BRINE', 'AnimationId': 5, 'Type': 'POKEMON_TYPE_WATER', 'Power': 20, 'AccuracyChance': 1, 'CriticalChance': 0.05, 'StaminaLossScalar': 0.065, 'TrainerLevelMin': 1, 'TrainerLevelMax': 100, 'VfxName': 'brine', 'DurationMs': 2400, 'DamageWindowStartMs': 1650, 'DamageWindowEndMs': 2000, 'EnergyDelta': -25}}\n",
      "V0104_POKEMON_CUBONE\n",
      "{'TemplateId': 'V0105_MOVE_WATER_PULSE', 'Move': {'UniqueID': 'V0105_MOVE_WATER_PULSE', 'AnimationId': 5, 'Type': 'POKEMON_TYPE_WATER', 'Power': 30, 'AccuracyChance': 1, 'CriticalChance': 0.05, 'StaminaLossScalar': 0.06, 'TrainerLevelMin': 1, 'TrainerLevelMax': 100, 'VfxName': 'water_pulse', 'DurationMs': 3300, 'DamageWindowStartMs': 1900, 'DamageWindowEndMs': 2900, 'EnergyDelta': -25}}\n",
      "V0105_POKEMON_MAROWAK\n",
      "{'TemplateId': 'V0106_MOVE_SCALD', 'Move': {'UniqueID': 'V0106_MOVE_SCALD', 'AnimationId': 5, 'Type': 'POKEMON_TYPE_WATER', 'Power': 35, 'AccuracyChance': 1, 'CriticalChance': 0.05, 'StaminaLossScalar': 0.08, 'TrainerLevelMin': 1, 'TrainerLevelMax': 100, 'VfxName': 'scald', 'DurationMs': 4000, 'DamageWindowStartMs': 1800, 'DamageWindowEndMs': 3900, 'EnergyDelta': -33}}\n",
      "V0106_POKEMON_HITMONLEE\n",
      "{'TemplateId': 'V0107_MOVE_HYDRO_PUMP', 'Move': {'UniqueID': 'V0107_MOVE_HYDRO_PUMP', 'AnimationId': 5, 'Type': 'POKEMON_TYPE_WATER', 'Power': 60, 'AccuracyChance': 1, 'CriticalChance': 0.05, 'StaminaLossScalar': 0.11, 'TrainerLevelMin': 1, 'TrainerLevelMax': 100, 'VfxName': 'hydro_pump', 'DurationMs': 3800, 'DamageWindowStartMs': 1500, 'DamageWindowEndMs': 3600, 'EnergyDelta': -100}}\n",
      "V0107_POKEMON_HITMONCHAN\n",
      "{'TemplateId': 'V0108_MOVE_PSYCHIC', 'Move': {'UniqueID': 'V0108_MOVE_PSYCHIC', 'AnimationId': 5, 'Type': 'POKEMON_TYPE_PSYCHIC', 'Power': 50, 'AccuracyChance': 1, 'CriticalChance': 0.05, 'StaminaLossScalar': 0.09, 'TrainerLevelMin': 1, 'TrainerLevelMax': 100, 'VfxName': 'psychic', 'DurationMs': 2800, 'DamageWindowStartMs': 1600, 'DamageWindowEndMs': 2800, 'EnergyDelta': -50}}\n",
      "V0108_POKEMON_LICKITUNG\n",
      "{'TemplateId': 'V0109_MOVE_PSYSTRIKE', 'Move': {'UniqueID': 'V0109_MOVE_PSYSTRIKE', 'AnimationId': 5, 'Type': 'POKEMON_TYPE_PSYCHIC', 'Power': 70, 'AccuracyChance': 1, 'CriticalChance': 0.05, 'StaminaLossScalar': 0.1, 'TrainerLevelMin': 1, 'TrainerLevelMax': 100, 'VfxName': 'psystrike', 'DurationMs': 5100, 'DamageWindowStartMs': 4400, 'DamageWindowEndMs': 5300, 'EnergyDelta': -100}}\n",
      "V0109_POKEMON_KOFFING\n",
      "V0110_POKEMON_WEEZING\n",
      "{'TemplateId': 'V0111_MOVE_ICY_WIND', 'Move': {'UniqueID': 'V0111_MOVE_ICY_WIND', 'AnimationId': 5, 'Type': 'POKEMON_TYPE_ICE', 'Power': 15, 'AccuracyChance': 1, 'CriticalChance': 0.05, 'StaminaLossScalar': 0.055, 'TrainerLevelMin': 1, 'TrainerLevelMax': 100, 'VfxName': 'icy_wind', 'DurationMs': 3800, 'DamageWindowStartMs': 2000, 'DamageWindowEndMs': 2700, 'EnergyDelta': -20}}\n",
      "V0111_POKEMON_RHYHORN\n",
      "V0112_POKEMON_RHYDON\n",
      "V0113_POKEMON_CHANSEY\n",
      "{'TemplateId': 'V0114_MOVE_GIGA_DRAIN', 'Move': {'UniqueID': 'V0114_MOVE_GIGA_DRAIN', 'AnimationId': 5, 'Type': 'POKEMON_TYPE_GRASS', 'Power': 35, 'AccuracyChance': 1, 'CriticalChance': 0.05, 'HealScalar': 0.5, 'StaminaLossScalar': 0.075, 'TrainerLevelMin': 1, 'TrainerLevelMax': 100, 'VfxName': 'giga_drain', 'DurationMs': 3600, 'DamageWindowStartMs': 350, 'DamageWindowEndMs': 1500, 'EnergyDelta': -33}}\n",
      "V0114_POKEMON_TANGELA\n",
      "{'TemplateId': 'V0115_MOVE_FIRE_PUNCH', 'Move': {'UniqueID': 'V0115_MOVE_FIRE_PUNCH', 'AnimationId': 5, 'Type': 'POKEMON_TYPE_FIRE', 'Power': 35, 'AccuracyChance': 1, 'CriticalChance': 0.05, 'StaminaLossScalar': 0.075, 'TrainerLevelMin': 1, 'TrainerLevelMax': 100, 'VfxName': 'fire_punch', 'DurationMs': 2800, 'DamageWindowStartMs': 1690, 'DamageWindowEndMs': 2200, 'EnergyDelta': -33}}\n",
      "V0115_POKEMON_KANGASKHAN\n",
      "{'TemplateId': 'V0116_MOVE_SOLAR_BEAM', 'Move': {'UniqueID': 'V0116_MOVE_SOLAR_BEAM', 'AnimationId': 5, 'Type': 'POKEMON_TYPE_GRASS', 'Power': 65, 'AccuracyChance': 1, 'CriticalChance': 0.05, 'StaminaLossScalar': 0.12, 'TrainerLevelMin': 1, 'TrainerLevelMax': 100, 'VfxName': 'solar_beam', 'DurationMs': 4900, 'DamageWindowStartMs': 3100, 'DamageWindowEndMs': 4800, 'EnergyDelta': -100}}\n",
      "V0116_POKEMON_HORSEA\n",
      "{'TemplateId': 'V0117_MOVE_LEAF_BLADE', 'Move': {'UniqueID': 'V0117_MOVE_LEAF_BLADE', 'AnimationId': 5, 'Type': 'POKEMON_TYPE_GRASS', 'Power': 45, 'AccuracyChance': 1, 'CriticalChance': 0.25, 'StaminaLossScalar': 0.09, 'TrainerLevelMin': 1, 'TrainerLevelMax': 100, 'VfxName': 'leaf_blade', 'DurationMs': 2800, 'DamageWindowStartMs': 1200, 'DamageWindowEndMs': 2200, 'EnergyDelta': -50}}\n",
      "V0117_POKEMON_SEADRA\n",
      "{'TemplateId': 'V0118_MOVE_POWER_WHIP', 'Move': {'UniqueID': 'V0118_MOVE_POWER_WHIP', 'AnimationId': 5, 'Type': 'POKEMON_TYPE_GRASS', 'Power': 60, 'AccuracyChance': 1, 'StaminaLossScalar': 0.12, 'TrainerLevelMin': 1, 'TrainerLevelMax': 100, 'VfxName': 'power_whip', 'DurationMs': 2800, 'DamageWindowStartMs': 1500, 'DamageWindowEndMs': 2800, 'EnergyDelta': -100}}\n",
      "V0118_POKEMON_GOLDEEN\n",
      "V0119_POKEMON_SEAKING\n",
      "V0120_POKEMON_STARYU\n",
      "{'TemplateId': 'V0121_MOVE_AIR_CUTTER', 'Move': {'UniqueID': 'V0121_MOVE_AIR_CUTTER', 'AnimationId': 5, 'Type': 'POKEMON_TYPE_FLYING', 'Power': 25, 'AccuracyChance': 1, 'CriticalChance': 0.25, 'StaminaLossScalar': 0.06, 'TrainerLevelMin': 1, 'TrainerLevelMax': 100, 'VfxName': 'air_cutter', 'DurationMs': 3300, 'DamageWindowStartMs': 2200, 'DamageWindowEndMs': 3100, 'EnergyDelta': -25}}\n",
      "V0121_POKEMON_STARMIE\n",
      "{'TemplateId': 'V0122_MOVE_HURRICANE', 'Move': {'UniqueID': 'V0122_MOVE_HURRICANE', 'AnimationId': 5, 'Type': 'POKEMON_TYPE_FLYING', 'Power': 60, 'AccuracyChance': 1, 'CriticalChance': 0.05, 'StaminaLossScalar': 0.11, 'TrainerLevelMin': 1, 'TrainerLevelMax': 100, 'VfxName': 'hurricane', 'DurationMs': 3200, 'DamageWindowStartMs': 1030, 'DamageWindowEndMs': 2800, 'EnergyDelta': -100}}\n",
      "V0122_POKEMON_MR_MIME\n",
      "{'TemplateId': 'V0123_MOVE_BRICK_BREAK', 'Move': {'UniqueID': 'V0123_MOVE_BRICK_BREAK', 'AnimationId': 5, 'Type': 'POKEMON_TYPE_FIGHTING', 'Power': 30, 'AccuracyChance': 1, 'CriticalChance': 0.25, 'StaminaLossScalar': 0.075, 'TrainerLevelMin': 1, 'TrainerLevelMax': 100, 'VfxName': 'brick_break', 'DurationMs': 1600, 'DamageWindowStartMs': 1100, 'DamageWindowEndMs': 1500, 'EnergyDelta': -33}}\n",
      "V0123_POKEMON_SCYTHER\n",
      "V0124_POKEMON_JYNX\n",
      "{'TemplateId': 'V0125_MOVE_SWIFT', 'Move': {'UniqueID': 'V0125_MOVE_SWIFT', 'AnimationId': 5, 'Type': 'POKEMON_TYPE_NORMAL', 'Power': 25, 'AccuracyChance': 1, 'CriticalChance': 0.05, 'StaminaLossScalar': 0.06, 'TrainerLevelMin': 1, 'TrainerLevelMax': 100, 'VfxName': 'swift', 'DurationMs': 3000, 'DamageWindowStartMs': 2300, 'DamageWindowEndMs': 2800, 'EnergyDelta': -25}}\n",
      "V0125_POKEMON_ELECTABUZZ\n",
      "{'TemplateId': 'V0126_MOVE_HORN_ATTACK', 'Move': {'UniqueID': 'V0126_MOVE_HORN_ATTACK', 'AnimationId': 5, 'Type': 'POKEMON_TYPE_NORMAL', 'Power': 20, 'AccuracyChance': 1, 'CriticalChance': 0.05, 'StaminaLossScalar': 0.065, 'TrainerLevelMin': 1, 'TrainerLevelMax': 100, 'VfxName': 'horn_attack', 'DurationMs': 2200, 'DamageWindowStartMs': 1600, 'DamageWindowEndMs': 1900, 'EnergyDelta': -25}}\n",
      "V0126_POKEMON_MAGMAR\n",
      "{'TemplateId': 'V0127_MOVE_STOMP', 'Move': {'UniqueID': 'V0127_MOVE_STOMP', 'AnimationId': 5, 'Type': 'POKEMON_TYPE_NORMAL', 'Power': 25, 'AccuracyChance': 1, 'CriticalChance': 0.05, 'StaminaLossScalar': 0.065, 'TrainerLevelMin': 1, 'TrainerLevelMax': 100, 'VfxName': 'stomp', 'DurationMs': 2100, 'DamageWindowStartMs': 1200, 'DamageWindowEndMs': 1900, 'EnergyDelta': -25}}\n",
      "V0127_POKEMON_PINSIR\n",
      "V0128_POKEMON_TAUROS\n",
      "{'TemplateId': 'V0129_MOVE_HYPER_FANG', 'Move': {'UniqueID': 'V0129_MOVE_HYPER_FANG', 'AnimationId': 5, 'Type': 'POKEMON_TYPE_NORMAL', 'Power': 35, 'AccuracyChance': 1, 'CriticalChance': 0.05, 'StaminaLossScalar': 0.08, 'TrainerLevelMin': 1, 'TrainerLevelMax': 100, 'VfxName': 'hyper_fang', 'DurationMs': 2100, 'DamageWindowStartMs': 1700, 'DamageWindowEndMs': 2000, 'EnergyDelta': -33}}\n",
      "V0129_POKEMON_MAGIKARP\n",
      "V0130_POKEMON_GYARADOS\n",
      "{'TemplateId': 'V0131_MOVE_BODY_SLAM', 'Move': {'UniqueID': 'V0131_MOVE_BODY_SLAM', 'AnimationId': 5, 'Type': 'POKEMON_TYPE_NORMAL', 'Power': 50, 'AccuracyChance': 1, 'CriticalChance': 0.05, 'StaminaLossScalar': 0.085, 'TrainerLevelMin': 1, 'TrainerLevelMax': 100, 'VfxName': 'body_slam', 'DurationMs': 1560, 'DamageWindowStartMs': 1100, 'DamageWindowEndMs': 1300, 'EnergyDelta': -50}}\n",
      "V0131_POKEMON_LAPRAS\n",
      "{'TemplateId': 'V0132_MOVE_REST', 'Move': {'UniqueID': 'V0132_MOVE_REST', 'AnimationId': 5, 'Type': 'POKEMON_TYPE_NORMAL', 'Power': 35, 'AccuracyChance': 1, 'HealScalar': 1, 'TrainerLevelMin': 1, 'TrainerLevelMax': 100, 'VfxName': 'rest', 'DurationMs': 3100, 'DamageWindowStartMs': 1395, 'DamageWindowEndMs': 2691, 'EnergyDelta': -33}}\n",
      "V0132_POKEMON_DITTO\n",
      "{'TemplateId': 'V0133_MOVE_STRUGGLE', 'Move': {'UniqueID': 'V0133_MOVE_STRUGGLE', 'AnimationId': 5, 'Type': 'POKEMON_TYPE_NORMAL', 'Power': 15, 'AccuracyChance': 1, 'StaminaLossScalar': 0.1, 'TrainerLevelMin': 1, 'TrainerLevelMax': 100, 'VfxName': 'struggle', 'DurationMs': 1695, 'DamageWindowStartMs': 800, 'DamageWindowEndMs': 1500, 'EnergyDelta': -20}}\n",
      "V0133_POKEMON_EEVEE\n",
      "{'TemplateId': 'V0134_MOVE_SCALD_BLASTOISE', 'Move': {'UniqueID': 'V0134_MOVE_SCALD_BLASTOISE', 'AnimationId': 5, 'Type': 'POKEMON_TYPE_WATER', 'Power': 35, 'AccuracyChance': 1, 'CriticalChance': 0.05, 'StaminaLossScalar': 0.08, 'TrainerLevelMin': 1, 'TrainerLevelMax': 100, 'VfxName': 'scald_blastoise', 'DurationMs': 4000, 'DamageWindowStartMs': 1800, 'DamageWindowEndMs': 3900, 'EnergyDelta': -33}}\n",
      "V0134_POKEMON_VAPOREON\n",
      "{'TemplateId': 'V0135_MOVE_HYDRO_PUMP_BLASTOISE', 'Move': {'UniqueID': 'V0135_MOVE_HYDRO_PUMP_BLASTOISE', 'AnimationId': 5, 'Type': 'POKEMON_TYPE_WATER', 'Power': 60, 'AccuracyChance': 1, 'CriticalChance': 0.05, 'StaminaLossScalar': 0.11, 'TrainerLevelMin': 1, 'TrainerLevelMax': 100, 'VfxName': 'hydro_pump_blastoise', 'DurationMs': 3800, 'DamageWindowStartMs': 1500, 'DamageWindowEndMs': 3600, 'EnergyDelta': -100}}\n",
      "V0135_POKEMON_JOLTEON\n",
      "{'TemplateId': 'V0136_MOVE_WRAP_GREEN', 'Move': {'UniqueID': 'V0136_MOVE_WRAP_GREEN', 'AnimationId': 5, 'Type': 'POKEMON_TYPE_NORMAL', 'Power': 15, 'AccuracyChance': 1, 'CriticalChance': 0.05, 'StaminaLossScalar': 0.06, 'TrainerLevelMin': 1, 'TrainerLevelMax': 100, 'VfxName': 'wrap_green', 'DurationMs': 3700, 'DamageWindowStartMs': 2200, 'DamageWindowEndMs': 3200, 'EnergyDelta': -20}}\n",
      "V0136_POKEMON_FLAREON\n",
      "{'TemplateId': 'V0137_MOVE_WRAP_PINK', 'Move': {'UniqueID': 'V0137_MOVE_WRAP_PINK', 'AnimationId': 5, 'Type': 'POKEMON_TYPE_NORMAL', 'Power': 15, 'AccuracyChance': 1, 'CriticalChance': 0.05, 'StaminaLossScalar': 0.06, 'TrainerLevelMin': 1, 'TrainerLevelMax': 100, 'VfxName': 'wrap_pink', 'DurationMs': 3700, 'DamageWindowStartMs': 2200, 'DamageWindowEndMs': 3200, 'EnergyDelta': -20}}\n",
      "V0137_POKEMON_PORYGON\n",
      "V0138_POKEMON_OMANYTE\n",
      "V0139_POKEMON_OMASTAR\n",
      "V0140_POKEMON_KABUTO\n",
      "V0141_POKEMON_KABUTOPS\n",
      "V0142_POKEMON_AERODACTYL\n",
      "V0143_POKEMON_SNORLAX\n",
      "V0144_POKEMON_ARTICUNO\n",
      "V0145_POKEMON_ZAPDOS\n",
      "V0146_POKEMON_MOLTRES\n",
      "V0147_POKEMON_DRATINI\n",
      "V0148_POKEMON_DRAGONAIR\n",
      "V0149_POKEMON_DRAGONITE\n",
      "V0150_POKEMON_MEWTWO\n",
      "V0151_POKEMON_MEW\n"
     ]
    }
   ],
   "source": [
    "for entry in pokemon_dict['Pokemon']:\n",
    "    if 'Pokemon' in entry.keys():\n",
    "        print (entry['Pokemon']['UniqueID'])\n",
    "    else:\n",
    "        print (entry)    "
   ]
  },
  {
   "cell_type": "code",
   "execution_count": 42,
   "metadata": {},
   "outputs": [],
   "source": [
    "pkm_lst = []\n",
    "for entry in pokemon_dict['Pokemon']:\n",
    "    if 'Pokemon' in entry.keys():\n",
    "        pkm_lst.append(entry['Pokemon']['UniqueID'])"
   ]
  },
  {
   "cell_type": "code",
   "execution_count": 44,
   "metadata": {},
   "outputs": [
    {
     "data": {
      "text/plain": [
       "151"
      ]
     },
     "execution_count": 44,
     "metadata": {},
     "output_type": "execute_result"
    }
   ],
   "source": [
    "len(pkm_lst)"
   ]
  },
  {
   "cell_type": "markdown",
   "metadata": {},
   "source": [
    "#### 2) Create two new lists. One should contain only the Pokemon name itself (e.g. 'BULBASAUR') with the 'V0001\\_POKEMON\\_' portion of the string removed. The other should have the Pokemon ID (e.g. 'V0001') stored as a string. All three lists should be the same length.\n",
    "\n",
    "Note: There is one pokemon with two names separated by an underscore, don't worry about getting both parts of his name"
   ]
  },
  {
   "cell_type": "code",
   "execution_count": null,
   "metadata": {},
   "outputs": [],
   "source": []
  },
  {
   "cell_type": "markdown",
   "metadata": {},
   "source": [
    "#### 3) Create a dataframe with the ID (e.g. 'V0001') as the index and the pokemon name (e.g. 'Bulbasaur') as the first column."
   ]
  },
  {
   "cell_type": "code",
   "execution_count": null,
   "metadata": {},
   "outputs": [],
   "source": []
  }
 ],
 "metadata": {
  "kernelspec": {
   "display_name": "Python 3",
   "language": "python",
   "name": "python3"
  },
  "language_info": {
   "codemirror_mode": {
    "name": "ipython",
    "version": 3
   },
   "file_extension": ".py",
   "mimetype": "text/x-python",
   "name": "python",
   "nbconvert_exporter": "python",
   "pygments_lexer": "ipython3",
   "version": "3.7.3"
  }
 },
 "nbformat": 4,
 "nbformat_minor": 2
}
