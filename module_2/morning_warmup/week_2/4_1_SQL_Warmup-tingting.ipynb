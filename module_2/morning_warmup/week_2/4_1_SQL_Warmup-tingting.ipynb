{
 "cells": [
  {
   "cell_type": "markdown",
   "metadata": {},
   "source": [
    "Questions\n",
    "1. how to know the available tables in the database?\n",
    "2. how to connect to the console, tv screen? "
   ]
  },
  {
   "cell_type": "markdown",
   "metadata": {},
   "source": [
    "### Import packages "
   ]
  },
  {
   "cell_type": "code",
   "execution_count": 1,
   "metadata": {},
   "outputs": [],
   "source": [
    "import sqlite3\n",
    "import pandas as pd"
   ]
  },
  {
   "cell_type": "markdown",
   "metadata": {},
   "source": [
    "### Connect to database - there are two relevant tables ('author' and 'books')"
   ]
  },
  {
   "cell_type": "code",
   "execution_count": 18,
   "metadata": {},
   "outputs": [],
   "source": [
    "conn = sqlite3.connect('amazon_db.db')\n",
    "c = conn.cursor()"
   ]
  },
  {
   "cell_type": "markdown",
   "metadata": {},
   "source": [
    "``` python\n",
    "# try fetch tables in the database\n",
    "\n",
    "c.execute('SELECT name, type FROM amazon_db') \n",
    "print(c.fetchall())\n",
    "\n",
    "> OperationalError: no such table: amazon_db\n",
    "#amazon_db is database, not schema, need to know the schema as (look-up table)         \n",
    "```"
   ]
  },
  {
   "cell_type": "code",
   "execution_count": 23,
   "metadata": {
    "scrolled": true
   },
   "outputs": [
    {
     "data": {
      "text/html": [
       "<div>\n",
       "<style scoped>\n",
       "    .dataframe tbody tr th:only-of-type {\n",
       "        vertical-align: middle;\n",
       "    }\n",
       "\n",
       "    .dataframe tbody tr th {\n",
       "        vertical-align: top;\n",
       "    }\n",
       "\n",
       "    .dataframe thead th {\n",
       "        text-align: right;\n",
       "    }\n",
       "</style>\n",
       "<table border=\"1\" class=\"dataframe\">\n",
       "  <thead>\n",
       "    <tr style=\"text-align: right;\">\n",
       "      <th></th>\n",
       "      <th>0</th>\n",
       "      <th>1</th>\n",
       "    </tr>\n",
       "  </thead>\n",
       "  <tbody>\n",
       "    <tr>\n",
       "      <th>0</th>\n",
       "      <td>A Elephant Ate Under A Fish</td>\n",
       "      <td>4226324</td>\n",
       "    </tr>\n",
       "    <tr>\n",
       "      <th>1</th>\n",
       "      <td>A Boy Jumped Outside A Lake</td>\n",
       "      <td>4048899</td>\n",
       "    </tr>\n",
       "    <tr>\n",
       "      <th>2</th>\n",
       "      <td>One Man Hopped Under The Tree</td>\n",
       "      <td>774329</td>\n",
       "    </tr>\n",
       "    <tr>\n",
       "      <th>3</th>\n",
       "      <td>A Person Threw Behind The Notebook</td>\n",
       "      <td>1359606</td>\n",
       "    </tr>\n",
       "    <tr>\n",
       "      <th>4</th>\n",
       "      <td>The Tree Ran Through A Mountain</td>\n",
       "      <td>4703380</td>\n",
       "    </tr>\n",
       "  </tbody>\n",
       "</table>\n",
       "</div>"
      ],
      "text/plain": [
       "                                    0        1\n",
       "0         A Elephant Ate Under A Fish  4226324\n",
       "1         A Boy Jumped Outside A Lake  4048899\n",
       "2       One Man Hopped Under The Tree   774329\n",
       "3  A Person Threw Behind The Notebook  1359606\n",
       "4     The Tree Ran Through A Mountain  4703380"
      ]
     },
     "execution_count": 23,
     "metadata": {},
     "output_type": "execute_result"
    }
   ],
   "source": [
    "c.execute(\"\"\"SELECT * FROM books \n",
    "LIMIT 5; \"\"\") #exercute query to retrieve desired data\n",
    "\n",
    "df_test = pd.DataFrame(c.fetchall()) # \n",
    "df_test"
   ]
  },
  {
   "cell_type": "code",
   "execution_count": 24,
   "metadata": {},
   "outputs": [
    {
     "data": {
      "text/plain": [
       "(('books', None, None, None, None, None, None),\n",
       " ('num_copies', None, None, None, None, None, None))"
      ]
     },
     "execution_count": 24,
     "metadata": {},
     "output_type": "execute_result"
    }
   ],
   "source": [
    "c.description"
   ]
  },
  {
   "cell_type": "code",
   "execution_count": 22,
   "metadata": {},
   "outputs": [
    {
     "data": {
      "text/html": [
       "<div>\n",
       "<style scoped>\n",
       "    .dataframe tbody tr th:only-of-type {\n",
       "        vertical-align: middle;\n",
       "    }\n",
       "\n",
       "    .dataframe tbody tr th {\n",
       "        vertical-align: top;\n",
       "    }\n",
       "\n",
       "    .dataframe thead th {\n",
       "        text-align: right;\n",
       "    }\n",
       "</style>\n",
       "<table border=\"1\" class=\"dataframe\">\n",
       "  <thead>\n",
       "    <tr style=\"text-align: right;\">\n",
       "      <th></th>\n",
       "      <th>books</th>\n",
       "      <th>num_copies</th>\n",
       "    </tr>\n",
       "  </thead>\n",
       "  <tbody>\n",
       "    <tr>\n",
       "      <th>0</th>\n",
       "      <td>A Elephant Ate Under A Fish</td>\n",
       "      <td>4226324</td>\n",
       "    </tr>\n",
       "    <tr>\n",
       "      <th>1</th>\n",
       "      <td>A Boy Jumped Outside A Lake</td>\n",
       "      <td>4048899</td>\n",
       "    </tr>\n",
       "    <tr>\n",
       "      <th>2</th>\n",
       "      <td>One Man Hopped Under The Tree</td>\n",
       "      <td>774329</td>\n",
       "    </tr>\n",
       "    <tr>\n",
       "      <th>3</th>\n",
       "      <td>A Person Threw Behind The Notebook</td>\n",
       "      <td>1359606</td>\n",
       "    </tr>\n",
       "    <tr>\n",
       "      <th>4</th>\n",
       "      <td>The Tree Ran Through A Mountain</td>\n",
       "      <td>4703380</td>\n",
       "    </tr>\n",
       "  </tbody>\n",
       "</table>\n",
       "</div>"
      ],
      "text/plain": [
       "                                books num_copies\n",
       "0         A Elephant Ate Under A Fish    4226324\n",
       "1         A Boy Jumped Outside A Lake    4048899\n",
       "2       One Man Hopped Under The Tree     774329\n",
       "3  A Person Threw Behind The Notebook    1359606\n",
       "4     The Tree Ran Through A Mountain    4703380"
      ]
     },
     "execution_count": 22,
     "metadata": {},
     "output_type": "execute_result"
    }
   ],
   "source": [
    "c.execute(\"\"\"SELECT * FROM books\n",
    "LIMIT 5; \"\"\")  # need to re-execute this line, otherwise error\n",
    "\n",
    "df = pd.DataFrame(c.fetchall())\n",
    "df.columns = [i[0] for i in c.description] #rename col names use c.description \n",
    "df"
   ]
  },
  {
   "cell_type": "code",
   "execution_count": 5,
   "metadata": {},
   "outputs": [],
   "source": [
    "c.execute(\"\"\"SELECT * FROM author\n",
    "LIMIT 5; \"\"\");"
   ]
  },
  {
   "cell_type": "code",
   "execution_count": 6,
   "metadata": {},
   "outputs": [
    {
     "data": {
      "text/html": [
       "<div>\n",
       "<style scoped>\n",
       "    .dataframe tbody tr th:only-of-type {\n",
       "        vertical-align: middle;\n",
       "    }\n",
       "\n",
       "    .dataframe tbody tr th {\n",
       "        vertical-align: top;\n",
       "    }\n",
       "\n",
       "    .dataframe thead th {\n",
       "        text-align: right;\n",
       "    }\n",
       "</style>\n",
       "<table border=\"1\" class=\"dataframe\">\n",
       "  <thead>\n",
       "    <tr style=\"text-align: right;\">\n",
       "      <th></th>\n",
       "      <th>author</th>\n",
       "      <th>book</th>\n",
       "    </tr>\n",
       "  </thead>\n",
       "  <tbody>\n",
       "    <tr>\n",
       "      <th>0</th>\n",
       "      <td>David Taylor</td>\n",
       "      <td>A Guy Dove Outside The Desk</td>\n",
       "    </tr>\n",
       "    <tr>\n",
       "      <th>1</th>\n",
       "      <td>Sidney Osborne</td>\n",
       "      <td>A Fish Hopped Through A Lake</td>\n",
       "    </tr>\n",
       "    <tr>\n",
       "      <th>2</th>\n",
       "      <td>Robert Martin</td>\n",
       "      <td>The Woman Winced Outside A Desk</td>\n",
       "    </tr>\n",
       "    <tr>\n",
       "      <th>3</th>\n",
       "      <td>Greg Simpson</td>\n",
       "      <td>A Banana Winced Outside The Banana</td>\n",
       "    </tr>\n",
       "    <tr>\n",
       "      <th>4</th>\n",
       "      <td>Edgar Williamson</td>\n",
       "      <td>A Person Ate Behind The Potato</td>\n",
       "    </tr>\n",
       "  </tbody>\n",
       "</table>\n",
       "</div>"
      ],
      "text/plain": [
       "             author                                book\n",
       "0      David Taylor         A Guy Dove Outside The Desk\n",
       "1    Sidney Osborne        A Fish Hopped Through A Lake\n",
       "2     Robert Martin     The Woman Winced Outside A Desk\n",
       "3      Greg Simpson  A Banana Winced Outside The Banana\n",
       "4  Edgar Williamson      A Person Ate Behind The Potato"
      ]
     },
     "execution_count": 6,
     "metadata": {},
     "output_type": "execute_result"
    }
   ],
   "source": [
    "df = pd.DataFrame(c.fetchall())\n",
    "df.columns = [i[0] for i in c.description]\n",
    "df"
   ]
  },
  {
   "cell_type": "markdown",
   "metadata": {},
   "source": [
    "### Use SQL to answer the following questions: "
   ]
  },
  {
   "cell_type": "markdown",
   "metadata": {},
   "source": [
    "1. How many rows are in the 'author' table? \n",
    "\n",
    "2. How many authors have the first name 'David'?  \n",
    "\n",
    "3. How many books did each author write? \n",
    "\n",
    "4. Use both the author table and books table to answer: how many copies were sold by authors named David \n",
    "\n",
    "\n",
    "    a. how many copies for each of the Davids\n",
    "    \n",
    "    \n",
    "    b. how many copies in total for all Davids"
   ]
  },
  {
   "cell_type": "code",
   "execution_count": 29,
   "metadata": {},
   "outputs": [
    {
     "data": {
      "text/plain": [
       "[(100000,)]"
      ]
     },
     "execution_count": 29,
     "metadata": {},
     "output_type": "execute_result"
    }
   ],
   "source": [
    "# 1. How many rows are in the 'author' table?\n",
    "c.execute(\"\"\"SELECT count(*) \n",
    "            FROM author;\"\"\")\n",
    "c.fetchall()"
   ]
  },
  {
   "cell_type": "markdown",
   "metadata": {},
   "source": [
    "```\n",
    "col name & table can be the same\n",
    "```"
   ]
  },
  {
   "cell_type": "code",
   "execution_count": 31,
   "metadata": {},
   "outputs": [
    {
     "data": {
      "text/plain": [
       "[(1335,)]"
      ]
     },
     "execution_count": 31,
     "metadata": {},
     "output_type": "execute_result"
    }
   ],
   "source": [
    "# 2. How many authors have the first name 'David'?\n",
    "c.execute(\n",
    "\"\"\"SELECT count(author)\n",
    "FROM author\n",
    "WHERE author LIKE 'David%'\n",
    "\"\"\")\n",
    "c.fetchall()"
   ]
  },
  {
   "cell_type": "code",
   "execution_count": 34,
   "metadata": {},
   "outputs": [
    {
     "data": {
      "text/html": [
       "<div>\n",
       "<style scoped>\n",
       "    .dataframe tbody tr th:only-of-type {\n",
       "        vertical-align: middle;\n",
       "    }\n",
       "\n",
       "    .dataframe tbody tr th {\n",
       "        vertical-align: top;\n",
       "    }\n",
       "\n",
       "    .dataframe thead th {\n",
       "        text-align: right;\n",
       "    }\n",
       "</style>\n",
       "<table border=\"1\" class=\"dataframe\">\n",
       "  <thead>\n",
       "    <tr style=\"text-align: right;\">\n",
       "      <th></th>\n",
       "      <th>author</th>\n",
       "      <th>book_count</th>\n",
       "    </tr>\n",
       "  </thead>\n",
       "  <tbody>\n",
       "    <tr>\n",
       "      <th>0</th>\n",
       "      <td>Robert Williams</td>\n",
       "      <td>25</td>\n",
       "    </tr>\n",
       "    <tr>\n",
       "      <th>1</th>\n",
       "      <td>James Smith</td>\n",
       "      <td>24</td>\n",
       "    </tr>\n",
       "    <tr>\n",
       "      <th>2</th>\n",
       "      <td>William Smith</td>\n",
       "      <td>22</td>\n",
       "    </tr>\n",
       "    <tr>\n",
       "      <th>3</th>\n",
       "      <td>Robert Johnson</td>\n",
       "      <td>21</td>\n",
       "    </tr>\n",
       "    <tr>\n",
       "      <th>4</th>\n",
       "      <td>Mary Williams</td>\n",
       "      <td>19</td>\n",
       "    </tr>\n",
       "  </tbody>\n",
       "</table>\n",
       "</div>"
      ],
      "text/plain": [
       "            author  book_count\n",
       "0  Robert Williams          25\n",
       "1      James Smith          24\n",
       "2    William Smith          22\n",
       "3   Robert Johnson          21\n",
       "4    Mary Williams          19"
      ]
     },
     "execution_count": 34,
     "metadata": {},
     "output_type": "execute_result"
    }
   ],
   "source": [
    "# 3. How many books did each author write?\n",
    "c.execute(\n",
    "\"\"\"\n",
    "SELECT author, COUNT(book) as book_count\n",
    "FROM author\n",
    "GROUP BY author\n",
    "ORDER By book_count DESC\n",
    "\"\"\")\n",
    "df_book_count = pd.DataFrame(c.fetchall())\n",
    "df_book_count.columns = ['author','book_count']\n",
    "df_book_count.head()"
   ]
  },
  {
   "cell_type": "code",
   "execution_count": 35,
   "metadata": {},
   "outputs": [],
   "source": [
    "# 4. Use both the author table and books table to answer: how many copies were sold by authors named David\n",
    "''' Logic \n",
    "1. primary table: author  (col: author, book)\n",
    "2. left join table: books (col: books, num_copies)\n",
    "3. join on key: author.book = books.books \n",
    "4.a\n",
    "    4. groupby author name \n",
    "    5. HAVING condition: author first name  = 'David'\n",
    "4.b\n",
    "    4. WHERE condition: author first name  = 'David'\n",
    "'''"
   ]
  },
  {
   "cell_type": "code",
   "execution_count": 40,
   "metadata": {},
   "outputs": [],
   "source": [
    "# 4.a: how many copies for each of the Davids\n",
    "c.execute(\n",
    "    \"\"\"\n",
    "    SELECT author, SUM(books.num_copies) as book_copies\n",
    "    FROM author\n",
    "    LEFT JOIN books\n",
    "    ON author.book = books.books\n",
    "    GROUP BY author.author\n",
    "    HAVING author.author LIKE 'David %'\n",
    "    ORDER BY book_copies DESC\n",
    "    \"\"\")\n",
    "df_David_any = pd.DataFrame(c.fetchall())\n",
    "df_David_any.columns = ['author','book_copies']"
   ]
  },
  {
   "cell_type": "code",
   "execution_count": 41,
   "metadata": {
    "scrolled": true
   },
   "outputs": [
    {
     "data": {
      "text/html": [
       "<div>\n",
       "<style scoped>\n",
       "    .dataframe tbody tr th:only-of-type {\n",
       "        vertical-align: middle;\n",
       "    }\n",
       "\n",
       "    .dataframe tbody tr th {\n",
       "        vertical-align: top;\n",
       "    }\n",
       "\n",
       "    .dataframe thead th {\n",
       "        text-align: right;\n",
       "    }\n",
       "</style>\n",
       "<table border=\"1\" class=\"dataframe\">\n",
       "  <thead>\n",
       "    <tr style=\"text-align: right;\">\n",
       "      <th></th>\n",
       "      <th>author</th>\n",
       "      <th>book_copies</th>\n",
       "    </tr>\n",
       "  </thead>\n",
       "  <tbody>\n",
       "    <tr>\n",
       "      <th>0</th>\n",
       "      <td>David Smith</td>\n",
       "      <td>31792538.0</td>\n",
       "    </tr>\n",
       "    <tr>\n",
       "      <th>1</th>\n",
       "      <td>David Jones</td>\n",
       "      <td>20043716.0</td>\n",
       "    </tr>\n",
       "    <tr>\n",
       "      <th>2</th>\n",
       "      <td>David Brown</td>\n",
       "      <td>16819141.0</td>\n",
       "    </tr>\n",
       "    <tr>\n",
       "      <th>3</th>\n",
       "      <td>David Walter</td>\n",
       "      <td>16617115.0</td>\n",
       "    </tr>\n",
       "    <tr>\n",
       "      <th>4</th>\n",
       "      <td>David Taylor</td>\n",
       "      <td>16173228.0</td>\n",
       "    </tr>\n",
       "  </tbody>\n",
       "</table>\n",
       "</div>"
      ],
      "text/plain": [
       "         author  book_copies\n",
       "0   David Smith   31792538.0\n",
       "1   David Jones   20043716.0\n",
       "2   David Brown   16819141.0\n",
       "3  David Walter   16617115.0\n",
       "4  David Taylor   16173228.0"
      ]
     },
     "execution_count": 41,
     "metadata": {},
     "output_type": "execute_result"
    }
   ],
   "source": [
    "df_David_any.head()"
   ]
  },
  {
   "cell_type": "code",
   "execution_count": 42,
   "metadata": {},
   "outputs": [
    {
     "data": {
      "text/html": [
       "<div>\n",
       "<style scoped>\n",
       "    .dataframe tbody tr th:only-of-type {\n",
       "        vertical-align: middle;\n",
       "    }\n",
       "\n",
       "    .dataframe tbody tr th {\n",
       "        vertical-align: top;\n",
       "    }\n",
       "\n",
       "    .dataframe thead th {\n",
       "        text-align: right;\n",
       "    }\n",
       "</style>\n",
       "<table border=\"1\" class=\"dataframe\">\n",
       "  <thead>\n",
       "    <tr style=\"text-align: right;\">\n",
       "      <th></th>\n",
       "      <th>author</th>\n",
       "      <th>book_copies</th>\n",
       "    </tr>\n",
       "  </thead>\n",
       "  <tbody>\n",
       "    <tr>\n",
       "      <th>1018</th>\n",
       "      <td>David Wiford</td>\n",
       "      <td>NaN</td>\n",
       "    </tr>\n",
       "    <tr>\n",
       "      <th>1019</th>\n",
       "      <td>David Wilhite</td>\n",
       "      <td>NaN</td>\n",
       "    </tr>\n",
       "    <tr>\n",
       "      <th>1020</th>\n",
       "      <td>David Willian</td>\n",
       "      <td>NaN</td>\n",
       "    </tr>\n",
       "    <tr>\n",
       "      <th>1021</th>\n",
       "      <td>David Yamamoto</td>\n",
       "      <td>NaN</td>\n",
       "    </tr>\n",
       "    <tr>\n",
       "      <th>1022</th>\n",
       "      <td>David Zink</td>\n",
       "      <td>NaN</td>\n",
       "    </tr>\n",
       "  </tbody>\n",
       "</table>\n",
       "</div>"
      ],
      "text/plain": [
       "              author  book_copies\n",
       "1018    David Wiford          NaN\n",
       "1019   David Wilhite          NaN\n",
       "1020   David Willian          NaN\n",
       "1021  David Yamamoto          NaN\n",
       "1022      David Zink          NaN"
      ]
     },
     "execution_count": 42,
     "metadata": {},
     "output_type": "execute_result"
    }
   ],
   "source": [
    "df_David_any.tail()"
   ]
  },
  {
   "cell_type": "code",
   "execution_count": 45,
   "metadata": {},
   "outputs": [
    {
     "name": "stdout",
     "output_type": "stream",
     "text": [
      "total book copies for al Davids: 2610436149\n"
     ]
    }
   ],
   "source": [
    "# 4.b: how many copies in total for all Davids\n",
    "\n",
    "c.execute(\n",
    "    \"\"\"\n",
    "    SELECT SUM(books.num_copies)\n",
    "    FROM author\n",
    "    LEFT JOIN books\n",
    "    ON author.book = books.books\n",
    "    WHERE author.author LIKE 'David %'\n",
    "    \"\"\")\n",
    "print(f'total book copies for al Davids: {c.fetchall()[0][0]}')"
   ]
  },
  {
   "cell_type": "code",
   "execution_count": null,
   "metadata": {},
   "outputs": [],
   "source": []
  }
 ],
 "metadata": {
  "kernelspec": {
   "display_name": "Python 3",
   "language": "python",
   "name": "python3"
  },
  "language_info": {
   "codemirror_mode": {
    "name": "ipython",
    "version": 3
   },
   "file_extension": ".py",
   "mimetype": "text/x-python",
   "name": "python",
   "nbconvert_exporter": "python",
   "pygments_lexer": "ipython3",
   "version": "3.7.3"
  }
 },
 "nbformat": 4,
 "nbformat_minor": 2
}
