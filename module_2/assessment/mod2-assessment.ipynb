{
 "cells": [
  {
   "cell_type": "markdown",
   "metadata": {},
   "source": [
    "## Mod 2 Assessment"
   ]
  },
  {
   "cell_type": "code",
   "execution_count": 2,
   "metadata": {},
   "outputs": [],
   "source": [
    "# put all imports here\n",
    "import json\n",
    "import requests\n",
    "import pandas as pd\n",
    "import pymongo\n",
    "import sqlite3\n",
    "from bs4 import BeautifulSoup\n",
    "from bson.json_util import loads"
   ]
  },
  {
   "cell_type": "markdown",
   "metadata": {},
   "source": [
    "### SQL (10 Minutes)\n",
    "There is a sqlite3 database in `assets/books.db`. The SQL to create this is also in `assets/books.sql`, if you want to run it manually (you can also import this using https://sqliteonline.com/, or run the SQL file directly).  Both have the same schema and data.\n",
    "\n",
    "The schema has three tables. You can explore the schema in the fiddle posted above.  Please answer the following questions.\n",
    "\n",
    "1. Connect to the database using sqlite3"
   ]
  },
  {
   "cell_type": "code",
   "execution_count": 3,
   "metadata": {},
   "outputs": [],
   "source": [
    "# Your code here\n",
    "# create connection & cursor\n",
    "conn = sqlite3.connect(\"./assets/books.db\")\n",
    "cur = conn.cursor()"
   ]
  },
  {
   "cell_type": "code",
   "execution_count": 12,
   "metadata": {},
   "outputs": [],
   "source": [
    "# function: output query result as df (default fetchall )\n",
    "def grab_table():\n",
    "    df = pd.DataFrame(cur.fetchall())\n",
    "    df.columns = [row[0] for row in cur.description]\n",
    "    return df"
   ]
  },
  {
   "cell_type": "code",
   "execution_count": 19,
   "metadata": {},
   "outputs": [
    {
     "data": {
      "text/html": [
       "<div>\n",
       "<style scoped>\n",
       "    .dataframe tbody tr th:only-of-type {\n",
       "        vertical-align: middle;\n",
       "    }\n",
       "\n",
       "    .dataframe tbody tr th {\n",
       "        vertical-align: top;\n",
       "    }\n",
       "\n",
       "    .dataframe thead th {\n",
       "        text-align: right;\n",
       "    }\n",
       "</style>\n",
       "<table border=\"1\" class=\"dataframe\">\n",
       "  <thead>\n",
       "    <tr style=\"text-align: right;\">\n",
       "      <th></th>\n",
       "      <th>name</th>\n",
       "    </tr>\n",
       "  </thead>\n",
       "  <tbody>\n",
       "    <tr>\n",
       "      <th>0</th>\n",
       "      <td>author</td>\n",
       "    </tr>\n",
       "    <tr>\n",
       "      <th>1</th>\n",
       "      <td>book</td>\n",
       "    </tr>\n",
       "    <tr>\n",
       "      <th>2</th>\n",
       "      <td>book_author</td>\n",
       "    </tr>\n",
       "  </tbody>\n",
       "</table>\n",
       "</div>"
      ],
      "text/plain": [
       "          name\n",
       "0       author\n",
       "1         book\n",
       "2  book_author"
      ]
     },
     "execution_count": 19,
     "metadata": {},
     "output_type": "execute_result"
    }
   ],
   "source": [
    "# grab tables in the database\n",
    "cur.execute(\"\"\"\n",
    "SELECT \n",
    "    name\n",
    "FROM \n",
    "    sqlite_master \n",
    "WHERE \n",
    "    type ='table' AND \n",
    "    name NOT LIKE 'sqlite_%';\n",
    "\"\"\")\n",
    "grab_table()"
   ]
  },
  {
   "cell_type": "markdown",
   "metadata": {},
   "source": [
    "2. Querying the DB: how many pages are in the book \"Nine Stories\"?"
   ]
  },
  {
   "cell_type": "code",
   "execution_count": 13,
   "metadata": {},
   "outputs": [
    {
     "data": {
      "text/html": [
       "<div>\n",
       "<style scoped>\n",
       "    .dataframe tbody tr th:only-of-type {\n",
       "        vertical-align: middle;\n",
       "    }\n",
       "\n",
       "    .dataframe tbody tr th {\n",
       "        vertical-align: top;\n",
       "    }\n",
       "\n",
       "    .dataframe thead th {\n",
       "        text-align: right;\n",
       "    }\n",
       "</style>\n",
       "<table border=\"1\" class=\"dataframe\">\n",
       "  <thead>\n",
       "    <tr style=\"text-align: right;\">\n",
       "      <th></th>\n",
       "      <th>book_id</th>\n",
       "      <th>title</th>\n",
       "      <th>pages</th>\n",
       "    </tr>\n",
       "  </thead>\n",
       "  <tbody>\n",
       "    <tr>\n",
       "      <th>0</th>\n",
       "      <td>1</td>\n",
       "      <td>The Catcher in the Rye</td>\n",
       "      <td>500</td>\n",
       "    </tr>\n",
       "    <tr>\n",
       "      <th>1</th>\n",
       "      <td>2</td>\n",
       "      <td>Nine Stories</td>\n",
       "      <td>600</td>\n",
       "    </tr>\n",
       "    <tr>\n",
       "      <th>2</th>\n",
       "      <td>3</td>\n",
       "      <td>Franny and Zooey</td>\n",
       "      <td>700</td>\n",
       "    </tr>\n",
       "    <tr>\n",
       "      <th>3</th>\n",
       "      <td>4</td>\n",
       "      <td>The Great Gatsby</td>\n",
       "      <td>800</td>\n",
       "    </tr>\n",
       "    <tr>\n",
       "      <th>4</th>\n",
       "      <td>5</td>\n",
       "      <td>Tender id the Night</td>\n",
       "      <td>200</td>\n",
       "    </tr>\n",
       "    <tr>\n",
       "      <th>5</th>\n",
       "      <td>6</td>\n",
       "      <td>Pride and Prejudice</td>\n",
       "      <td>30000</td>\n",
       "    </tr>\n",
       "    <tr>\n",
       "      <th>6</th>\n",
       "      <td>7</td>\n",
       "      <td>Professional ASP.NET 4.5 in C# and VB</td>\n",
       "      <td>3</td>\n",
       "    </tr>\n",
       "  </tbody>\n",
       "</table>\n",
       "</div>"
      ],
      "text/plain": [
       "   book_id                                  title  pages\n",
       "0        1                 The Catcher in the Rye    500\n",
       "1        2                           Nine Stories    600\n",
       "2        3                       Franny and Zooey    700\n",
       "3        4                       The Great Gatsby    800\n",
       "4        5                    Tender id the Night    200\n",
       "5        6                    Pride and Prejudice  30000\n",
       "6        7  Professional ASP.NET 4.5 in C# and VB      3"
      ]
     },
     "execution_count": 13,
     "metadata": {},
     "output_type": "execute_result"
    }
   ],
   "source": [
    "# explore book table \n",
    "cur.execute(\"\"\"\n",
    "SELECT * \n",
    "FROM book\n",
    "LIMIT 10;\n",
    "\"\"\")\n",
    "grab_table()"
   ]
  },
  {
   "cell_type": "code",
   "execution_count": 21,
   "metadata": {},
   "outputs": [
    {
     "data": {
      "text/html": [
       "<div>\n",
       "<style scoped>\n",
       "    .dataframe tbody tr th:only-of-type {\n",
       "        vertical-align: middle;\n",
       "    }\n",
       "\n",
       "    .dataframe tbody tr th {\n",
       "        vertical-align: top;\n",
       "    }\n",
       "\n",
       "    .dataframe thead th {\n",
       "        text-align: right;\n",
       "    }\n",
       "</style>\n",
       "<table border=\"1\" class=\"dataframe\">\n",
       "  <thead>\n",
       "    <tr style=\"text-align: right;\">\n",
       "      <th></th>\n",
       "      <th>title</th>\n",
       "      <th>pages</th>\n",
       "    </tr>\n",
       "  </thead>\n",
       "  <tbody>\n",
       "    <tr>\n",
       "      <th>0</th>\n",
       "      <td>Nine Stories</td>\n",
       "      <td>600</td>\n",
       "    </tr>\n",
       "  </tbody>\n",
       "</table>\n",
       "</div>"
      ],
      "text/plain": [
       "          title  pages\n",
       "0  Nine Stories    600"
      ]
     },
     "execution_count": 21,
     "metadata": {},
     "output_type": "execute_result"
    }
   ],
   "source": [
    "# Your code here\n",
    "cur.execute(\"\"\"\n",
    "SELECT title, pages\n",
    "FROM book\n",
    "WHERE title = \"Nine Stories\";\n",
    "\"\"\")\n",
    "grab_table()"
   ]
  },
  {
   "cell_type": "markdown",
   "metadata": {},
   "source": [
    "3. How many authors are from the USA?"
   ]
  },
  {
   "cell_type": "code",
   "execution_count": 22,
   "metadata": {},
   "outputs": [
    {
     "data": {
      "text/html": [
       "<div>\n",
       "<style scoped>\n",
       "    .dataframe tbody tr th:only-of-type {\n",
       "        vertical-align: middle;\n",
       "    }\n",
       "\n",
       "    .dataframe tbody tr th {\n",
       "        vertical-align: top;\n",
       "    }\n",
       "\n",
       "    .dataframe thead th {\n",
       "        text-align: right;\n",
       "    }\n",
       "</style>\n",
       "<table border=\"1\" class=\"dataframe\">\n",
       "  <thead>\n",
       "    <tr style=\"text-align: right;\">\n",
       "      <th></th>\n",
       "      <th>author_id</th>\n",
       "      <th>name</th>\n",
       "      <th>country</th>\n",
       "    </tr>\n",
       "  </thead>\n",
       "  <tbody>\n",
       "    <tr>\n",
       "      <th>0</th>\n",
       "      <td>1</td>\n",
       "      <td>J.D. Salinger</td>\n",
       "      <td>USA</td>\n",
       "    </tr>\n",
       "    <tr>\n",
       "      <th>1</th>\n",
       "      <td>2</td>\n",
       "      <td>F. Scott. Fitzgerald</td>\n",
       "      <td>USA</td>\n",
       "    </tr>\n",
       "    <tr>\n",
       "      <th>2</th>\n",
       "      <td>3</td>\n",
       "      <td>Jane Austen</td>\n",
       "      <td>UK</td>\n",
       "    </tr>\n",
       "    <tr>\n",
       "      <th>3</th>\n",
       "      <td>4</td>\n",
       "      <td>Scott Hanselman</td>\n",
       "      <td>USA</td>\n",
       "    </tr>\n",
       "    <tr>\n",
       "      <th>4</th>\n",
       "      <td>5</td>\n",
       "      <td>Jason N. Gaylord</td>\n",
       "      <td>USA</td>\n",
       "    </tr>\n",
       "    <tr>\n",
       "      <th>5</th>\n",
       "      <td>6</td>\n",
       "      <td>Pranav Rastogi</td>\n",
       "      <td>India</td>\n",
       "    </tr>\n",
       "    <tr>\n",
       "      <th>6</th>\n",
       "      <td>7</td>\n",
       "      <td>Todd Miranda</td>\n",
       "      <td>USA</td>\n",
       "    </tr>\n",
       "    <tr>\n",
       "      <th>7</th>\n",
       "      <td>8</td>\n",
       "      <td>Christian Wenz</td>\n",
       "      <td>USA</td>\n",
       "    </tr>\n",
       "  </tbody>\n",
       "</table>\n",
       "</div>"
      ],
      "text/plain": [
       "   author_id                  name country\n",
       "0          1         J.D. Salinger     USA\n",
       "1          2  F. Scott. Fitzgerald     USA\n",
       "2          3           Jane Austen      UK\n",
       "3          4       Scott Hanselman     USA\n",
       "4          5      Jason N. Gaylord     USA\n",
       "5          6        Pranav Rastogi   India\n",
       "6          7          Todd Miranda     USA\n",
       "7          8        Christian Wenz     USA"
      ]
     },
     "execution_count": 22,
     "metadata": {},
     "output_type": "execute_result"
    }
   ],
   "source": [
    "# explore author table\n",
    "cur.execute(\"\"\"\n",
    "SELECT * \n",
    "FROM author\n",
    "LIMIT 10;\n",
    "\"\"\")\n",
    "grab_table()"
   ]
  },
  {
   "cell_type": "code",
   "execution_count": 23,
   "metadata": {},
   "outputs": [
    {
     "data": {
      "text/html": [
       "<div>\n",
       "<style scoped>\n",
       "    .dataframe tbody tr th:only-of-type {\n",
       "        vertical-align: middle;\n",
       "    }\n",
       "\n",
       "    .dataframe tbody tr th {\n",
       "        vertical-align: top;\n",
       "    }\n",
       "\n",
       "    .dataframe thead th {\n",
       "        text-align: right;\n",
       "    }\n",
       "</style>\n",
       "<table border=\"1\" class=\"dataframe\">\n",
       "  <thead>\n",
       "    <tr style=\"text-align: right;\">\n",
       "      <th></th>\n",
       "      <th>author_counts_USA</th>\n",
       "    </tr>\n",
       "  </thead>\n",
       "  <tbody>\n",
       "    <tr>\n",
       "      <th>0</th>\n",
       "      <td>6</td>\n",
       "    </tr>\n",
       "  </tbody>\n",
       "</table>\n",
       "</div>"
      ],
      "text/plain": [
       "   author_counts_USA\n",
       "0                  6"
      ]
     },
     "execution_count": 23,
     "metadata": {},
     "output_type": "execute_result"
    }
   ],
   "source": [
    "# Your code here\n",
    "cur.execute(\"\"\"\n",
    "SELECT count(name) as author_counts_USA\n",
    "FROM author\n",
    "WHERE country = 'USA';\n",
    "\"\"\")\n",
    "grab_table()"
   ]
  },
  {
   "cell_type": "markdown",
   "metadata": {},
   "source": [
    "4. How many authors does the book \"Professional ASP.NET 4.5 in C# and VB\" have?"
   ]
  },
  {
   "cell_type": "code",
   "execution_count": 26,
   "metadata": {},
   "outputs": [
    {
     "data": {
      "text/html": [
       "<div>\n",
       "<style scoped>\n",
       "    .dataframe tbody tr th:only-of-type {\n",
       "        vertical-align: middle;\n",
       "    }\n",
       "\n",
       "    .dataframe tbody tr th {\n",
       "        vertical-align: top;\n",
       "    }\n",
       "\n",
       "    .dataframe thead th {\n",
       "        text-align: right;\n",
       "    }\n",
       "</style>\n",
       "<table border=\"1\" class=\"dataframe\">\n",
       "  <thead>\n",
       "    <tr style=\"text-align: right;\">\n",
       "      <th></th>\n",
       "      <th>author_id</th>\n",
       "      <th>book_id</th>\n",
       "    </tr>\n",
       "  </thead>\n",
       "  <tbody>\n",
       "    <tr>\n",
       "      <th>0</th>\n",
       "      <td>1</td>\n",
       "      <td>1</td>\n",
       "    </tr>\n",
       "    <tr>\n",
       "      <th>1</th>\n",
       "      <td>1</td>\n",
       "      <td>2</td>\n",
       "    </tr>\n",
       "    <tr>\n",
       "      <th>2</th>\n",
       "      <td>1</td>\n",
       "      <td>3</td>\n",
       "    </tr>\n",
       "    <tr>\n",
       "      <th>3</th>\n",
       "      <td>2</td>\n",
       "      <td>4</td>\n",
       "    </tr>\n",
       "    <tr>\n",
       "      <th>4</th>\n",
       "      <td>2</td>\n",
       "      <td>5</td>\n",
       "    </tr>\n",
       "  </tbody>\n",
       "</table>\n",
       "</div>"
      ],
      "text/plain": [
       "   author_id  book_id\n",
       "0          1        1\n",
       "1          1        2\n",
       "2          1        3\n",
       "3          2        4\n",
       "4          2        5"
      ]
     },
     "execution_count": 26,
     "metadata": {},
     "output_type": "execute_result"
    }
   ],
   "source": [
    "# explore book_author table\n",
    "cur.execute(\"\"\"\n",
    "SELECT * \n",
    "FROM book_author\n",
    "LIMIT 5;\n",
    "\"\"\")\n",
    "grab_table()"
   ]
  },
  {
   "cell_type": "code",
   "execution_count": 32,
   "metadata": {},
   "outputs": [
    {
     "data": {
      "text/html": [
       "<div>\n",
       "<style scoped>\n",
       "    .dataframe tbody tr th:only-of-type {\n",
       "        vertical-align: middle;\n",
       "    }\n",
       "\n",
       "    .dataframe tbody tr th {\n",
       "        vertical-align: top;\n",
       "    }\n",
       "\n",
       "    .dataframe thead th {\n",
       "        text-align: right;\n",
       "    }\n",
       "</style>\n",
       "<table border=\"1\" class=\"dataframe\">\n",
       "  <thead>\n",
       "    <tr style=\"text-align: right;\">\n",
       "      <th></th>\n",
       "      <th>title</th>\n",
       "      <th>author_count</th>\n",
       "    </tr>\n",
       "  </thead>\n",
       "  <tbody>\n",
       "    <tr>\n",
       "      <th>0</th>\n",
       "      <td>Professional ASP.NET 4.5 in C# and VB</td>\n",
       "      <td>5</td>\n",
       "    </tr>\n",
       "  </tbody>\n",
       "</table>\n",
       "</div>"
      ],
      "text/plain": [
       "                                   title  author_count\n",
       "0  Professional ASP.NET 4.5 in C# and VB             5"
      ]
     },
     "execution_count": 32,
     "metadata": {},
     "output_type": "execute_result"
    }
   ],
   "source": [
    "# Your code here\n",
    "cur.execute(\"\"\"\n",
    "SELECT book.title, count(author.name) as author_count\n",
    "FROM book_author\n",
    "LEFT JOIN book using (book_id)\n",
    "LEFT JOIN author using (author_id)\n",
    "WHERE title = \"Professional ASP.NET 4.5 in C# and VB\";\n",
    "\"\"\")\n",
    "grab_table()"
   ]
  },
  {
   "cell_type": "markdown",
   "metadata": {},
   "source": [
    "5. How many pages total have been written by non-American authors?"
   ]
  },
  {
   "cell_type": "code",
   "execution_count": 34,
   "metadata": {},
   "outputs": [
    {
     "data": {
      "text/html": [
       "<div>\n",
       "<style scoped>\n",
       "    .dataframe tbody tr th:only-of-type {\n",
       "        vertical-align: middle;\n",
       "    }\n",
       "\n",
       "    .dataframe tbody tr th {\n",
       "        vertical-align: top;\n",
       "    }\n",
       "\n",
       "    .dataframe thead th {\n",
       "        text-align: right;\n",
       "    }\n",
       "</style>\n",
       "<table border=\"1\" class=\"dataframe\">\n",
       "  <thead>\n",
       "    <tr style=\"text-align: right;\">\n",
       "      <th></th>\n",
       "      <th>non_USA_pages</th>\n",
       "    </tr>\n",
       "  </thead>\n",
       "  <tbody>\n",
       "    <tr>\n",
       "      <th>0</th>\n",
       "      <td>30003</td>\n",
       "    </tr>\n",
       "  </tbody>\n",
       "</table>\n",
       "</div>"
      ],
      "text/plain": [
       "   non_USA_pages\n",
       "0          30003"
      ]
     },
     "execution_count": 34,
     "metadata": {},
     "output_type": "execute_result"
    }
   ],
   "source": [
    "# Your code here\n",
    "cur.execute(\"\"\"\n",
    "SELECT sum(pages) as non_USA_pages\n",
    "FROM book_author\n",
    "JOIN book using (book_id)\n",
    "JOIN author using (author_id)\n",
    "WHERE country != 'USA'\n",
    "\"\"\")\n",
    "grab_table()"
   ]
  },
  {
   "cell_type": "markdown",
   "metadata": {},
   "source": [
    "### Object Oriented Programming (15 Minutes)\n",
    "Below is the stub of some classes. Make the classes adhere to the following rules. The code beneath the cell should  run successfully.\n",
    "1. Force every new instance of `WeWorkMember` to pass in a value to set the attribute `name`.\n",
    "1. Give every new instance of `WeWorkMember` an attribute `caffeinated` that is set to `False`. \n",
    "1. Give `WeWorkMember` an **instance** method called `caffeinate()` that prints out \"Getting coffee!\" and sets the attribute `caffeinated` to `True`.\n",
    "1. Make it so that `Staff` and `Student` inherit from `WeWorkMember`\n",
    "1. Give `Staff` a **static** method called `cheer()` that prints out \"Goooooooo Flatiron Students!\"\n",
    "1. Give `Students` a **class** method called `learn()` that takes in an integer and returns that number +1"
   ]
  },
  {
   "cell_type": "code",
   "execution_count": 51,
   "metadata": {},
   "outputs": [],
   "source": [
    "# Modify this cell\n",
    "class WeWorkMember:\n",
    "    \n",
    "    def __init__(self, name):\n",
    "        self.name = name \n",
    "        self.caffeinated = False\n",
    "    def caffeinate(self): \n",
    "        print(\"Getting coffee\")\n",
    "        self.caffeinated = True\n",
    "\n",
    "class Staff(WeWorkMember):\n",
    "    \n",
    "    def __init(self, name):\n",
    "        super().__init__(None)\n",
    "        self.name = name\n",
    "    \n",
    "    @staticmethod\n",
    "    def cheer():\n",
    "        print(\"Goooooooo Flatiron Students!\")\n",
    "        \n",
    "class Student(WeWorkMember):\n",
    "    \n",
    "    def __init(self):\n",
    "        super().__init__(name)\n",
    "    \n",
    "    @classmethod\n",
    "    def learn(cls, num):\n",
    "        if isinstance(num, int):\n",
    "            print(num+1)\n",
    "        else:\n",
    "            raise ValueError (\"expected input an int type value\")"
   ]
  },
  {
   "cell_type": "code",
   "execution_count": 52,
   "metadata": {},
   "outputs": [
    {
     "name": "stdout",
     "output_type": "stream",
     "text": [
      "Getting coffee\n",
      "Goooooooo Flatiron Students!\n",
      "Getting coffee\n",
      "100\n"
     ]
    }
   ],
   "source": [
    "# DO NOT MODIFY this cell. if you want to add more tests, add them in a new cell!\n",
    "try:\n",
    "    nobody = Staff()\n",
    "    raise RuntimeError('Staff needs a name!')\n",
    "except TypeError:\n",
    "    pass\n",
    "\n",
    "andy = Staff('Andy')\n",
    "assert andy.caffeinated is False\n",
    "andy.caffeinate()\n",
    "assert andy.caffeinated is True\n",
    "\n",
    "Staff.cheer()\n",
    "\n",
    "bobby = Student('Bobby Tables')\n",
    "assert bobby.caffeinated is False\n",
    "bobby.caffeinate()\n",
    "assert bobby.caffeinated is True\n",
    "\n",
    "Student.learn(99)"
   ]
  },
  {
   "cell_type": "markdown",
   "metadata": {},
   "source": [
    "### APIs (10 Minutes)\n",
    "Using this API (http://www.nokeynoshade.party/api/judges) about RuPaul's Drag Race (docs: https://drag-race-api.readme.io/docs/get-all-judges), tell me how many judges of each **`type`** there were in the first 50 records the API returns.\n",
    " - the 50 judges will have **`id`** ranging from 1 to 53\n",
    " - you can do the aggregation in pure Python, Pandas, SQL-- whatever's easiest for you"
   ]
  },
  {
   "cell_type": "code",
   "execution_count": 94,
   "metadata": {},
   "outputs": [],
   "source": [
    "response = requests.get(\"http://www.nokeynoshade.party/api/judges\")"
   ]
  },
  {
   "cell_type": "code",
   "execution_count": 95,
   "metadata": {
    "scrolled": true
   },
   "outputs": [
    {
     "data": {
      "text/plain": [
       "{'Server': 'Cowboy', 'Connection': 'keep-alive', 'X-Powered-By': 'Express', 'Access-Control-Allow-Origin': '*', 'Access-Control-Allow-Methods': 'GET, POST, PUT, DELETE, PATCH, OPTIONS', 'Access-Control-Allow-Headers': 'Origin, X-Requested-With, Content-Type, Accept', 'X-Ratelimit-Limit': '1500', 'X-Ratelimit-Remaining': '1434', 'Content-Type': 'application/json; charset=utf-8', 'Content-Length': '5257', 'Etag': 'W/\"1489-SdEZzZSb95F7HnHTsWoPM8cgbC4\"', 'Date': 'Wed, 03 Jul 2019 14:43:04 GMT', 'Via': '1.1 vegur'}"
      ]
     },
     "execution_count": 95,
     "metadata": {},
     "output_type": "execute_result"
    }
   ],
   "source": [
    "response.headers"
   ]
  },
  {
   "cell_type": "code",
   "execution_count": 96,
   "metadata": {},
   "outputs": [],
   "source": [
    "judges = response.json()"
   ]
  },
  {
   "cell_type": "code",
   "execution_count": 98,
   "metadata": {},
   "outputs": [
    {
     "data": {
      "text/plain": [
       "list"
      ]
     },
     "execution_count": 98,
     "metadata": {},
     "output_type": "execute_result"
    }
   ],
   "source": [
    "type(judges)"
   ]
  },
  {
   "cell_type": "code",
   "execution_count": 103,
   "metadata": {},
   "outputs": [],
   "source": [
    "for i in range(25, 51):\n",
    "    url = \"http://www.nokeynoshade.party/api/judges/\" + str(i)\n",
    "    new = requests.get(url).json()\n",
    "    judges.append(new)"
   ]
  },
  {
   "cell_type": "code",
   "execution_count": 104,
   "metadata": {},
   "outputs": [
    {
     "data": {
      "text/plain": [
       "[{'id': 1,\n",
       "  'name': 'Rupaul',\n",
       "  'image_url': 'https://vignette.wikia.nocookie.net/logosrupaulsdragrace/images/b/ba/Rupaul_blackpink_final.jpg/revision/latest/scale-to-width-down/350?cb=20110731183922',\n",
       "  'bio': 'Drag performer, actor, television host, and recording artist',\n",
       "  'type': 'regular',\n",
       "  'createdAt': '2018-01-11T00:43:31.258Z',\n",
       "  'updatedAt': '2018-01-11T00:43:31.258Z'},\n",
       " {'id': 2,\n",
       "  'name': 'Bob Mackie',\n",
       "  'image_url': None,\n",
       "  'bio': 'Fashion Designer',\n",
       "  'type': 'guest',\n",
       "  'createdAt': '2017-08-22T00:27:40.731Z',\n",
       "  'updatedAt': '2017-08-22T00:27:40.731Z'},\n",
       " {'id': 3,\n",
       "  'name': 'Mike Ruiz',\n",
       "  'image_url': 'https://vignette3.wikia.nocookie.net/logosrupaulsdragrace/images/7/7c/Mike_Ruiz.jpg/revision/latest/scale-to-width-down/350?cb=20110731184513',\n",
       "  'bio': 'Photographer',\n",
       "  'type': 'regular',\n",
       "  'createdAt': '2017-08-22T00:46:35.279Z',\n",
       "  'updatedAt': '2017-08-22T00:46:35.279Z'},\n",
       " {'id': 4,\n",
       "  'name': 'Michelle Williams',\n",
       "  'image_url': 'https://upload.wikimedia.org/wikipedia/commons/thumb/a/a0/Michelle_Williams_2015.jpg/220px-Michelle_Williams_2015.jpg',\n",
       "  'bio': 'Singer',\n",
       "  'type': 'guest',\n",
       "  'createdAt': '2017-08-22T00:49:01.253Z',\n",
       "  'updatedAt': '2017-08-22T00:49:01.253Z'},\n",
       " {'id': 5,\n",
       "  'name': 'Frank Gatson, Jr.',\n",
       "  'image_url': None,\n",
       "  'bio': 'Choreographer and Director',\n",
       "  'type': 'guest',\n",
       "  'createdAt': '2017-08-22T00:51:15.898Z',\n",
       "  'updatedAt': '2017-08-22T00:51:15.898Z'},\n",
       " {'id': 6,\n",
       "  'name': 'Debra Wilson',\n",
       "  'image_url': 'https://upload.wikimedia.org/wikipedia/commons/thumb/6/66/Debra_Wilson_Skelton_2010.jpg/220px-Debra_Wilson_Skelton_2010.jpg',\n",
       "  'bio': 'Actress and Comedian',\n",
       "  'type': 'guest',\n",
       "  'createdAt': '2017-08-22T00:52:23.876Z',\n",
       "  'updatedAt': '2017-08-22T00:52:23.876Z'},\n",
       " {'id': 7,\n",
       "  'name': 'Howard Bragman',\n",
       "  'image_url': None,\n",
       "  'bio': 'Public Relations',\n",
       "  'type': 'guest',\n",
       "  'createdAt': '2017-08-22T00:53:06.547Z',\n",
       "  'updatedAt': '2017-08-22T00:53:06.547Z'},\n",
       " {'id': 8,\n",
       "  'name': 'Jenny Shimizu',\n",
       "  'image_url': 'https://upload.wikimedia.org/wikipedia/commons/thumb/9/9d/Jenny_Shimizu.jpg/175px-Jenny_Shimizu.jpg',\n",
       "  'bio': 'Model and Actress',\n",
       "  'type': 'guest',\n",
       "  'createdAt': '2017-08-22T00:55:31.608Z',\n",
       "  'updatedAt': '2017-08-22T00:55:31.608Z'},\n",
       " {'id': 9,\n",
       "  'name': 'Gordon Espinet',\n",
       "  'image_url': None,\n",
       "  'bio': 'Makeup Artistry, MAC Cosmetics',\n",
       "  'type': 'guest',\n",
       "  'createdAt': '2017-08-22T00:56:25.421Z',\n",
       "  'updatedAt': '2017-08-22T00:56:25.421Z'},\n",
       " {'id': 10,\n",
       "  'name': 'Lucy Lawless',\n",
       "  'image_url': 'https://upload.wikimedia.org/wikipedia/commons/thumb/1/14/Lucy_Lawless_by_Gage_Skidmore_2.jpg/220px-Lucy_Lawless_by_Gage_Skidmore_2.jpg',\n",
       "  'bio': 'Actress',\n",
       "  'type': 'guest',\n",
       "  'createdAt': '2017-08-22T00:57:39.975Z',\n",
       "  'updatedAt': '2017-08-22T00:57:39.975Z'},\n",
       " {'id': 11,\n",
       "  'name': 'Robin Antin',\n",
       "  'image_url': 'https://upload.wikimedia.org/wikipedia/commons/thumb/2/24/Robin_Antin.jpg/200px-Robin_Antin.jpg',\n",
       "  'bio': 'Singer',\n",
       "  'type': 'guest',\n",
       "  'createdAt': '2017-08-22T00:58:33.516Z',\n",
       "  'updatedAt': '2017-08-22T00:58:33.516Z'},\n",
       " {'id': 12,\n",
       "  'name': 'Jeffrey Moran',\n",
       "  'image_url': None,\n",
       "  'bio': 'Image Consultant',\n",
       "  'type': 'guest',\n",
       "  'createdAt': '2017-08-22T01:00:44.596Z',\n",
       "  'updatedAt': '2017-08-22T01:00:44.596Z'},\n",
       " {'id': 13,\n",
       "  'name': 'María Conchita Alonso',\n",
       "  'image_url': 'https://upload.wikimedia.org/wikipedia/commons/thumb/2/23/Maria_Conchita_Alonso_LA_Pride_2011.jpg/220px-Maria_Conchita_Alonso_LA_Pride_2011.jpg',\n",
       "  'bio': 'Singer/Songwriter and Actress',\n",
       "  'type': 'guest',\n",
       "  'createdAt': '2017-08-22T01:08:13.175Z',\n",
       "  'updatedAt': '2017-08-22T01:08:13.175Z'},\n",
       " {'id': 14,\n",
       "  'name': 'Kathy Griffin',\n",
       "  'image_url': 'https://upload.wikimedia.org/wikipedia/commons/thumb/8/8a/Kathy_Griffin_2015_TCA_Press_Tour_%28cropped%29.jpg/220px-Kathy_Griffin_2015_TCA_Press_Tour_%28cropped%29.jpg',\n",
       "  'bio': 'Actress, Comedian, Writer, Producer, and Television Host',\n",
       "  'type': 'guest',\n",
       "  'createdAt': '2017-08-22T01:11:10.176Z',\n",
       "  'updatedAt': '2017-08-22T01:11:10.176Z'},\n",
       " {'id': 15,\n",
       "  'name': 'Kim Coles',\n",
       "  'image_url': 'https://upload.wikimedia.org/wikipedia/commons/thumb/3/35/Kim_Coles.jpg/220px-Kim_Coles.jpg',\n",
       "  'bio': 'Actress, Comedian and Gameshow Host',\n",
       "  'type': 'guest',\n",
       "  'createdAt': '2017-08-22T01:13:00.823Z',\n",
       "  'updatedAt': '2017-08-22T01:13:00.823Z'},\n",
       " {'id': 16,\n",
       "  'name': 'Dita Von Teese',\n",
       "  'image_url': 'https://upload.wikimedia.org/wikipedia/commons/thumb/6/6f/Dita_Von_Teese_at_Cannes_2007.jpg/220px-Dita_Von_Teese_at_Cannes_2007.jpg',\n",
       "  'bio': 'Burlesque Dancer, Model, Costume Designer',\n",
       "  'type': 'guest',\n",
       "  'createdAt': '2017-08-22T01:14:23.109Z',\n",
       "  'updatedAt': '2017-08-22T01:14:23.109Z'},\n",
       " {'id': 17,\n",
       "  'name': 'Kathy Najimy',\n",
       "  'image_url': 'https://upload.wikimedia.org/wikipedia/commons/thumb/3/3c/Kathy_Najimy.jpg/220px-Kathy_Najimy.jpg',\n",
       "  'bio': 'Actress and Comedian',\n",
       "  'type': 'guest',\n",
       "  'createdAt': '2017-08-22T01:16:00.413Z',\n",
       "  'updatedAt': '2017-08-22T01:16:00.413Z'},\n",
       " {'id': 18,\n",
       "  'name': 'Tanya Tucker',\n",
       "  'image_url': 'https://upload.wikimedia.org/wikipedia/commons/thumb/7/77/Tanya_Tucker.png/250px-Tanya_Tucker.png',\n",
       "  'bio': 'Country Music Artist',\n",
       "  'type': 'guest',\n",
       "  'createdAt': '2017-08-22T01:18:00.077Z',\n",
       "  'updatedAt': '2017-08-22T01:18:00.077Z'},\n",
       " {'id': 19,\n",
       "  'name': 'Lisa Rinna',\n",
       "  'image_url': 'https://upload.wikimedia.org/wikipedia/commons/d/d2/Lisa_Rinna6crop.jpg',\n",
       "  'bio': 'Actress and Television Host',\n",
       "  'type': 'guest',\n",
       "  'createdAt': '2017-08-22T01:19:31.389Z',\n",
       "  'updatedAt': '2017-08-22T01:19:31.389Z'},\n",
       " {'id': 20,\n",
       "  'name': 'Niecy Nash',\n",
       "  'image_url': 'https://upload.wikimedia.org/wikipedia/commons/thumb/b/b7/Niecy_Nash_2010.jpg/220px-Niecy_Nash_2010.jpg',\n",
       "  'bio': 'Comedian, Model, Actress, and Producer',\n",
       "  'type': 'guest',\n",
       "  'createdAt': '2017-08-22T01:20:31.627Z',\n",
       "  'updatedAt': '2017-08-22T01:20:31.627Z'},\n",
       " {'id': 21,\n",
       "  'name': 'Mathu Andersen',\n",
       "  'bio': 'Makeup Artist',\n",
       "  'img_url': 'https://vignette1.wikia.nocookie.net/logosrupaulsdragrace/images/9/95/Mathu_Andersen.jpeg/revision/latest/scale-to-width-down/350?cb=20160415221021',\n",
       "  'type': 'guest',\n",
       "  'episodes': [{'id': 21,\n",
       "    'title': 'Here Comes the Bride',\n",
       "    'episodeInSeason': 5,\n",
       "    'seasonId': 2,\n",
       "    'airDate': '2010-03-01T00:00:00.000Z'}]},\n",
       " {'id': 25,\n",
       "  'name': 'Gigi Levangie Grazer',\n",
       "  'bio': 'Novelist, Screenwriter, and Producer',\n",
       "  'img_url': None,\n",
       "  'type': 'guest',\n",
       "  'episodes': [{'id': 23,\n",
       "    'title': 'Once Upon a Queen',\n",
       "    'episodeInSeason': 7,\n",
       "    'seasonId': 2,\n",
       "    'airDate': '2010-03-22T00:00:00.000Z'}]},\n",
       " {'id': 26,\n",
       "  'name': 'Jackie Collins',\n",
       "  'bio': 'Romance Novelist',\n",
       "  'img_url': 'https://upload.wikimedia.org/wikipedia/commons/thumb/2/21/Jackie_Collins.jpg/220px-Jackie_Collins.jpg',\n",
       "  'type': 'guest',\n",
       "  'episodes': [{'id': 23,\n",
       "    'title': 'Once Upon a Queen',\n",
       "    'episodeInSeason': 7,\n",
       "    'seasonId': 2,\n",
       "    'airDate': '2010-03-22T00:00:00.000Z'}]},\n",
       " {'id': 27,\n",
       "  'name': 'Debbie Reynolds',\n",
       "  'bio': 'Actress',\n",
       "  'img_url': 'https://upload.wikimedia.org/wikipedia/commons/thumb/d/d5/Debbie_Reynolds_33.jpg/220px-Debbie_Reynolds_33.jpg',\n",
       "  'type': 'guest',\n",
       "  'episodes': [{'id': 24,\n",
       "    'title': 'Golden Gals',\n",
       "    'episodeInSeason': 8,\n",
       "    'seasonId': 2,\n",
       "    'airDate': '2010-03-29T00:00:00.000Z'}]},\n",
       " {'id': 28,\n",
       "  'name': 'Cloris Leachman',\n",
       "  'bio': 'Actress',\n",
       "  'img_url': 'https://upload.wikimedia.org/wikipedia/commons/thumb/2/22/Cloris_Leachman_1970.JPG/220px-Cloris_Leachman_1970.JPG',\n",
       "  'type': 'guest',\n",
       "  'episodes': [{'id': 24,\n",
       "    'title': 'Golden Gals',\n",
       "    'episodeInSeason': 8,\n",
       "    'seasonId': 2,\n",
       "    'airDate': '2010-03-29T00:00:00.000Z'}]},\n",
       " {'id': 29,\n",
       "  'name': 'Toni Ko',\n",
       "  'bio': 'NYX Cosmetics Founder',\n",
       "  'img_url': None,\n",
       "  'type': 'guest',\n",
       "  'episodes': [{'id': 24,\n",
       "    'title': 'Golden Gals',\n",
       "    'episodeInSeason': 8,\n",
       "    'seasonId': 2,\n",
       "    'airDate': '2010-03-29T00:00:00.000Z'}]},\n",
       " {'id': 30,\n",
       "  'name': \"Tatum O'Neal\",\n",
       "  'bio': 'Actress and Author',\n",
       "  'img_url': 'https://upload.wikimedia.org/wikipedia/commons/thumb/8/88/Tatum_O%27Neal_-_November_2014_%28cropped%29.jpg/220px-Tatum_O%27Neal_-_November_2014_%28cropped%29.jpg',\n",
       "  'type': 'guest',\n",
       "  'episodes': [{'id': 25,\n",
       "    'title': 'The Diva Awards',\n",
       "    'episodeInSeason': 9,\n",
       "    'seasonId': 2,\n",
       "    'airDate': '2010-04-12T00:00:00.000Z'}]},\n",
       " {'id': 31,\n",
       "  'name': 'Marissa Jaret Winokur',\n",
       "  'bio': 'Actress',\n",
       "  'img_url': 'https://upload.wikimedia.org/wikipedia/commons/thumb/5/51/Marissa_Jaret_Winokur.jpg/220px-Marissa_Jaret_Winokur.jpg',\n",
       "  'type': 'guest',\n",
       "  'episodes': [{'id': 25,\n",
       "    'title': 'The Diva Awards',\n",
       "    'episodeInSeason': 9,\n",
       "    'seasonId': 2,\n",
       "    'airDate': '2010-04-12T00:00:00.000Z'}]},\n",
       " {'id': 32,\n",
       "  'name': 'Bruce Vilanch',\n",
       "  'bio': 'Comedy Writer, Songwriter, and Actor',\n",
       "  'img_url': 'https://upload.wikimedia.org/wikipedia/commons/thumb/a/af/Brucevilanch.jpg/165px-Brucevilanch.jpg',\n",
       "  'type': 'guest',\n",
       "  'episodes': [{'id': 30,\n",
       "    'title': 'The Queen Who Mopped Xmas',\n",
       "    'episodeInSeason': 2,\n",
       "    'seasonId': 3,\n",
       "    'airDate': '2011-01-24T00:00:00.000Z'},\n",
       "   {'id': 87,\n",
       "    'title': 'Queens of Comedy',\n",
       "    'episodeInSeason': 8,\n",
       "    'seasonId': 7,\n",
       "    'airDate': '2014-04-07T00:00:00.000Z'}]},\n",
       " {'id': 33,\n",
       "  'name': 'Vanessa Williams',\n",
       "  'bio': 'Actress, Singer, and former Miss America',\n",
       "  'img_url': 'https://upload.wikimedia.org/wikipedia/commons/thumb/a/ae/VanessaWilliamsHWoFMar2012.jpg/220px-VanessaWilliamsHWoFMar2012.jpg',\n",
       "  'type': 'guest',\n",
       "  'episodes': [{'id': 30,\n",
       "    'title': 'The Queen Who Mopped Xmas',\n",
       "    'episodeInSeason': 2,\n",
       "    'seasonId': 3,\n",
       "    'airDate': '2011-01-24T00:00:00.000Z'}]},\n",
       " {'id': 34,\n",
       "  'name': 'Lily Tomlin',\n",
       "  'bio': 'Actress and Comedian',\n",
       "  'img_url': 'https://upload.wikimedia.org/wikipedia/commons/thumb/6/63/Lily_Tomlin_2014.jpg/220px-Lily_Tomlin_2014.jpg',\n",
       "  'type': 'guest',\n",
       "  'episodes': [{'id': 31,\n",
       "    'title': 'Queens in Space',\n",
       "    'episodeInSeason': 3,\n",
       "    'seasonId': 3,\n",
       "    'airDate': '2011-01-31T00:00:00.000Z'}]},\n",
       " {'id': 35,\n",
       "  'name': 'Alessandra Torresani',\n",
       "  'bio': 'Actress',\n",
       "  'img_url': 'https://upload.wikimedia.org/wikipedia/commons/thumb/2/24/AlessandraTorresaniApr09.jpg/250px-AlessandraTorresaniApr09.jpg',\n",
       "  'type': 'guest',\n",
       "  'episodes': [{'id': 31,\n",
       "    'title': 'Queens in Space',\n",
       "    'episodeInSeason': 3,\n",
       "    'seasonId': 3,\n",
       "    'airDate': '2011-01-31T00:00:00.000Z'}]},\n",
       " {'id': 36,\n",
       "  'name': 'LaToya Jackson',\n",
       "  'bio': 'Singer',\n",
       "  'img_url': 'https://upload.wikimedia.org/wikipedia/commons/thumb/a/ab/La_Toya_Jackson_cropped.jpg/220px-La_Toya_Jackson_cropped.jpg',\n",
       "  'type': 'guest',\n",
       "  'episodes': [{'id': 32,\n",
       "    'title': 'Totally Leotarded',\n",
       "    'episodeInSeason': 4,\n",
       "    'seasonId': 3,\n",
       "    'airDate': '2011-02-07T00:00:00.000Z'},\n",
       "   {'id': 41,\n",
       "    'title': 'Make Dat Money',\n",
       "    'episodeInSeason': 13,\n",
       "    'seasonId': 3,\n",
       "    'airDate': '2011-04-11T00:00:00.000Z'},\n",
       "   {'id': 70,\n",
       "    'title': 'Can I Get An Amen?',\n",
       "    'episodeInSeason': 6,\n",
       "    'seasonId': 6,\n",
       "    'airDate': '2013-03-04T00:00:00.000Z'}]},\n",
       " {'id': 37,\n",
       "  'name': 'Susan Powter',\n",
       "  'bio': 'Motivational Speaker and Fitness Guru',\n",
       "  'img_url': None,\n",
       "  'type': 'guest',\n",
       "  'episodes': [{'id': 32,\n",
       "    'title': 'Totally Leotarded',\n",
       "    'episodeInSeason': 4,\n",
       "    'seasonId': 3,\n",
       "    'airDate': '2011-02-07T00:00:00.000Z'}]},\n",
       " {'id': 38,\n",
       "  'name': 'Billy B',\n",
       "  'bio': 'Makeup Artist',\n",
       "  'img_url': 'https://images-na.ssl-images-amazon.com/images/M/MV5BMTM1MjA0Njg1N15BMl5BanBnXkFtZTcwMDEwMzIzMQ@@._V1_.jpg',\n",
       "  'type': 'interim',\n",
       "  'episodes': [{'id': 32,\n",
       "    'title': 'Totally Leotarded',\n",
       "    'episodeInSeason': 4,\n",
       "    'seasonId': 3,\n",
       "    'airDate': '2011-02-07T00:00:00.000Z'},\n",
       "   {'id': 33,\n",
       "    'title': 'QNN News',\n",
       "    'episodeInSeason': 5,\n",
       "    'seasonId': 3,\n",
       "    'airDate': '2011-02-14T00:00:00.000Z'},\n",
       "   {'id': 35,\n",
       "    'title': 'Face, Face, Face of Cakes',\n",
       "    'episodeInSeason': 7,\n",
       "    'seasonId': 3,\n",
       "    'airDate': '2011-02-28T00:00:00.000Z'},\n",
       "   {'id': 36,\n",
       "    'title': 'Ru Ha Ha',\n",
       "    'episodeInSeason': 8,\n",
       "    'seasonId': 3,\n",
       "    'airDate': '2011-03-07T00:00:00.000Z'},\n",
       "   {'id': 48,\n",
       "    'title': 'Queens Behind Bars',\n",
       "    'episodeInSeason': 4,\n",
       "    'seasonId': 4,\n",
       "    'airDate': '2012-02-20T00:00:00.000Z'},\n",
       "   {'id': 50,\n",
       "    'title': 'Float Your Boat',\n",
       "    'episodeInSeason': 6,\n",
       "    'seasonId': 4,\n",
       "    'airDate': '2012-03-05T00:00:00.000Z'}]},\n",
       " {'id': 39,\n",
       "  'name': 'Margaret Cho',\n",
       "  'bio': 'Actress and Comedian',\n",
       "  'img_url': 'https://en.wikipedia.org/wiki/File:Margaret_Cho,_2011_Cannes_(crop).png',\n",
       "  'type': 'guest',\n",
       "  'episodes': [{'id': 40,\n",
       "    'title': 'Jocks in Frocks',\n",
       "    'episodeInSeason': 12,\n",
       "    'seasonId': 3,\n",
       "    'airDate': '2011-04-04T00:00:00.000Z'}]},\n",
       " {'id': 40,\n",
       "  'name': 'Eliza Dushku',\n",
       "  'bio': 'Actress',\n",
       "  'img_url': 'https://en.wikipedia.org/wiki/File:Eliza_Dushku_2,_2012.jpg',\n",
       "  'type': 'guest',\n",
       "  'episodes': [{'id': 35,\n",
       "    'title': 'Face, Face, Face of Cakes',\n",
       "    'episodeInSeason': 7,\n",
       "    'seasonId': 3,\n",
       "    'airDate': '2011-02-28T00:00:00.000Z'}]},\n",
       " {'id': 41,\n",
       "  'name': 'Carmen Electra',\n",
       "  'bio': 'Actress',\n",
       "  'img_url': 'https://upload.wikimedia.org/wikipedia/commons/thumb/b/bb/Carmen_Electra_2013.jpg/220px-Carmen_Electra_2013.jpg',\n",
       "  'type': 'guest',\n",
       "  'episodes': [{'id': 38,\n",
       "    'title': 'RuPaul-a-Palooza',\n",
       "    'episodeInSeason': 10,\n",
       "    'seasonId': 3,\n",
       "    'airDate': '2011-03-21T00:00:00.000Z'}]},\n",
       " {'id': 42,\n",
       "  'name': 'Fantasia Barrino',\n",
       "  'bio': 'Singer, Actress, and Author',\n",
       "  'img_url': 'https://en.wikipedia.org/wiki/File:Fantasia_Barrino.jpg',\n",
       "  'type': 'guest',\n",
       "  'episodes': [{'id': 39,\n",
       "    'title': \"RuPaul's Hair Extravaganza\",\n",
       "    'episodeInSeason': 11,\n",
       "    'seasonId': 3,\n",
       "    'airDate': '2011-03-28T00:00:00.000Z'}]},\n",
       " {'error': {'message': 'internal server error. Please report a bug or try again later'}},\n",
       " {'error': {'message': 'internal server error. Please report a bug or try again later'}},\n",
       " {'error': {'message': 'internal server error. Please report a bug or try again later'}},\n",
       " {'id': 46,\n",
       "  'name': 'Debbie Matenopoulos',\n",
       "  'bio': 'Television Host',\n",
       "  'img_url': 'NULL',\n",
       "  'type': 'guest',\n",
       "  'episodes': [{'id': 33,\n",
       "    'title': 'QNN News',\n",
       "    'episodeInSeason': 5,\n",
       "    'seasonId': 3,\n",
       "    'airDate': '2011-02-14T00:00:00.000Z'}]},\n",
       " {'id': 47,\n",
       "  'name': 'Wayne Brady',\n",
       "  'bio': 'Actor, Comedian, and Singer',\n",
       "  'img_url': 'https://upload.wikimedia.org/wikipedia/commons/thumb/b/bb/Wayne_Brady_2015.jpg/220px-Wayne_Brady_2015.jpg',\n",
       "  'type': 'guest',\n",
       "  'episodes': [{'id': 39,\n",
       "    'title': \"RuPaul's Hair Extravaganza\",\n",
       "    'episodeInSeason': 11,\n",
       "    'seasonId': 3,\n",
       "    'airDate': '2011-03-28T00:00:00.000Z'}]},\n",
       " {'id': 48,\n",
       "  'name': 'Arden Myrin',\n",
       "  'bio': 'Comedian, Former Cast Member of MADtv',\n",
       "  'img_url': 'https://en.wikipedia.org/wiki/File:Arden_V._Myrin.jpg',\n",
       "  'type': 'guest',\n",
       "  'episodes': [{'id': 36,\n",
       "    'title': 'Ru Ha Ha',\n",
       "    'episodeInSeason': 8,\n",
       "    'seasonId': 3,\n",
       "    'airDate': '2011-03-07T00:00:00.000Z'}]},\n",
       " {'id': 49,\n",
       "  'name': 'Sharon Osbourne',\n",
       "  'bio': 'Television Host and Reality Television Personality',\n",
       "  'img_url': 'https://en.wikipedia.org/wiki/File:Sharon_Osbourne_2,_2012.jpg',\n",
       "  'type': 'guest',\n",
       "  'episodes': [{'id': 40,\n",
       "    'title': 'Jocks in Frocks',\n",
       "    'episodeInSeason': 12,\n",
       "    'seasonId': 3,\n",
       "    'airDate': '2011-04-04T00:00:00.000Z'}]},\n",
       " {'id': 50,\n",
       "  'name': 'Amber Rose',\n",
       "  'bio': 'Model',\n",
       "  'img_url': 'https://upload.wikimedia.org/wikipedia/commons/thumb/2/2c/Amber_Rose_-_2014_People_Magazine_Awards_%28cropped%29.jpg/220px-Amber_Rose_-_2014_People_Magazine_Awards_%28cropped%29.jpg',\n",
       "  'type': 'guest',\n",
       "  'episodes': [{'id': 34,\n",
       "    'title': 'The Snatch Game',\n",
       "    'episodeInSeason': 6,\n",
       "    'seasonId': 3,\n",
       "    'airDate': '2011-02-21T00:00:00.000Z'}]}]"
      ]
     },
     "execution_count": 104,
     "metadata": {},
     "output_type": "execute_result"
    }
   ],
   "source": [
    "judges"
   ]
  },
  {
   "cell_type": "code",
   "execution_count": 109,
   "metadata": {},
   "outputs": [
    {
     "data": {
      "text/plain": [
       "'regular'"
      ]
     },
     "execution_count": 109,
     "metadata": {},
     "output_type": "execute_result"
    }
   ],
   "source": [
    "judges[0]['type']"
   ]
  },
  {
   "cell_type": "code",
   "execution_count": 118,
   "metadata": {},
   "outputs": [],
   "source": [
    "## id = 43-45 ('internal server error')\n",
    "judge_types = []\n",
    "for judge in judges:\n",
    "    if 'type' in judge.keys():\n",
    "        judge_types.append(judge['type'])\n",
    "    else: \n",
    "        continue"
   ]
  },
  {
   "cell_type": "code",
   "execution_count": 121,
   "metadata": {},
   "outputs": [
    {
     "name": "stdout",
     "output_type": "stream",
     "text": [
      "3 types of judge\n"
     ]
    }
   ],
   "source": [
    "# count types of judge\n",
    "print(f\"{len(set(judge_types))} types of judge\")"
   ]
  },
  {
   "cell_type": "markdown",
   "metadata": {},
   "source": [
    "### Web Scraping (15 Minutes)\n",
    "Scrape the website [http://quotes.toscrape.com/](http://quotes.toscrape.com/).  Turn each quote on the page into a Pandas dataframe consisting of two columns: the author of the quote and the quote itself. The final result should be a dataframe of 10 rows (not counting header) and 2 columns (not counting index)."
   ]
  },
  {
   "cell_type": "code",
   "execution_count": null,
   "metadata": {},
   "outputs": [],
   "source": []
  },
  {
   "cell_type": "markdown",
   "metadata": {},
   "source": [
    "### NoSQL (10 Minutes)\n",
    "Answer all of the following questions by querying Mongo and manipulating the results in Python\n",
    "1. Load data from `assets/grades.json` into Mongo (this code is written for you)"
   ]
  },
  {
   "cell_type": "code",
   "execution_count": null,
   "metadata": {},
   "outputs": [],
   "source": [
    "# you shouldn't need to edit this cell!\n",
    "with open('assets/grades.jsonl') as f:\n",
    "    # loads() comes from the bson library\n",
    "    file_data = [loads(line) for line in f.readlines()]\n",
    "\n",
    "client = pymongo.MongoClient(\"mongodb://localhost:27017/\")\n",
    "db = client[\"mod2db\"]\n",
    "coll = db[\"testcoll\"]\n",
    "\n",
    "coll.insert_many(file_data)"
   ]
  },
  {
   "cell_type": "markdown",
   "metadata": {},
   "source": [
    "2. How many records are there total?"
   ]
  },
  {
   "cell_type": "code",
   "execution_count": null,
   "metadata": {},
   "outputs": [],
   "source": [
    "# Your code here\n"
   ]
  },
  {
   "cell_type": "markdown",
   "metadata": {},
   "source": [
    "3. How many students have taken the class with `class_id` = **29**?"
   ]
  },
  {
   "cell_type": "code",
   "execution_count": null,
   "metadata": {},
   "outputs": [],
   "source": [
    "# Your code here\n"
   ]
  },
  {
   "cell_type": "markdown",
   "metadata": {},
   "source": [
    "4. Super bonus question: for student **12** in class **23**, what grade did they get on their exam?"
   ]
  },
  {
   "cell_type": "code",
   "execution_count": null,
   "metadata": {},
   "outputs": [],
   "source": [
    "# Your code here\n"
   ]
  },
  {
   "cell_type": "code",
   "execution_count": null,
   "metadata": {},
   "outputs": [],
   "source": [
    "# for when you're done with this portion, this deletes the data we added.\n",
    "client.drop_database(\"mod2db\")"
   ]
  },
  {
   "cell_type": "markdown",
   "metadata": {},
   "source": [
    "## Assessment submission (2 Minutes)\n",
    "Please save your completed file as `mod2-assessment.ipynb` and upload it using [this form](https://docs.google.com/forms/d/e/1FAIpQLSczNVM9Q6Dr3w1YR3kkg4PNaOsfDO-qIvh1wLy6rR0SEwTwIQ/viewform?usp=sf_link)"
   ]
  },
  {
   "cell_type": "code",
   "execution_count": null,
   "metadata": {},
   "outputs": [],
   "source": []
  }
 ],
 "metadata": {
  "kernelspec": {
   "display_name": "Python 3",
   "language": "python",
   "name": "python3"
  },
  "language_info": {
   "codemirror_mode": {
    "name": "ipython",
    "version": 3
   },
   "file_extension": ".py",
   "mimetype": "text/x-python",
   "name": "python",
   "nbconvert_exporter": "python",
   "pygments_lexer": "ipython3",
   "version": "3.7.3"
  }
 },
 "nbformat": 4,
 "nbformat_minor": 2
}
