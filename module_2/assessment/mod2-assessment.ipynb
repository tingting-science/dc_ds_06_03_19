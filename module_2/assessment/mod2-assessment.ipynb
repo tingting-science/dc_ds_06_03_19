{
 "cells": [
  {
   "cell_type": "markdown",
   "metadata": {},
   "source": [
    "## Mod 2 Assessment"
   ]
  },
  {
   "cell_type": "code",
   "execution_count": null,
   "metadata": {},
   "outputs": [],
   "source": [
    "# put all imports here\n",
    "import json\n",
    "import requests\n",
    "import pandas as pd\n",
    "import pymongo\n",
    "import sqlite3\n",
    "from bs4 import BeautifulSoup\n",
    "from bson.json_util import loads"
   ]
  },
  {
   "cell_type": "markdown",
   "metadata": {},
   "source": [
    "### SQL (10 Minutes)\n",
    "There is a sqlite3 database in `assets/books.db`. The SQL to create this is also in `assets/books.sql`, if you want to run it manually (you can also import this using https://sqliteonline.com/, or run the SQL file directly).  Both have the same schema and data.\n",
    "\n",
    "The schema has three tables. You can explore the schema in the fiddle posted above.  Please answer the following questions.\n",
    "\n",
    "1. Connect to the database using sqlite3"
   ]
  },
  {
   "cell_type": "code",
   "execution_count": null,
   "metadata": {},
   "outputs": [],
   "source": [
    "# Your code here"
   ]
  },
  {
   "cell_type": "markdown",
   "metadata": {},
   "source": [
    "2. Querying the DB: how many pages are in the book \"Nine Stories\"?"
   ]
  },
  {
   "cell_type": "code",
   "execution_count": null,
   "metadata": {},
   "outputs": [],
   "source": [
    "# Your code here\n"
   ]
  },
  {
   "cell_type": "markdown",
   "metadata": {},
   "source": [
    "3. How many authors are from the USA?"
   ]
  },
  {
   "cell_type": "code",
   "execution_count": null,
   "metadata": {},
   "outputs": [],
   "source": [
    "# Your code here\n"
   ]
  },
  {
   "cell_type": "markdown",
   "metadata": {},
   "source": [
    "4. How many authors does the book \"Professional ASP.NET 4.5 in C# and VB\" have?"
   ]
  },
  {
   "cell_type": "code",
   "execution_count": null,
   "metadata": {},
   "outputs": [],
   "source": [
    "# Your code here\n"
   ]
  },
  {
   "cell_type": "markdown",
   "metadata": {},
   "source": [
    "5. How many pages total have been written by non-American authors?"
   ]
  },
  {
   "cell_type": "code",
   "execution_count": null,
   "metadata": {},
   "outputs": [],
   "source": [
    "# Your code here\n"
   ]
  },
  {
   "cell_type": "markdown",
   "metadata": {},
   "source": [
    "### Object Oriented Programming (15 Minutes)\n",
    "Below is the stub of some classes. Make the classes adhere to the following rules. The code beneath the cell should  run successfully.\n",
    "1. Force every new instance of `WeWorkMember` to pass in a value to set the attribute `name`.\n",
    "1. Give every new instance of `WeWorkMember` an attribute `caffeinated` that is set to `False`. \n",
    "1. Give `WeWorkMember` an **instance** method called `caffeinate()` that prints out \"Getting coffee!\" and sets the attribute `caffeinated` to `True`.\n",
    "1. Make it so that `Staff` and `Student` inherit from `WeWorkMember`\n",
    "1. Give `Staff` a **static** method called `cheer()` that prints out \"Goooooooo Flatiron Students!\"\n",
    "1. Give `Students` a **class** method called `learn()` that takes in an integer and returns that number +1"
   ]
  },
  {
   "cell_type": "code",
   "execution_count": null,
   "metadata": {},
   "outputs": [],
   "source": [
    "# Modify this cell\n",
    "class WeWorkMember:\n",
    "    pass\n",
    "\n",
    "class Staff:\n",
    "    pass\n",
    "\n",
    "class Student:\n",
    "    pass"
   ]
  },
  {
   "cell_type": "code",
   "execution_count": null,
   "metadata": {},
   "outputs": [],
   "source": [
    "# DO NOT MODIFY this cell. if you want to add more tests, add them in a new cell!\n",
    "try:\n",
    "    nobody = Staff()\n",
    "    raise RuntimeError('Staff needs a name!')\n",
    "except TypeError:\n",
    "    pass\n",
    "\n",
    "andy = Staff('Andy')\n",
    "assert andy.caffeinated is False\n",
    "andy.caffeinate()\n",
    "assert andy.caffeinated is True\n",
    "\n",
    "Staff.cheer()\n",
    "\n",
    "bobby = Student('Bobby Tables')\n",
    "assert bobby.caffeinated is False\n",
    "bobby.caffeinate()\n",
    "assert bobby.caffeinated is True\n",
    "\n",
    "Student.learn(99)"
   ]
  },
  {
   "cell_type": "markdown",
   "metadata": {},
   "source": [
    "### APIs (10 Minutes)\n",
    "Using this API (http://www.nokeynoshade.party/api/judges) about RuPaul's Drag Race (docs: https://drag-race-api.readme.io/docs/get-all-judges), tell me how many judges of each **`type`** there were in the first 50 records the API returns.\n",
    " - the 50 judges will have **`id`** ranging from 1 to 53\n",
    " - you can do the aggregation in pure Python, Pandas, SQL-- whatever's easiest for you"
   ]
  },
  {
   "cell_type": "code",
   "execution_count": null,
   "metadata": {},
   "outputs": [],
   "source": []
  },
  {
   "cell_type": "markdown",
   "metadata": {},
   "source": [
    "### Web Scraping (15 Minutes)\n",
    "Scrape the website [http://quotes.toscrape.com/](http://quotes.toscrape.com/).  Turn each quote on the page into a Pandas dataframe consisting of two columns: the author of the quote and the quote itself. The final result should be a dataframe of 10 rows (not counting header) and 2 columns (not counting index)."
   ]
  },
  {
   "cell_type": "code",
   "execution_count": null,
   "metadata": {},
   "outputs": [],
   "source": []
  },
  {
   "cell_type": "markdown",
   "metadata": {},
   "source": [
    "### NoSQL (10 Minutes)\n",
    "Answer all of the following questions by querying Mongo and manipulating the results in Python\n",
    "1. Load data from `assets/grades.json` into Mongo (this code is written for you)"
   ]
  },
  {
   "cell_type": "code",
   "execution_count": null,
   "metadata": {},
   "outputs": [],
   "source": [
    "# you shouldn't need to edit this cell!\n",
    "with open('assets/grades.jsonl') as f:\n",
    "    # loads() comes from the bson library\n",
    "    file_data = [loads(line) for line in f.readlines()]\n",
    "\n",
    "client = pymongo.MongoClient(\"mongodb://localhost:27017/\")\n",
    "db = client[\"mod2db\"]\n",
    "coll = db[\"testcoll\"]\n",
    "\n",
    "coll.insert_many(file_data)"
   ]
  },
  {
   "cell_type": "markdown",
   "metadata": {},
   "source": [
    "2. How many records are there total?"
   ]
  },
  {
   "cell_type": "code",
   "execution_count": null,
   "metadata": {},
   "outputs": [],
   "source": [
    "# Your code here\n"
   ]
  },
  {
   "cell_type": "markdown",
   "metadata": {},
   "source": [
    "3. How many students have taken the class with `class_id` = **29**?"
   ]
  },
  {
   "cell_type": "code",
   "execution_count": null,
   "metadata": {},
   "outputs": [],
   "source": [
    "# Your code here\n"
   ]
  },
  {
   "cell_type": "markdown",
   "metadata": {},
   "source": [
    "4. Super bonus question: for student **12** in class **23**, what grade did they get on their exam?"
   ]
  },
  {
   "cell_type": "code",
   "execution_count": null,
   "metadata": {},
   "outputs": [],
   "source": [
    "# Your code here\n"
   ]
  },
  {
   "cell_type": "code",
   "execution_count": null,
   "metadata": {},
   "outputs": [],
   "source": [
    "# for when you're done with this portion, this deletes the data we added.\n",
    "client.drop_database(\"mod2db\")"
   ]
  },
  {
   "cell_type": "markdown",
   "metadata": {},
   "source": [
    "## Assessment submission (2 Minutes)\n",
    "Please save your completed file as `mod2-assessment.ipynb` and upload it using [this form](https://docs.google.com/forms/d/e/1FAIpQLSczNVM9Q6Dr3w1YR3kkg4PNaOsfDO-qIvh1wLy6rR0SEwTwIQ/viewform?usp=sf_link)"
   ]
  },
  {
   "cell_type": "code",
   "execution_count": null,
   "metadata": {},
   "outputs": [],
   "source": []
  }
 ],
 "metadata": {
  "kernelspec": {
   "display_name": "Python 3",
   "language": "python",
   "name": "python3"
  },
  "language_info": {
   "codemirror_mode": {
    "name": "ipython",
    "version": 3
   },
   "file_extension": ".py",
   "mimetype": "text/x-python",
   "name": "python",
   "nbconvert_exporter": "python",
   "pygments_lexer": "ipython3",
   "version": "3.7.3"
  }
 },
 "nbformat": 4,
 "nbformat_minor": 2
}
