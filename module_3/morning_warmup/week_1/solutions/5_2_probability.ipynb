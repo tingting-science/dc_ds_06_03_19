{
 "cells": [
  {
   "cell_type": "markdown",
   "metadata": {},
   "source": [
    "1. Calculate the number of possible 5 card hands in a 52-card deck (combinations)."
   ]
  },
  {
   "cell_type": "code",
   "execution_count": 1,
   "metadata": {},
   "outputs": [],
   "source": [
    "import math\n",
    "from itertools import combinations"
   ]
  },
  {
   "cell_type": "code",
   "execution_count": 2,
   "metadata": {},
   "outputs": [
    {
     "data": {
      "text/plain": [
       "2598960.0"
      ]
     },
     "execution_count": 2,
     "metadata": {},
     "output_type": "execute_result"
    }
   ],
   "source": [
    "# The formula for combinations is (n! / (n-k)! * k!). Order is not important for poker hands\n",
    "math.factorial(52) / (math.factorial(5) * math.factorial(52 - 5))"
   ]
  },
  {
   "cell_type": "code",
   "execution_count": 3,
   "metadata": {},
   "outputs": [
    {
     "data": {
      "text/plain": [
       "2598960"
      ]
     },
     "execution_count": 3,
     "metadata": {},
     "output_type": "execute_result"
    }
   ],
   "source": [
    "# you can also use itertools\n",
    "len(list(combinations(range(52), 5)))"
   ]
  },
  {
   "cell_type": "markdown",
   "metadata": {},
   "source": [
    "2. What is the probability of rolling a sum of 9 with 2 dice?"
   ]
  },
  {
   "cell_type": "code",
   "execution_count": 4,
   "metadata": {},
   "outputs": [
    {
     "data": {
      "text/plain": [
       "0.1111111111111111"
      ]
     },
     "execution_count": 4,
     "metadata": {},
     "output_type": "execute_result"
    }
   ],
   "source": [
    "# Total sample space is 6 * 6 = 36\n",
    "# Possible ways to sum to 9 are [(3, 6), (6, 3), (4, 5), (5, 4)]\n",
    "\n",
    "len(set([(3, 6), (6, 3), (4, 5), (5, 4)])) / (6*6)"
   ]
  },
  {
   "cell_type": "markdown",
   "metadata": {},
   "source": [
    "3. What is the probability of getting at least 1 tail if you flip 3 coins in a row?"
   ]
  },
  {
   "cell_type": "code",
   "execution_count": 5,
   "metadata": {},
   "outputs": [
    {
     "data": {
      "text/plain": [
       "0.875"
      ]
     },
     "execution_count": 5,
     "metadata": {},
     "output_type": "execute_result"
    }
   ],
   "source": [
    "# The only way to NOT get at least 1 tail is to get ALL heads, which is (1/2 * 1/2 * 1/2). \n",
    "# Using the law of total probability:\n",
    "\n",
    "1 - (1/2 ** 3)"
   ]
  },
  {
   "cell_type": "markdown",
   "metadata": {},
   "source": [
    "4. We have two identical boxes. The first has 8 black balls and 4 white balls. The second has 2 black balls and 2 white balls. \n",
    "\n",
    "A) If a box is chosen at random, then the ball is chosen randomly, what is the chance that we draw a black ball? "
   ]
  },
  {
   "cell_type": "code",
   "execution_count": 6,
   "metadata": {},
   "outputs": [
    {
     "data": {
      "text/plain": [
       "0.5833333333333333"
      ]
     },
     "execution_count": 6,
     "metadata": {},
     "output_type": "execute_result"
    }
   ],
   "source": [
    "# (P(black) * P(box1)) + (P(black) * P(box2))\n",
    "\n",
    "(8/12 * .5) + (2/4 * .5)"
   ]
  },
  {
   "cell_type": "markdown",
   "metadata": {},
   "source": [
    "B) If we draw a black ball, what is the probability it is from the first box?"
   ]
  },
  {
   "cell_type": "code",
   "execution_count": 7,
   "metadata": {},
   "outputs": [
    {
     "data": {
      "text/plain": [
       "0.5714285714285715"
      ]
     },
     "execution_count": 7,
     "metadata": {},
     "output_type": "execute_result"
    }
   ],
   "source": [
    "# Use Bayes Theorem! Our calculation above is P(black), so we just plug that into our denominator\n",
    "# P(box1|black) = P(box1) * (P(black|box1)) / (P(box1) * P(black / box 1) + P(box 2) * P(black / box 2))\n",
    "\n",
    "(1/2 * 8/12) / (1/2 * 8/12 + 1/2 * 2/4)"
   ]
  }
 ],
 "metadata": {
  "kernelspec": {
   "display_name": "Python 3",
   "language": "python",
   "name": "python3"
  },
  "language_info": {
   "codemirror_mode": {
    "name": "ipython",
    "version": 3
   },
   "file_extension": ".py",
   "mimetype": "text/x-python",
   "name": "python",
   "nbconvert_exporter": "python",
   "pygments_lexer": "ipython3",
   "version": "3.7.3"
  }
 },
 "nbformat": 4,
 "nbformat_minor": 2
}
