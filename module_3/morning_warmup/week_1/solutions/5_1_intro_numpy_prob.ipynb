{
 "cells": [
  {
   "cell_type": "markdown",
   "metadata": {},
   "source": [
    "1. We have a box that contains 40 red balls and 60 white balls. What is the probability to pick a red ball 3 times in a row with replacement (calculated theoretically)?"
   ]
  },
  {
   "cell_type": "code",
   "execution_count": 1,
   "metadata": {},
   "outputs": [
    {
     "data": {
      "text/plain": [
       "0.06400000000000002"
      ]
     },
     "execution_count": 1,
     "metadata": {},
     "output_type": "execute_result"
    }
   ],
   "source": [
    ".4 * .4 * .4"
   ]
  },
  {
   "cell_type": "markdown",
   "metadata": {},
   "source": [
    "2. Now let's answer the same question using a simulation that runs 1\\_000, 10\\_000, and 100\\_000 times and counts how many of those times we draw 3 red balls in a row. Hint: use np.random.rand()"
   ]
  },
  {
   "cell_type": "code",
   "execution_count": 2,
   "metadata": {},
   "outputs": [],
   "source": [
    "import numpy as np\n",
    "import random"
   ]
  },
  {
   "cell_type": "code",
   "execution_count": 3,
   "metadata": {},
   "outputs": [],
   "source": [
    "sink =  {'urn': {'red': 40, 'white': 60}}"
   ]
  },
  {
   "cell_type": "code",
   "execution_count": 4,
   "metadata": {},
   "outputs": [
    {
     "name": "stdout",
     "output_type": "stream",
     "text": [
      "0.06429\n"
     ]
    }
   ],
   "source": [
    "counter = 0\n",
    "three_reds = 0 \n",
    "num_samples = 100000\n",
    "\n",
    "for i in range(num_samples):\n",
    "    prob = np.random.rand()\n",
    "    if prob <= 0.4:\n",
    "    # pick red ball \n",
    "        three_reds += 1\n",
    "        if (three_reds == 3):\n",
    "            counter += 1\n",
    "            three_reds -= 1\n",
    "    else: \n",
    "    # pick white ball\n",
    "        three_reds = 0\n",
    "print(counter / num_samples)"
   ]
  },
  {
   "cell_type": "markdown",
   "metadata": {},
   "source": [
    "3. [Optional] Create a similar simulation that runs without replacement."
   ]
  },
  {
   "cell_type": "code",
   "execution_count": 5,
   "metadata": {},
   "outputs": [
    {
     "name": "stdout",
     "output_type": "stream",
     "text": [
      "100000\n",
      "5.98668\n"
     ]
    }
   ],
   "source": [
    "def pull_3_reds():\n",
    "    counter = 0\n",
    "    three_reds = 0 \n",
    "    num_samples = 100\n",
    "    sink =  {'urn': {'red': 40, 'white': 60}}\n",
    "    prob_red = sink['urn']['red']/(sink['urn']['white']+sink['urn']['red'])\n",
    "    #prob_white = sink['urn']['white']/(sink['urn']['white']+sink['urn']['red'])\n",
    "\n",
    "    #print(prob_red)\n",
    "\n",
    "    for i in range(num_samples):\n",
    "        prob = np.random.rand()\n",
    "        #print(prob)\n",
    "        prob_red = sink['urn']['red']/(sink['urn']['white']+sink['urn']['red'])\n",
    "        if prob <= prob_red:\n",
    "        # pick red ball \n",
    "            sink['urn']['red'] = sink['urn']['red']-1\n",
    "            #print(sink)\n",
    "            three_reds += 1\n",
    "            if (three_reds == 3):\n",
    "                counter += 1\n",
    "                three_reds -= 1\n",
    "        else: \n",
    "        # pick white ball\n",
    "            sink['urn']['white'] = sink['urn']['white']-1\n",
    "            #print(sink)\n",
    "            three_reds = 0\n",
    "\n",
    "    return counter\n",
    "\n",
    "counter_list = []\n",
    "for i in range(100000):\n",
    "    counter_list.append(pull_3_reds())\n",
    "\n",
    "print(len(counter_list))\n",
    "print(np.mean(counter_list))"
   ]
  }
 ],
 "metadata": {
  "kernelspec": {
   "display_name": "Python 3",
   "language": "python",
   "name": "python3"
  },
  "language_info": {
   "codemirror_mode": {
    "name": "ipython",
    "version": 3
   },
   "file_extension": ".py",
   "mimetype": "text/x-python",
   "name": "python",
   "nbconvert_exporter": "python",
   "pygments_lexer": "ipython3",
   "version": "3.7.3"
  }
 },
 "nbformat": 4,
 "nbformat_minor": 2
}
